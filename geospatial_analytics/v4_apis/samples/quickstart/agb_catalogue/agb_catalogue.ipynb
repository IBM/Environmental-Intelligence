{
 "cells": [
  {
   "cell_type": "markdown",
   "metadata": {},
   "source": [
    "# Above Ground Biomass (AGB) Queries and Insights\n",
    "\n",
    "## Overview\n",
    "\n",
    "This notebook provides an overview of Above Ground Biomass (AGB) Catalogue's information and a brief about how to obtain the AGB Data Sets and Data Layers.\n",
    "\n",
    "\n",
    "## Prerequisites\n",
    "\n",
    "All of the documentation and samples we provide are built using Jupyter notebooks.\n",
    "\n",
    "To run the notebooks, below are the basic requirements:\n",
    "\n",
    "* Environmental Intelligence API credentials stored in EIS_API_KEY, EIS_TENANT_ID (or EIS_CLIENT_ID) and EIS_ORG_ID environment variables\n",
    "* A Python3.7 or higher environment\n",
    "* A Jupyter Notebook environment\n",
    "* The latest ibmpairs pip package installed into your Python3 environment.\n",
    "\n",
    "\n",
    "<b>Note:</b> The notebooks include runnable examples but you need to run them in order from top to bottom. This is because there are some lines of set up code, for example, setting authentication credentials, that only appear in the first code cell. We leave them out in the subsequent cells to avoid clutter.\n",
    "\n",
    "\n",
    "## Above Ground Biomass Catalogue\n",
    "\n",
    "#### Data Sets\n",
    "\n",
    "The primary use case of Above Ground Biomass (AGB) is for calculating historic and future carbon units & CO2 capture based on different data layers to generate baseline and predictive results. Above Ground Biomass (AGB) data is generated using GFM models along with data required to create Above Ground Biomass (AGB) predictions.\n",
    "\n",
    "Above Ground Biomass has a Data Set (ID = 38).\n",
    "\n",
    "#### Data Layers\n",
    "\n",
    "There are 2 Data Layers for Above Ground Biomass (AGB) Data Set ( ID=38)\n",
    "- The species-agnostic Above Ground Biomass (AGB) baseline and predictive data layer ( ID=38000 ) \n",
    "- A species-specific Above Ground Biomass (AGB) baseline and predictive data layer ( ID=38002 ) \n",
    "\n",
    "### Setup\n",
    "\n",
    "Before starting, you have to install IBM EI Geospatial python SDK using `pip3 install -U ibmpairs`.\n",
    "\n",
    "<b>Note:</b> To run this notebook seamlessly, you have to first configure your Geospatial Analytics API credentials in a file named `secrets.ini` in the below format:\n",
    "\n",
    "```\n",
    "[EIS]\n",
    "api.host = https://api.ibm.com/geospatial/run/na/core/v3\n",
    "api.key = <Your Geospatial Analytics API key>\n",
    "api.tenant_id = <Your Geospatial Analytics Tenant ID>\n",
    "api.org_id = <Your Geospatial Analytics Org ID>\n",
    "\n",
    "```\n",
    "Keep the secrets.ini file at an appropriate relative location of this notebook. For example, as specified in the below config.\n",
    "\n",
    "```config.read('../../auth/secrets.ini')```"
   ]
  },
  {
   "cell_type": "code",
   "execution_count": null,
   "metadata": {},
   "outputs": [],
   "source": [
    "!pip install ibmpairs"
   ]
  },
  {
   "cell_type": "code",
   "execution_count": 6,
   "metadata": {},
   "outputs": [],
   "source": [
    "# install the EIS SDK if not installed already\n",
    "# pip3 install -U ibmpairs \n",
    "import ibmpairs.client as client\n",
    "import ibmpairs.catalog as catalog\n",
    "import pandas as pd\n",
    "\n",
    "import configparser"
   ]
  },
  {
   "cell_type": "markdown",
   "metadata": {},
   "source": [
    "Now, let's create a client object using the API_KEY, TENANT_ID (or CLIENT_ID) and ORG_ID to create an authenticated HTTP client Authentication token using 'ibmpairs.client' module, to use it in the subsequent steps."
   ]
  },
  {
   "cell_type": "code",
   "execution_count": 7,
   "metadata": {},
   "outputs": [
    {
     "name": "stdout",
     "output_type": "stream",
     "text": [
      "2024-06-19 13:53:57 - paw - INFO - The client authentication method is assumed to be OAuth2.\n",
      "2024-06-19 13:53:57 - paw - INFO - Legacy Environment is False\n",
      "2024-06-19 13:53:57 - paw - INFO - The authentication api key type is assumed to be IBM EIS, because the api key prefix 'PHX' is present.\n",
      "2024-06-19 13:53:59 - paw - INFO - Authentication success.\n",
      "2024-06-19 13:53:59 - paw - INFO - HOST: https://api.ibm.com/geospatial/run/na/core/v3\n"
     ]
    }
   ],
   "source": [
    "config = configparser.RawConfigParser()\n",
    "config.read('../../auth/secrets.ini')\n",
    "\n",
    "# The below line is written so that the table's data won't get truncated.\n",
    "pd.set_option('display.max_colwidth', None)\n",
    "\n",
    "EIS_ORG_ID     = config.get('EIS', 'api.org_id') \n",
    "EIS_TENANT_ID  = config.get('EIS', 'api.tenant_id') \n",
    "EIS_API_KEY    = config.get('EIS', 'api.key')\n",
    "\n",
    "EIS_client_v3 = client.get_client(org_id    = EIS_ORG_ID,\n",
    "                                  tenant_id = EIS_TENANT_ID,\n",
    "                                  api_key   = EIS_API_KEY,\n",
    "                                  version   = 3\n",
    "                                )"
   ]
  },
  {
   "cell_type": "markdown",
   "metadata": {},
   "source": [
    "### Searching the Above Ground Biomass Catalog\n",
    "\n",
    "In order to search the whole catalog for a term, you can use the catalog sub-module and the method search: <br/>\n",
    "\n",
    "`catalog.search()`\n",
    "\n",
    "In the example below, the catalog is searched for all datasets and datalayers that contain references to the sentence <i>Above Ground Biomass inference</i>."
   ]
  },
  {
   "cell_type": "code",
   "execution_count": 8,
   "metadata": {},
   "outputs": [
    {
     "name": "stderr",
     "output_type": "stream",
     "text": [
      "/opt/anaconda3/lib/python3.11/site-packages/urllib3/connectionpool.py:1061: InsecureRequestWarning: Unverified HTTPS request is being made to host 'api.ibm.com'. Adding certificate verification is strongly advised. See: https://urllib3.readthedocs.io/en/1.26.x/advanced-usage.html#ssl-warnings\n",
      "  warnings.warn(\n",
      "/opt/anaconda3/lib/python3.11/site-packages/urllib3/connectionpool.py:1061: InsecureRequestWarning: Unverified HTTPS request is being made to host 'api.ibm.com'. Adding certificate verification is strongly advised. See: https://urllib3.readthedocs.io/en/1.26.x/advanced-usage.html#ssl-warnings\n",
      "  warnings.warn(\n"
     ]
    },
    {
     "data": {
      "text/html": [
       "<div>\n",
       "<style scoped>\n",
       "    .dataframe tbody tr th:only-of-type {\n",
       "        vertical-align: middle;\n",
       "    }\n",
       "\n",
       "    .dataframe tbody tr th {\n",
       "        vertical-align: top;\n",
       "    }\n",
       "\n",
       "    .dataframe thead th {\n",
       "        text-align: right;\n",
       "    }\n",
       "</style>\n",
       "<table border=\"1\" class=\"dataframe\">\n",
       "  <thead>\n",
       "    <tr style=\"text-align: right;\">\n",
       "      <th></th>\n",
       "      <th>dataset_id</th>\n",
       "      <th>data_layer_id</th>\n",
       "      <th>data_layer_name</th>\n",
       "      <th>data_layer_description_short</th>\n",
       "      <th>data_layer_description_long</th>\n",
       "      <th>data_layer_level</th>\n",
       "      <th>data_layer_type</th>\n",
       "      <th>data_layer_unit</th>\n",
       "      <th>data_set_id</th>\n",
       "      <th>data_set_name</th>\n",
       "      <th>data_set_description_short</th>\n",
       "      <th>data_set_description_long</th>\n",
       "    </tr>\n",
       "  </thead>\n",
       "  <tbody>\n",
       "    <tr>\n",
       "      <th>0</th>\n",
       "      <td>38</td>\n",
       "      <td>38002</td>\n",
       "      <td>tree species above ground biomass natural</td>\n",
       "      <td></td>\n",
       "      <td>Tree species specific above ground biomass inference model output base on natural growth of existing trees in an area</td>\n",
       "      <td>21</td>\n",
       "      <td>Raster</td>\n",
       "      <td></td>\n",
       "      <td>38</td>\n",
       "      <td>Above Ground Biomass</td>\n",
       "      <td>Above Ground Biomass related data</td>\n",
       "      <td>Above Ground Biomass data generated using GFM models along with data required to create AGB predictions</td>\n",
       "    </tr>\n",
       "    <tr>\n",
       "      <th>1</th>\n",
       "      <td>38</td>\n",
       "      <td>38000</td>\n",
       "      <td>above ground biomass</td>\n",
       "      <td></td>\n",
       "      <td>Above ground biomass inference model output in megagrams of carbon per hectare or tonnes of carbon per hectare. Permanent water is set to 0 Mg C/ha.</td>\n",
       "      <td>21</td>\n",
       "      <td>Raster</td>\n",
       "      <td></td>\n",
       "      <td>38</td>\n",
       "      <td>Above Ground Biomass</td>\n",
       "      <td>Above Ground Biomass related data</td>\n",
       "      <td>Above Ground Biomass data generated using GFM models along with data required to create AGB predictions</td>\n",
       "    </tr>\n",
       "  </tbody>\n",
       "</table>\n",
       "</div>"
      ],
      "text/plain": [
       "  dataset_id data_layer_id                            data_layer_name  \\\n",
       "0         38         38002  tree species above ground biomass natural   \n",
       "1         38         38000                       above ground biomass   \n",
       "\n",
       "  data_layer_description_short  \\\n",
       "0                                \n",
       "1                                \n",
       "\n",
       "                                                                                                                            data_layer_description_long  \\\n",
       "0                                 Tree species specific above ground biomass inference model output base on natural growth of existing trees in an area   \n",
       "1  Above ground biomass inference model output in megagrams of carbon per hectare or tonnes of carbon per hectare. Permanent water is set to 0 Mg C/ha.   \n",
       "\n",
       "   data_layer_level data_layer_type data_layer_unit data_set_id  \\\n",
       "0                21          Raster                          38   \n",
       "1                21          Raster                          38   \n",
       "\n",
       "          data_set_name         data_set_description_short  \\\n",
       "0  Above Ground Biomass  Above Ground Biomass related data   \n",
       "1  Above Ground Biomass  Above Ground Biomass related data   \n",
       "\n",
       "                                                                                 data_set_description_long  \n",
       "0  Above Ground Biomass data generated using GFM models along with data required to create AGB predictions  \n",
       "1  Above Ground Biomass data generated using GFM models along with data required to create AGB predictions  "
      ]
     },
     "execution_count": 8,
     "metadata": {},
     "output_type": "execute_result"
    }
   ],
   "source": [
    "catalog.search(\"Above Ground Biomass inference\", verify=False)"
   ]
  },
  {
   "cell_type": "markdown",
   "metadata": {},
   "source": [
    "#### Understanding the sample\n",
    "\n",
    "<b>Code:</b>\n",
    "\n",
    "The above code block, gets the necessary secrets required to communicate with Geospatial Analytics APIs using EIS_ORG_ID, EIS_TENANT_ID and EIS_API_KEY. These details are setup in the secrets.ini. Once the secrets are setup, a request to catalogue's search is made with the information that needs to be searched, in this case <i>Above Ground Biomass inference</i> which then displays the information that is retrieved from Catalogue search.\n",
    "\n",
    "\n",
    "\n",
    "<b>Output:</b>\n",
    "\n",
    "The output contains all the information pertaining to Above Ground Biomass (AGB) Data Sets and Data Layers that is retrieved from Catalogue containing the sentence <i>Above Ground Biomass inference</i> being displayed in a tabular form.\n",
    "\n",
    "And these are the column definitions:\n",
    "\n",
    "- `dataset_id`: Specifies the ID of the Data Set that's being retrived which in this case is '38', Above Ground Biomass.\n",
    "- `daya_layer_id`: Specifies the ID of the data layer in the data set. We have 2 Data Layers in the Data Set 38 which are 38000 and 38002 which specifies Above Ground Biomass - Species agnostic and Above Ground Biomass - Species specific respectively.\n",
    "- There are other self explanatory columns as well which defines the data_set_description (short and long), data_layer_descriptions (short and long) etc.\n",
    "\n",
    "The above Data Sets and Data Layers which are retrived will be used in the subsequent queries as described below."
   ]
  },
  {
   "cell_type": "markdown",
   "metadata": {},
   "source": [
    "### Get the AGB Dataset Information\n",
    "\n",
    "The full metadata for the dataset or datalayer can be retrieved by subsequent methods, e.g.:\n",
    "\n",
    "The below code returns the information of the data set with the id 38."
   ]
  },
  {
   "cell_type": "code",
   "execution_count": 9,
   "metadata": {},
   "outputs": [
    {
     "data": {
      "text/plain": [
       "{\n",
       "    \"category\": {\n",
       "        \"id\": 4,\n",
       "        \"name\": \"Analytics\"\n",
       "    },\n",
       "    \"created_at\": \"1706718797769\",\n",
       "    \"crs\": \"EPSG:4326\",\n",
       "    \"data_set_response\": {},\n",
       "    \"data_source_links\": [],\n",
       "    \"data_source_name\": \"GFM\",\n",
       "    \"description_links\": [],\n",
       "    \"description_long\": \"Above Ground Biomass data generated using GFM models along with data required to create AGB predictions\",\n",
       "    \"description_short\": \"Above Ground Biomass related data\",\n",
       "    \"id\": \"38\",\n",
       "    \"interpolation\": \"near\",\n",
       "    \"key\": \"above-ground-biomass\",\n",
       "    \"latitude_max\": 90.0,\n",
       "    \"latitude_min\": -90.0,\n",
       "    \"level\": 21,\n",
       "    \"longitude_max\": 180.0,\n",
       "    \"longitude_min\": -180.0,\n",
       "    \"max_layers\": 10,\n",
       "    \"name\": \"Above Ground Biomass\",\n",
       "    \"permanence\": true,\n",
       "    \"properties\": {},\n",
       "    \"rating\": 1.0,\n",
       "    \"spatial_coverage\": {},\n",
       "    \"status\": \"Active\",\n",
       "    \"updated_at\": \"1706718797769\"\n",
       "}"
      ]
     },
     "execution_count": 9,
     "metadata": {},
     "output_type": "execute_result"
    }
   ],
   "source": [
    "catalog.get_data_set(id  = \"38\")"
   ]
  },
  {
   "cell_type": "markdown",
   "metadata": {},
   "source": [
    "#### Understanding the sample\n",
    "\n",
    "<b>Code:</b>\n",
    "\n",
    "The above code block, makes a request to catalogue's `get_data_set()` method with the data_set Id that needs to be retrieved, in this case <i>'38'</i> and then displays the information that is retrieved from the same in a JSON format.\n",
    "\n",
    "\n",
    "<b>Output:</b>\n",
    "\n",
    "The output contains all the meta data about the AGB Data Set with Id 38 which consists of various self explanatory fields such as the catagory of the Data Set, the description (long and short), max and min latitudes and longitudes etc. "
   ]
  },
  {
   "cell_type": "markdown",
   "metadata": {},
   "source": [
    "### Get a Data Layer\n",
    "\n",
    "The metadata about a specific Data Layer can be returned by providing the get_data_layer method a Data Layer ID:"
   ]
  },
  {
   "cell_type": "code",
   "execution_count": 10,
   "metadata": {},
   "outputs": [
    {
     "name": "stderr",
     "output_type": "stream",
     "text": [
      "/opt/anaconda3/lib/python3.11/site-packages/urllib3/connectionpool.py:1061: InsecureRequestWarning: Unverified HTTPS request is being made to host 'api.ibm.com'. Adding certificate verification is strongly advised. See: https://urllib3.readthedocs.io/en/1.26.x/advanced-usage.html#ssl-warnings\n",
      "  warnings.warn(\n"
     ]
    },
    {
     "data": {
      "text/html": [
       "<div>\n",
       "<style scoped>\n",
       "    .dataframe tbody tr th:only-of-type {\n",
       "        vertical-align: middle;\n",
       "    }\n",
       "\n",
       "    .dataframe tbody tr th {\n",
       "        vertical-align: top;\n",
       "    }\n",
       "\n",
       "    .dataframe thead th {\n",
       "        text-align: right;\n",
       "    }\n",
       "</style>\n",
       "<table border=\"1\" class=\"dataframe\">\n",
       "  <thead>\n",
       "    <tr style=\"text-align: right;\">\n",
       "      <th></th>\n",
       "      <th>dataset_id</th>\n",
       "      <th>id</th>\n",
       "      <th>name</th>\n",
       "      <th>description_long</th>\n",
       "      <th>level</th>\n",
       "      <th>type</th>\n",
       "      <th>units</th>\n",
       "    </tr>\n",
       "  </thead>\n",
       "  <tbody>\n",
       "    <tr>\n",
       "      <th>0</th>\n",
       "      <td>38</td>\n",
       "      <td>38000</td>\n",
       "      <td>above ground biomass</td>\n",
       "      <td>Above ground biomass inference model output in megagrams of carbon per hectare or tonnes of carbon per hectare. Permanent water is set to 0 Mg C/ha.</td>\n",
       "      <td>21</td>\n",
       "      <td>Raster</td>\n",
       "      <td>Mg C/ha</td>\n",
       "    </tr>\n",
       "  </tbody>\n",
       "</table>\n",
       "</div>"
      ],
      "text/plain": [
       "  dataset_id     id                  name  \\\n",
       "0         38  38000  above ground biomass   \n",
       "\n",
       "                                                                                                                                       description_long  \\\n",
       "0  Above ground biomass inference model output in megagrams of carbon per hectare or tonnes of carbon per hectare. Permanent water is set to 0 Mg C/ha.   \n",
       "\n",
       "   level    type    units  \n",
       "0     21  Raster  Mg C/ha  "
      ]
     },
     "execution_count": 10,
     "metadata": {},
     "output_type": "execute_result"
    }
   ],
   "source": [
    "# Display the information about datalayer 38000 AGB \n",
    "catalog.get_data_layer(38000, verify=False).display([\"dataset_id\",\"id\",\"name\",\"description_long\", \"level\", \"type\",\"units\"])"
   ]
  },
  {
   "cell_type": "markdown",
   "metadata": {},
   "source": [
    "#### Understanding the sample\n",
    "\n",
    "<b>Code:</b>\n",
    "\n",
    "To know everything about a Data Layer, the `get_data_layer()` method is used by passing in the Id of the specific layer. This retrieves the entire meta data about that layer.\n",
    "\n",
    "\n",
    "<b>Output:</b>\n",
    "\n",
    "The output contains a table that displays information about the layer <i>38000</i> which is in the Data Set <i>38</i>, Above Ground Biomass that consists of every detail about the layer such as name, descriptions, min and max latitudes and longitudes etc."
   ]
  }
 ],
 "metadata": {
  "kernelspec": {
   "display_name": "Python 3 (ipykernel)",
   "language": "python",
   "name": "python3"
  },
  "language_info": {
   "codemirror_mode": {
    "name": "ipython",
    "version": 3
   },
   "file_extension": ".py",
   "mimetype": "text/x-python",
   "name": "python",
   "nbconvert_exporter": "python",
   "pygments_lexer": "ipython3",
   "version": "3.11.7"
  }
 },
 "nbformat": 4,
 "nbformat_minor": 4
}
