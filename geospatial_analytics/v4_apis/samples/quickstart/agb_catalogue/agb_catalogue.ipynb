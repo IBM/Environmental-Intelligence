{
 "cells": [
  {
   "cell_type": "markdown",
   "metadata": {},
   "source": [
    "# Querying the Above Ground Biomass (AGB) Catalog \n",
    "\n",
    "<b>Table of Contents</b>\n",
    "\n",
    "- Overview\n",
    "- Above Ground Biomass Catalog\n",
    "    - Data Sets\n",
    "    - Data Layers\n",
    "- Setup\n",
    "    - Get Authentication Token\n",
    "- Make Query\n",
    "    - Searching the Above Ground Biomass Catalog\n",
    "        - Understanding the Sample \n",
    "            - Code\n",
    "            - Output\n",
    "    - Get the AGB Dataset Information\n",
    "        - Understanding the Sample \n",
    "            - Code\n",
    "            - Output\n",
    "    - Get a Data Layer\n",
    "        - Understanding the Sample \n",
    "            - Code\n",
    "            - Output\n",
    "    \n",
    "\n",
    "## Overview\n",
    "\n",
    "This notebook provides an overview of Above Ground Biomass (AGB) Catalog's information and a brief about how to obtain the AGB Data Sets and Data Layers.\n",
    "\n",
    "## Above Ground Biomass Catalog\n",
    "\n",
    "#### Data Sets\n",
    "\n",
    "The primary use case of Above Ground Biomass (AGB) is for calculating historic and future carbon units & CO2 capture based on different data layers to generate baseline and predictive results. Above Ground Biomass (AGB) data is generated using GFM models along with data required to create Above Ground Biomass (AGB) predictions.\n",
    "\n",
    "Above Ground Biomass has a Data Set (ID = 38).\n",
    "\n",
    "#### Data Layers\n",
    "\n",
    "There are 2 Data Layers for Above Ground Biomass (AGB) Data Set ( ID=38)\n",
    "- The species-agnostic Above Ground Biomass (AGB) baseline and predictive data layer ( ID=38000 ) \n",
    "- A species-specific Above Ground Biomass (AGB) baseline and predictive data layer ( ID=38002 ) \n",
    "\n",
    "## Setup\n",
    "\n",
    "All of the documentation and samples we provide are built using Jupyter notebooks.\n",
    "\n",
    "To run the notebooks, below are the basic requirements:\n",
    "\n",
    "* Environmental Intelligence API credentials stored in EI_API_KEY, EI_TENANT_ID (or EI_CLIENT_ID) and EI_ORG_ID environment variables\n",
    "* A Python3.7 or higher environment\n",
    "* A Jupyter Notebook environment\n",
    "* The latest ibmpairs pip package installed into your Python3 environment.\n",
    "\n",
    "\n",
    "<b>Note:</b> The notebooks include runnable examples but you need to run them in order from top to bottom. This is because there are some lines of set up code, for example, setting authentication credentials, that only appear in the first code cell. We leave them out in the subsequent cells to avoid clutter.\n",
    "\n",
    "Before starting, you have to install IBM EI Geospatial python SDK using `pip3 install -U ibmpairs`.\n",
    "\n",
    "<b>Note:</b> To run this notebook seamlessly, you have to first configure your Geospatial APIs' credentials in a file named `secrets.ini` in the below format:\n",
    "\n",
    "```\n",
    "[EI]\n",
    "api.api_key = <Your Geospatial APIs API key>\n",
    "api.tenant_id = <Your Geospatial APIs Tenant ID>\n",
    "api.org_id = <Your Geospatial APIs Org ID>\n",
    "\n",
    "```\n",
    "Keep the secrets.ini file at an appropriate relative location of this notebook. For example, as specified in the below config.\n",
    "\n",
    "```config.read('../../auth/secrets.ini')```"
   ]
  },
  {
   "cell_type": "code",
   "execution_count": null,
   "metadata": {},
   "outputs": [],
   "source": [
    "%pip install ibmpairs\n",
    "%pip install configparser"
   ]
  },
  {
   "cell_type": "code",
   "execution_count": 2,
   "metadata": {},
   "outputs": [],
   "source": [
    "import ibmpairs.client as client\n",
    "import ibmpairs.catalog as catalog\n",
    "import pandas as pd\n",
    "\n",
    "import configparser"
   ]
  },
  {
   "cell_type": "markdown",
   "metadata": {},
   "source": [
    "#### Get Authentication Token\n",
    "\n",
    "Now, let's create a client object using the API_KEY, TENANT_ID (or CLIENT_ID) and ORG_ID to create an authenticated HTTP client Authentication token using 'ibmpairs.client' module, to use it in the subsequent steps."
   ]
  },
  {
   "cell_type": "code",
   "execution_count": 3,
   "metadata": {},
   "outputs": [
    {
     "name": "stdout",
     "output_type": "stream",
     "text": [
      "2024-11-06 09:10:39 - paw - INFO - The client authentication method is assumed to be OAuth2.\n",
      "2024-11-06 09:10:39 - paw - INFO - Legacy Environment is False\n",
      "2024-11-06 09:10:39 - paw - INFO - The authentication api key type is assumed to be IBM EIS, because the api key prefix 'PHX' is present.\n",
      "2024-11-06 09:10:41 - paw - INFO - Authentication success.\n",
      "2024-11-06 09:10:41 - paw - INFO - HOST: https://api.ibm.com/geospatial/run/na/core/v3\n"
     ]
    }
   ],
   "source": [
    "config = configparser.RawConfigParser()\n",
    "config.read('../../auth/secrets.ini')\n",
    "\n",
    "# The below line is written so that the table's data won't get truncated.\n",
    "pd.set_option('display.max_colwidth', None)\n",
    "\n",
    "EI_ORG_ID     = config.get('EI', 'api.org_id') \n",
    "EI_TENANT_ID  = config.get('EI', 'api.tenant_id') \n",
    "EI_API_KEY    = config.get('EI', 'api.api_key')\n",
    "\n",
    "EI_client_v3 = client.get_client(org_id    = EI_ORG_ID,\n",
    "                                  tenant_id = EI_TENANT_ID,\n",
    "                                  api_key   = EI_API_KEY,\n",
    "                                  version   = 3\n",
    "                                )"
   ]
  },
  {
   "cell_type": "markdown",
   "metadata": {},
   "source": [
    "## Make Query\n",
    "\n",
    "### Searching the Above Ground Biomass Catalog\n",
    "\n",
    "In order to search the whole catalog for a term, you can use the catalog sub-module and the method search: <br/>\n",
    "\n",
    "`catalog.search()`\n",
    "\n",
    "In the example below, the catalog is searched for all datasets and datalayers that contain references to the sentence <i>Above Ground Biomass inference</i>."
   ]
  },
  {
   "cell_type": "code",
   "execution_count": 4,
   "metadata": {},
   "outputs": [
    {
     "data": {
      "text/html": [
       "<div>\n",
       "<style scoped>\n",
       "    .dataframe tbody tr th:only-of-type {\n",
       "        vertical-align: middle;\n",
       "    }\n",
       "\n",
       "    .dataframe tbody tr th {\n",
       "        vertical-align: top;\n",
       "    }\n",
       "\n",
       "    .dataframe thead th {\n",
       "        text-align: right;\n",
       "    }\n",
       "</style>\n",
       "<table border=\"1\" class=\"dataframe\">\n",
       "  <thead>\n",
       "    <tr style=\"text-align: right;\">\n",
       "      <th></th>\n",
       "      <th>dataset_id</th>\n",
       "      <th>data_layer_id</th>\n",
       "      <th>data_layer_name</th>\n",
       "      <th>data_layer_description_short</th>\n",
       "      <th>data_layer_description_long</th>\n",
       "      <th>data_layer_level</th>\n",
       "      <th>data_layer_type</th>\n",
       "      <th>data_layer_unit</th>\n",
       "      <th>data_set_id</th>\n",
       "      <th>data_set_name</th>\n",
       "      <th>data_set_description_short</th>\n",
       "      <th>data_set_description_long</th>\n",
       "    </tr>\n",
       "  </thead>\n",
       "  <tbody>\n",
       "    <tr>\n",
       "      <th>0</th>\n",
       "      <td>38</td>\n",
       "      <td>38000</td>\n",
       "      <td>above ground biomass</td>\n",
       "      <td></td>\n",
       "      <td>Above ground biomass inference model output in megagrams of carbon per hectare or tonnes of carbon per hectare. Permanent water is set to 0 Mg C/ha.</td>\n",
       "      <td>21</td>\n",
       "      <td>Raster</td>\n",
       "      <td></td>\n",
       "      <td>38</td>\n",
       "      <td>Above Ground Biomass</td>\n",
       "      <td>Above Ground Biomass related data</td>\n",
       "      <td>Above Ground Biomass data generated using GFM models along with data required to create AGB predictions</td>\n",
       "    </tr>\n",
       "    <tr>\n",
       "      <th>1</th>\n",
       "      <td>38</td>\n",
       "      <td>38002</td>\n",
       "      <td>tree species above ground biomass natural</td>\n",
       "      <td></td>\n",
       "      <td>Tree species specific above ground biomass inference model output base on natural growth of existing trees in an area</td>\n",
       "      <td>21</td>\n",
       "      <td>Raster</td>\n",
       "      <td></td>\n",
       "      <td>38</td>\n",
       "      <td>Above Ground Biomass</td>\n",
       "      <td>Above Ground Biomass related data</td>\n",
       "      <td>Above Ground Biomass data generated using GFM models along with data required to create AGB predictions</td>\n",
       "    </tr>\n",
       "  </tbody>\n",
       "</table>\n",
       "</div>"
      ],
      "text/plain": [
       "  dataset_id data_layer_id                            data_layer_name  \\\n",
       "0         38         38000                       above ground biomass   \n",
       "1         38         38002  tree species above ground biomass natural   \n",
       "\n",
       "  data_layer_description_short  \\\n",
       "0                                \n",
       "1                                \n",
       "\n",
       "                                                                                                                            data_layer_description_long  \\\n",
       "0  Above ground biomass inference model output in megagrams of carbon per hectare or tonnes of carbon per hectare. Permanent water is set to 0 Mg C/ha.   \n",
       "1                                 Tree species specific above ground biomass inference model output base on natural growth of existing trees in an area   \n",
       "\n",
       "   data_layer_level data_layer_type data_layer_unit data_set_id  \\\n",
       "0                21          Raster                          38   \n",
       "1                21          Raster                          38   \n",
       "\n",
       "          data_set_name         data_set_description_short  \\\n",
       "0  Above Ground Biomass  Above Ground Biomass related data   \n",
       "1  Above Ground Biomass  Above Ground Biomass related data   \n",
       "\n",
       "                                                                                 data_set_description_long  \n",
       "0  Above Ground Biomass data generated using GFM models along with data required to create AGB predictions  \n",
       "1  Above Ground Biomass data generated using GFM models along with data required to create AGB predictions  "
      ]
     },
     "execution_count": 4,
     "metadata": {},
     "output_type": "execute_result"
    }
   ],
   "source": [
    "catalog.search(\"Above Ground Biomass inference\")"
   ]
  },
  {
   "cell_type": "markdown",
   "metadata": {},
   "source": [
    "#### Understanding the sample\n",
    "\n",
    "<b>Code:</b>\n",
    "\n",
    "The above code block, gets the necessary secrets required to communicate with Geospatial APIs APIs using EI_ORG_ID, EI_TENANT_ID and EI_API_KEY. These details are setup in the secrets.ini. Once the secrets are set up, a request to catalog's search is made with the information that needs to be searched, in this case <i>Above Ground Biomass inference</i> which then displays the information that is retrieved from Catalog search.\n",
    "\n",
    "\n",
    "\n",
    "<b>Output:</b>\n",
    "\n",
    "The table of results includes information for all AGB Data Sets and Data Layers from a catalog search for the term <i>Above Ground Biomass inference</i>.\n",
    "\n",
    "And these are the column definitions:\n",
    "\n",
    "- `dataset_id`: Specifies the ID of the Data Set that's being retrived which in this case is '38', Above Ground Biomass.\n",
    "- `daya_layer_id`: Specifies the ID of the data layer in the data set. We have 2 Data Layers in the Data Set 38 which are 38000 and 38002 which specifies Above Ground Biomass - Species agnostic and Above Ground Biomass - Species specific respectively.\n",
    "- There are other self explanatory columns as well which defines the data_set_description (short and long), data_layer_descriptions (short and long) etc.\n",
    "\n",
    "The above Data Sets and Data Layers which are retrived will be used in the subsequent queries as described below."
   ]
  },
  {
   "cell_type": "markdown",
   "metadata": {},
   "source": [
    "### Get the AGB Dataset Information\n",
    "\n",
    "The full metadata for the dataset or datalayer can be retrieved by subsequent methods, e.g.:\n",
    "\n",
    "The below code returns the information of the data set with the id 38."
   ]
  },
  {
   "cell_type": "code",
   "execution_count": 5,
   "metadata": {},
   "outputs": [
    {
     "data": {
      "text/plain": [
       "{\n",
       "    \"category\": {\n",
       "        \"id\": 4,\n",
       "        \"name\": \"Analytics\"\n",
       "    },\n",
       "    \"created_at\": \"1706718797769\",\n",
       "    \"crs\": \"EPSG:4326\",\n",
       "    \"data_set_response\": {},\n",
       "    \"data_source_links\": [],\n",
       "    \"data_source_name\": \"GFM\",\n",
       "    \"description_links\": [],\n",
       "    \"description_long\": \"Above Ground Biomass data generated using GFM models along with data required to create AGB predictions\",\n",
       "    \"description_short\": \"Above Ground Biomass related data\",\n",
       "    \"id\": \"38\",\n",
       "    \"interpolation\": \"near\",\n",
       "    \"key\": \"above-ground-biomass\",\n",
       "    \"latitude_max\": 90.0,\n",
       "    \"latitude_min\": -90.0,\n",
       "    \"level\": 21,\n",
       "    \"longitude_max\": 180.0,\n",
       "    \"longitude_min\": -180.0,\n",
       "    \"max_layers\": 10,\n",
       "    \"name\": \"Above Ground Biomass\",\n",
       "    \"permanence\": true,\n",
       "    \"properties\": {},\n",
       "    \"rating\": 1.0,\n",
       "    \"spatial_coverage\": {},\n",
       "    \"status\": \"Active\",\n",
       "    \"updated_at\": \"1706718797769\"\n",
       "}"
      ]
     },
     "execution_count": 5,
     "metadata": {},
     "output_type": "execute_result"
    }
   ],
   "source": [
    "catalog.get_data_set(id  = \"38\")"
   ]
  },
  {
   "cell_type": "markdown",
   "metadata": {},
   "source": [
    "#### Understanding the sample\n",
    "\n",
    "<b>Code:</b>\n",
    "\n",
    "The above code block, makes a request to catalog's `get_data_set()` method with the data_set Id that needs to be retrieved, in this case <i>'38'</i> and then displays the information that is retrieved from the same in a JSON format.\n",
    "\n",
    "\n",
    "<b>Output:</b>\n",
    "\n",
    "The output contains all the meta data about the AGB Data Set with Id 38 which consists of various self explanatory fields such as the catagory of the Data Set, the description (long and short), max and min latitudes and longitudes etc. "
   ]
  },
  {
   "cell_type": "markdown",
   "metadata": {},
   "source": [
    "### Get a Data Layer\n",
    "\n",
    "The metadata about a specific Data Layer can be returned by providing the get_data_layer method a Data Layer ID:"
   ]
  },
  {
   "cell_type": "code",
   "execution_count": 6,
   "metadata": {},
   "outputs": [
    {
     "data": {
      "text/html": [
       "<div>\n",
       "<style scoped>\n",
       "    .dataframe tbody tr th:only-of-type {\n",
       "        vertical-align: middle;\n",
       "    }\n",
       "\n",
       "    .dataframe tbody tr th {\n",
       "        vertical-align: top;\n",
       "    }\n",
       "\n",
       "    .dataframe thead th {\n",
       "        text-align: right;\n",
       "    }\n",
       "</style>\n",
       "<table border=\"1\" class=\"dataframe\">\n",
       "  <thead>\n",
       "    <tr style=\"text-align: right;\">\n",
       "      <th></th>\n",
       "      <th>dataset_id</th>\n",
       "      <th>id</th>\n",
       "      <th>name</th>\n",
       "      <th>description_long</th>\n",
       "      <th>level</th>\n",
       "      <th>type</th>\n",
       "      <th>units</th>\n",
       "    </tr>\n",
       "  </thead>\n",
       "  <tbody>\n",
       "    <tr>\n",
       "      <th>0</th>\n",
       "      <td>38</td>\n",
       "      <td>38000</td>\n",
       "      <td>above ground biomass</td>\n",
       "      <td>Above ground biomass inference model output in megagrams of carbon per hectare or tonnes of carbon per hectare. Permanent water is set to 0 Mg C/ha.</td>\n",
       "      <td>21</td>\n",
       "      <td>Raster</td>\n",
       "      <td>Mg C/ha</td>\n",
       "    </tr>\n",
       "  </tbody>\n",
       "</table>\n",
       "</div>"
      ],
      "text/plain": [
       "  dataset_id     id                  name  \\\n",
       "0         38  38000  above ground biomass   \n",
       "\n",
       "                                                                                                                                       description_long  \\\n",
       "0  Above ground biomass inference model output in megagrams of carbon per hectare or tonnes of carbon per hectare. Permanent water is set to 0 Mg C/ha.   \n",
       "\n",
       "   level    type    units  \n",
       "0     21  Raster  Mg C/ha  "
      ]
     },
     "execution_count": 6,
     "metadata": {},
     "output_type": "execute_result"
    }
   ],
   "source": [
    "# Display the information about datalayer 38000 AGB \n",
    "catalog.get_data_layer(38000).display([\"dataset_id\",\"id\",\"name\",\"description_long\", \"level\", \"type\",\"units\"])"
   ]
  },
  {
   "cell_type": "markdown",
   "metadata": {},
   "source": [
    "#### Understanding the sample\n",
    "\n",
    "<b>Code:</b>\n",
    "\n",
    "To know everything about a Data Layer, the `get_data_layer()` method is used by passing in the Id of the specific layer. This retrieves the entire meta data about that layer.\n",
    "\n",
    "\n",
    "<b>Output:</b>\n",
    "\n",
    "The table of results includes every detail for layer <i>38000</i> in Data Set <i>38</i>, such as the name, description, min and max latitudes, and min and max longitudes."
   ]
  }
 ],
 "metadata": {
  "kernelspec": {
   "display_name": ".venv",
   "language": "python",
   "name": "python3"
  },
  "language_info": {
   "codemirror_mode": {
    "name": "ipython",
    "version": 3
   },
   "file_extension": ".py",
   "mimetype": "text/x-python",
   "name": "python",
   "nbconvert_exporter": "python",
   "pygments_lexer": "ipython3",
   "version": "3.12.3"
  }
 },
 "nbformat": 4,
 "nbformat_minor": 4
}
