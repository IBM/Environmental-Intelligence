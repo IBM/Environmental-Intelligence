{
 "cells": [
  {
   "cell_type": "markdown",
   "metadata": {},
   "source": [
    "# Geospatial APIs Credentials\n",
    "\n",
    "The Geospatial APIs component provides an API (at https://api.ibm.com/geospatial/run/na/). To use this you will need an API key, a Tenant (or Client) Id and an Org Id. If you don’t have an API key, a Tenant (or Client) Id and an Org Id please contact your IBM representative.\n",
    "\n",
    "In the Jupyter Notebooks that are part of this quick start tutorial we don’t include secret credentials. We read the credentials from a file named 'secrets.ini' when they are required as shown below:\n",
    "\n",
    "```\n",
    "import configparser\n",
    "\n",
    "config = configparser.RawConfigParser()\n",
    "config.read('../../auth/secrets.ini')\n",
    "\n",
    "EI_ORG_ID     = config.get('EI', 'api.org_id') \n",
    "EI_TENANT_ID  = config.get('EI', 'api.tenant_id') \n",
    "EI_API_KEY     = config.get('EI', 'api.api_key')\n",
    "```\n",
    "\n",
    "<b>Note:</b> If you do not have a tenant id you can instead set a client id (e.g. EI_CLIENT_ID) and pass client_id = EI_CLIENT_ID to the authentication.OAuth2 object init or the get_client() call.\n",
    "\n",
    "Set these values in your secrets.ini in the below format before you start so that they are ready to be used when required:\n",
    "\n",
    "```\n",
    "[EI]\n",
    "api.api_key = <Your Geospatial APIs API key>\n",
    "api.tenant_id = <Your Geospatial APIs Tenant ID>\n",
    "api.org_id = <Your Geospatial APIs Org ID>\n",
    "```\n",
    "\n",
    "Keep the secrets.ini file at an appropriate relative location of this notebook. For example, as specified in the below config.\n",
    "\n",
    "```config.read('../../auth/secrets.ini')```\n",
    "\n",
    "## Python3 \n",
    "\n",
    "The API tutorials are written in Python3. You can use any programming language to talk to the Geospatial APIs HTTP endpoints using the standard HTTP libraries from your language of choice. \n",
    "\n",
    "If you want to use Python3 but don't have an environment set up including Jupyter notebooks there are many resources on the internet that can help you.\n",
    "\n",
    "## PAIRS Python API Wrapper\n",
    "\n",
    "The Jupyter notebooks in this tutorial use the [ibmpairs](https://github.com/IBM/ibmpairs) API wrapper for convenience. You will need to install this into your Python3 environment. Make sure you have install the latest available version.\n",
    "\n",
    "There is a more detailed overview of the IBM PAIRS Python API Wrapper [here](tutorial/pythonapiwrapper.ipynb).\n",
    "\n",
    "### PIP \n",
    "```\n",
    "pip3 install -U ibmpairs\n",
    "\n",
    "```\n",
    "\n",
    "\n",
    "### Getting the Auth token\n",
    "\n",
    "Once you are done with the setup, you'll have to make a call to ibmpairs' client module, by passing in your 'EI_ORG_ID', 'EI_TENANT_ID', 'EI_API_KEY'. You'll have to specify the version of Geospatial APIs that you want to get the client from (can be 3 or 4)."
   ]
  },
  {
   "cell_type": "code",
   "execution_count": null,
   "metadata": {},
   "outputs": [],
   "source": [
    "%pip install ibmpairs\n",
    "%pip install configparser"
   ]
  },
  {
   "cell_type": "code",
   "execution_count": 13,
   "metadata": {},
   "outputs": [],
   "source": [
    "import ibmpairs.client as client\n",
    "import ibmpairs.query as query\n",
    "\n",
    "# other imports\n",
    "import pandas as pd\n",
    "import configparser"
   ]
  },
  {
   "cell_type": "code",
   "execution_count": 14,
   "metadata": {},
   "outputs": [],
   "source": [
    "config = configparser.RawConfigParser()\n",
    "config.read('./secrets.ini')\n",
    "\n",
    "EI_ORG_ID     = config.get('EI', 'api.org_id') \n",
    "EI_TENANT_ID  = config.get('EI', 'api.tenant_id') \n",
    "EI_API_KEY     = config.get('EI', 'api.api_key')"
   ]
  },
  {
   "cell_type": "code",
   "execution_count": 15,
   "metadata": {},
   "outputs": [
    {
     "name": "stdout",
     "output_type": "stream",
     "text": [
      "2024-10-07 16:37:17 - paw - INFO - The client authentication method is assumed to be OAuth2.\n",
      "2024-10-07 16:37:17 - paw - INFO - Legacy Environment is False\n",
      "2024-10-07 16:37:17 - paw - INFO - The authentication api key type is assumed to be IBM EIS, because the api key prefix 'PHX' is present.\n",
      "2024-10-07 16:37:19 - paw - INFO - Authentication success.\n",
      "2024-10-07 16:37:19 - paw - INFO - HOST: https://api.ibm.com/geospatial/run/na/core/v4\n"
     ]
    }
   ],
   "source": [
    "EI_client_v4 = client.get_client(org_id    = EI_ORG_ID,\n",
    "                                  tenant_id = EI_TENANT_ID,\n",
    "                                  api_key   = EI_API_KEY,\n",
    "                                  version   = 4\n",
    "                                )"
   ]
  },
  {
   "cell_type": "markdown",
   "metadata": {},
   "source": [
    "This is an activity that you need to perform before querying anything from the Geospatial APIs but this is a one time activity for each query.\n",
    "\n",
    "\n",
    "We'll see a detailed implementation or usage of the Authentication client in the other notebooks moving forward."
   ]
  }
 ],
 "metadata": {
  "kernelspec": {
   "display_name": ".venv",
   "language": "python",
   "name": "python3"
  },
  "language_info": {
   "codemirror_mode": {
    "name": "ipython",
    "version": 3
   },
   "file_extension": ".py",
   "mimetype": "text/x-python",
   "name": "python",
   "nbconvert_exporter": "python",
   "pygments_lexer": "ipython3",
   "version": "3.12.3"
  }
 },
 "nbformat": 4,
 "nbformat_minor": 2
}
