{
 "cells": [
  {
   "cell_type": "markdown",
   "metadata": {},
   "source": [
    "# Quick Start - AGB Point Query\n",
    "\n",
    "## Overview\n",
    "\n",
    "This notebook walks us through the Above Ground Biomass (AGB) point query and gives a brief about how to send a point query to AGB Geospatial APIs.\n",
    "\n",
    "The most basic query in AGB Geospatial APIs is the point query. Now you'll make a point query with the user interface we are going to get you started with the Geospatial APIs API by using it to do a point query:\n",
    "\n",
    "The below query requests <i>Above Ground Biomass</i> values from Geospatial APIs layer 38000, Above Ground Biomass dataset, for a location somewhere in Castelo, Portugal – the coordinates 38.50/-9.10 (latitude/longitude).\n",
    "\n",
    "Geospatial APIs returns about 3 rows of data, which are stored in the AGB_df dataframe.\n",
    "\n",
    "\n",
    "### Setup\n",
    "Before starting, you have to install IBM EI Geospatial python SDK using `pip3 install -U ibmpairs`.\n",
    "\n",
    "<b>Note:</b> To run this notebook seamlessly, you have to first configure your Geospatial APIs' credentials in a file named `secrets.ini` in the below format:\n",
    "\n",
    "```\n",
    "[EI]\n",
    "api.host = https://api.ibm.com/geospatial/run/na/core/v3\n",
    "api.api_key = <Your Geospatial APIs API key>\n",
    "api.tenant_id = <Your Geospatial APIs Tenant ID>\n",
    "api.org_id = <Your Geospatial APIs Org ID>\n",
    "```\n",
    "\n",
    "Keep the secrets.ini file at an appropriate relative location of this notebook. For example, as specified in the below config.\n",
    "\n",
    "```config.read('../../auth/secrets.ini')```"
   ]
  },
  {
   "cell_type": "code",
   "execution_count": 5,
   "metadata": {},
   "outputs": [
    {
     "name": "stdout",
     "output_type": "stream",
     "text": [
      "Requirement already satisfied: ibmpairs in /opt/anaconda3/lib/python3.10/site-packages (3.1.3)\n",
      "Requirement already satisfied: numpy>=1.18.1 in /opt/anaconda3/lib/python3.10/site-packages (from ibmpairs) (1.26.4)\n",
      "Requirement already satisfied: Pillow>=10.2.0 in /opt/anaconda3/lib/python3.10/site-packages (from ibmpairs) (10.3.0)\n",
      "Requirement already satisfied: pandas>=1.0.1 in /opt/anaconda3/lib/python3.10/site-packages (from ibmpairs) (2.2.2)\n",
      "Requirement already satisfied: future in /opt/anaconda3/lib/python3.10/site-packages (from ibmpairs) (0.18.3)\n",
      "Requirement already satisfied: requests>=2.4 in /opt/anaconda3/lib/python3.10/site-packages (from ibmpairs) (2.32.3)\n",
      "Requirement already satisfied: shapely in /opt/anaconda3/lib/python3.10/site-packages (from ibmpairs) (2.0.4)\n",
      "Requirement already satisfied: fs in /opt/anaconda3/lib/python3.10/site-packages (from ibmpairs) (2.4.16)\n",
      "Requirement already satisfied: pytz in /opt/anaconda3/lib/python3.10/site-packages (from ibmpairs) (2024.1)\n",
      "Requirement already satisfied: jsonschema in /opt/anaconda3/lib/python3.10/site-packages (from ibmpairs) (4.19.2)\n",
      "Requirement already satisfied: asyncio in /opt/anaconda3/lib/python3.10/site-packages (from ibmpairs) (3.4.3)\n",
      "Requirement already satisfied: aiodns in /opt/anaconda3/lib/python3.10/site-packages (from ibmpairs) (3.2.0)\n",
      "Requirement already satisfied: brotlipy in /opt/anaconda3/lib/python3.10/site-packages (from ibmpairs) (0.7.0)\n",
      "Requirement already satisfied: tableschema in /opt/anaconda3/lib/python3.10/site-packages (from ibmpairs) (1.20.11)\n",
      "Requirement already satisfied: ibm-cos-sdk in /opt/anaconda3/lib/python3.10/site-packages (from ibmpairs) (2.13.5)\n",
      "Requirement already satisfied: polling in /opt/anaconda3/lib/python3.10/site-packages (from ibmpairs) (0.3.2)\n",
      "Requirement already satisfied: aiohttp>=3.0.0 in /opt/anaconda3/lib/python3.10/site-packages (from ibmpairs) (3.9.5)\n",
      "Requirement already satisfied: matplotlib in /opt/anaconda3/lib/python3.10/site-packages (from ibmpairs) (3.8.4)\n",
      "Requirement already satisfied: ipyleaflet in /opt/anaconda3/lib/python3.10/site-packages (from ibmpairs) (0.19.1)\n",
      "Requirement already satisfied: pyproj in /opt/anaconda3/lib/python3.10/site-packages (from ibmpairs) (3.6.1)\n",
      "Requirement already satisfied: numexpr in /opt/anaconda3/lib/python3.10/site-packages (from ibmpairs) (2.8.7)\n",
      "Requirement already satisfied: bottleneck in /opt/anaconda3/lib/python3.10/site-packages (from ibmpairs) (1.3.7)\n",
      "Requirement already satisfied: xarray in /opt/anaconda3/lib/python3.10/site-packages (from ibmpairs) (2023.6.0)\n",
      "Requirement already satisfied: geojson in /opt/anaconda3/lib/python3.10/site-packages (from ibmpairs) (3.1.0)\n",
      "Requirement already satisfied: aiosignal>=1.1.2 in /opt/anaconda3/lib/python3.10/site-packages (from aiohttp>=3.0.0->ibmpairs) (1.2.0)\n",
      "Requirement already satisfied: attrs>=17.3.0 in /opt/anaconda3/lib/python3.10/site-packages (from aiohttp>=3.0.0->ibmpairs) (23.1.0)\n",
      "Requirement already satisfied: frozenlist>=1.1.1 in /opt/anaconda3/lib/python3.10/site-packages (from aiohttp>=3.0.0->ibmpairs) (1.4.0)\n",
      "Requirement already satisfied: multidict<7.0,>=4.5 in /opt/anaconda3/lib/python3.10/site-packages (from aiohttp>=3.0.0->ibmpairs) (6.0.4)\n",
      "Requirement already satisfied: yarl<2.0,>=1.0 in /opt/anaconda3/lib/python3.10/site-packages (from aiohttp>=3.0.0->ibmpairs) (1.9.3)\n",
      "Requirement already satisfied: async-timeout<5.0,>=4.0 in /opt/anaconda3/lib/python3.10/site-packages (from aiohttp>=3.0.0->ibmpairs) (4.0.3)\n",
      "Requirement already satisfied: python-dateutil>=2.8.2 in /opt/anaconda3/lib/python3.10/site-packages (from pandas>=1.0.1->ibmpairs) (2.9.0.post0)\n",
      "Requirement already satisfied: tzdata>=2022.7 in /opt/anaconda3/lib/python3.10/site-packages (from pandas>=1.0.1->ibmpairs) (2023.3)\n",
      "Requirement already satisfied: charset-normalizer<4,>=2 in /opt/anaconda3/lib/python3.10/site-packages (from requests>=2.4->ibmpairs) (2.0.4)\n",
      "Requirement already satisfied: idna<4,>=2.5 in /opt/anaconda3/lib/python3.10/site-packages (from requests>=2.4->ibmpairs) (3.7)\n",
      "Requirement already satisfied: urllib3<3,>=1.21.1 in /opt/anaconda3/lib/python3.10/site-packages (from requests>=2.4->ibmpairs) (2.1.0)\n",
      "Requirement already satisfied: certifi>=2017.4.17 in /opt/anaconda3/lib/python3.10/site-packages (from requests>=2.4->ibmpairs) (2024.6.2)\n",
      "Requirement already satisfied: pycares>=4.0.0 in /opt/anaconda3/lib/python3.10/site-packages (from aiodns->ibmpairs) (4.4.0)\n",
      "Requirement already satisfied: cffi>=1.0.0 in /opt/anaconda3/lib/python3.10/site-packages (from brotlipy->ibmpairs) (1.16.0)\n",
      "Requirement already satisfied: appdirs~=1.4.3 in /opt/anaconda3/lib/python3.10/site-packages (from fs->ibmpairs) (1.4.4)\n",
      "Requirement already satisfied: setuptools in /opt/anaconda3/lib/python3.10/site-packages (from fs->ibmpairs) (69.5.1)\n",
      "Requirement already satisfied: six~=1.10 in /opt/anaconda3/lib/python3.10/site-packages (from fs->ibmpairs) (1.16.0)\n",
      "Requirement already satisfied: ibm-cos-sdk-core==2.13.5 in /opt/anaconda3/lib/python3.10/site-packages (from ibm-cos-sdk->ibmpairs) (2.13.5)\n",
      "Requirement already satisfied: ibm-cos-sdk-s3transfer==2.13.5 in /opt/anaconda3/lib/python3.10/site-packages (from ibm-cos-sdk->ibmpairs) (2.13.5)\n",
      "Requirement already satisfied: jmespath<=1.0.1,>=0.10.0 in /opt/anaconda3/lib/python3.10/site-packages (from ibm-cos-sdk->ibmpairs) (1.0.1)\n",
      "Requirement already satisfied: branca>=0.5.0 in /opt/anaconda3/lib/python3.10/site-packages (from ipyleaflet->ibmpairs) (0.7.2)\n",
      "Requirement already satisfied: ipywidgets<9,>=7.6.0 in /opt/anaconda3/lib/python3.10/site-packages (from ipyleaflet->ibmpairs) (7.8.1)\n",
      "Requirement already satisfied: jupyter-leaflet<0.20,>=0.19 in /opt/anaconda3/lib/python3.10/site-packages (from ipyleaflet->ibmpairs) (0.19.1)\n",
      "Requirement already satisfied: traittypes<3,>=0.2.1 in /opt/anaconda3/lib/python3.10/site-packages (from ipyleaflet->ibmpairs) (0.2.1)\n",
      "Requirement already satisfied: xyzservices>=2021.8.1 in /opt/anaconda3/lib/python3.10/site-packages (from ipyleaflet->ibmpairs) (2022.9.0)\n",
      "Requirement already satisfied: jsonschema-specifications>=2023.03.6 in /opt/anaconda3/lib/python3.10/site-packages (from jsonschema->ibmpairs) (2023.7.1)\n",
      "Requirement already satisfied: referencing>=0.28.4 in /opt/anaconda3/lib/python3.10/site-packages (from jsonschema->ibmpairs) (0.30.2)\n",
      "Requirement already satisfied: rpds-py>=0.7.1 in /opt/anaconda3/lib/python3.10/site-packages (from jsonschema->ibmpairs) (0.10.6)\n",
      "Requirement already satisfied: contourpy>=1.0.1 in /opt/anaconda3/lib/python3.10/site-packages (from matplotlib->ibmpairs) (1.2.0)\n",
      "Requirement already satisfied: cycler>=0.10 in /opt/anaconda3/lib/python3.10/site-packages (from matplotlib->ibmpairs) (0.11.0)\n",
      "Requirement already satisfied: fonttools>=4.22.0 in /opt/anaconda3/lib/python3.10/site-packages (from matplotlib->ibmpairs) (4.25.0)\n",
      "Requirement already satisfied: kiwisolver>=1.3.1 in /opt/anaconda3/lib/python3.10/site-packages (from matplotlib->ibmpairs) (1.4.4)\n",
      "Requirement already satisfied: packaging>=20.0 in /opt/anaconda3/lib/python3.10/site-packages (from matplotlib->ibmpairs) (23.2)\n",
      "Requirement already satisfied: pyparsing>=2.3.1 in /opt/anaconda3/lib/python3.10/site-packages (from matplotlib->ibmpairs) (3.0.9)\n",
      "Requirement already satisfied: click>=3.3 in /opt/anaconda3/lib/python3.10/site-packages (from tableschema->ibmpairs) (8.1.7)\n",
      "Requirement already satisfied: cached-property>=1.5 in /opt/anaconda3/lib/python3.10/site-packages (from tableschema->ibmpairs) (1.5.2)\n",
      "Requirement already satisfied: unicodecsv>=0.14 in /opt/anaconda3/lib/python3.10/site-packages (from tableschema->ibmpairs) (0.14.1)\n",
      "Requirement already satisfied: isodate>=0.5.4 in /opt/anaconda3/lib/python3.10/site-packages (from tableschema->ibmpairs) (0.6.1)\n",
      "Requirement already satisfied: rfc3986>=1.1.0 in /opt/anaconda3/lib/python3.10/site-packages (from tableschema->ibmpairs) (2.0.0)\n",
      "Requirement already satisfied: dataflows-tabulator>=1.54.1 in /opt/anaconda3/lib/python3.10/site-packages (from tableschema->ibmpairs) (1.54.3)\n",
      "Requirement already satisfied: jinja2>=3 in /opt/anaconda3/lib/python3.10/site-packages (from branca>=0.5.0->ipyleaflet->ibmpairs) (3.1.4)\n",
      "Requirement already satisfied: pycparser in /opt/anaconda3/lib/python3.10/site-packages (from cffi>=1.0.0->brotlipy->ibmpairs) (2.21)\n",
      "Requirement already satisfied: chardet>=3.0 in /opt/anaconda3/lib/python3.10/site-packages (from dataflows-tabulator>=1.54.1->tableschema->ibmpairs) (4.0.0)\n",
      "Requirement already satisfied: boto3>=1.9 in /opt/anaconda3/lib/python3.10/site-packages (from dataflows-tabulator>=1.54.1->tableschema->ibmpairs) (1.34.130)\n",
      "Requirement already satisfied: ijson>=3.0.3 in /opt/anaconda3/lib/python3.10/site-packages (from dataflows-tabulator>=1.54.1->tableschema->ibmpairs) (3.3.0)\n",
      "Requirement already satisfied: jsonlines>=1.1 in /opt/anaconda3/lib/python3.10/site-packages (from dataflows-tabulator>=1.54.1->tableschema->ibmpairs) (4.0.0)\n",
      "Requirement already satisfied: sqlalchemy>=0.9.6 in /opt/anaconda3/lib/python3.10/site-packages (from dataflows-tabulator>=1.54.1->tableschema->ibmpairs) (2.0.30)\n",
      "Requirement already satisfied: linear-tsv>=1.0 in /opt/anaconda3/lib/python3.10/site-packages (from dataflows-tabulator>=1.54.1->tableschema->ibmpairs) (1.1.0)\n",
      "Requirement already satisfied: xlrd>=1.0 in /opt/anaconda3/lib/python3.10/site-packages (from dataflows-tabulator>=1.54.1->tableschema->ibmpairs) (2.0.1)\n",
      "Requirement already satisfied: openpyxl>=2.6 in /opt/anaconda3/lib/python3.10/site-packages (from dataflows-tabulator>=1.54.1->tableschema->ibmpairs) (3.1.2)\n",
      "Requirement already satisfied: comm>=0.1.3 in /opt/anaconda3/lib/python3.10/site-packages (from ipywidgets<9,>=7.6.0->ipyleaflet->ibmpairs) (0.2.1)\n",
      "Requirement already satisfied: ipython-genutils~=0.2.0 in /opt/anaconda3/lib/python3.10/site-packages (from ipywidgets<9,>=7.6.0->ipyleaflet->ibmpairs) (0.2.0)\n",
      "Requirement already satisfied: traitlets>=4.3.1 in /opt/anaconda3/lib/python3.10/site-packages (from ipywidgets<9,>=7.6.0->ipyleaflet->ibmpairs) (5.14.3)\n",
      "Requirement already satisfied: widgetsnbextension~=3.6.6 in /opt/anaconda3/lib/python3.10/site-packages (from ipywidgets<9,>=7.6.0->ipyleaflet->ibmpairs) (3.6.6)\n",
      "Requirement already satisfied: ipython>=4.0.0 in /opt/anaconda3/lib/python3.10/site-packages (from ipywidgets<9,>=7.6.0->ipyleaflet->ibmpairs) (7.31.1)\n",
      "Requirement already satisfied: jupyterlab-widgets<3,>=1.0.0 in /opt/anaconda3/lib/python3.10/site-packages (from ipywidgets<9,>=7.6.0->ipyleaflet->ibmpairs) (1.0.0)\n",
      "Requirement already satisfied: botocore<1.35.0,>=1.34.130 in /opt/anaconda3/lib/python3.10/site-packages (from boto3>=1.9->dataflows-tabulator>=1.54.1->tableschema->ibmpairs) (1.34.130)\n",
      "Requirement already satisfied: s3transfer<0.11.0,>=0.10.0 in /opt/anaconda3/lib/python3.10/site-packages (from boto3>=1.9->dataflows-tabulator>=1.54.1->tableschema->ibmpairs) (0.10.1)\n",
      "Requirement already satisfied: jedi>=0.16 in /opt/anaconda3/lib/python3.10/site-packages (from ipython>=4.0.0->ipywidgets<9,>=7.6.0->ipyleaflet->ibmpairs) (0.18.1)\n",
      "Requirement already satisfied: decorator in /opt/anaconda3/lib/python3.10/site-packages (from ipython>=4.0.0->ipywidgets<9,>=7.6.0->ipyleaflet->ibmpairs) (5.1.1)\n",
      "Requirement already satisfied: pickleshare in /opt/anaconda3/lib/python3.10/site-packages (from ipython>=4.0.0->ipywidgets<9,>=7.6.0->ipyleaflet->ibmpairs) (0.7.5)\n",
      "Requirement already satisfied: prompt-toolkit!=3.0.0,!=3.0.1,<3.1.0,>=2.0.0 in /opt/anaconda3/lib/python3.10/site-packages (from ipython>=4.0.0->ipywidgets<9,>=7.6.0->ipyleaflet->ibmpairs) (3.0.43)\n",
      "Requirement already satisfied: pygments in /opt/anaconda3/lib/python3.10/site-packages (from ipython>=4.0.0->ipywidgets<9,>=7.6.0->ipyleaflet->ibmpairs) (2.15.1)\n",
      "Requirement already satisfied: backcall in /opt/anaconda3/lib/python3.10/site-packages (from ipython>=4.0.0->ipywidgets<9,>=7.6.0->ipyleaflet->ibmpairs) (0.2.0)\n",
      "Requirement already satisfied: matplotlib-inline in /opt/anaconda3/lib/python3.10/site-packages (from ipython>=4.0.0->ipywidgets<9,>=7.6.0->ipyleaflet->ibmpairs) (0.1.6)\n",
      "Requirement already satisfied: pexpect>4.3 in /opt/anaconda3/lib/python3.10/site-packages (from ipython>=4.0.0->ipywidgets<9,>=7.6.0->ipyleaflet->ibmpairs) (4.8.0)\n",
      "Requirement already satisfied: appnope in /opt/anaconda3/lib/python3.10/site-packages (from ipython>=4.0.0->ipywidgets<9,>=7.6.0->ipyleaflet->ibmpairs) (0.1.2)\n",
      "Requirement already satisfied: MarkupSafe>=2.0 in /opt/anaconda3/lib/python3.10/site-packages (from jinja2>=3->branca>=0.5.0->ipyleaflet->ibmpairs) (2.1.3)\n",
      "Requirement already satisfied: et-xmlfile in /opt/anaconda3/lib/python3.10/site-packages (from openpyxl>=2.6->dataflows-tabulator>=1.54.1->tableschema->ibmpairs) (1.1.0)\n",
      "Requirement already satisfied: typing-extensions>=4.6.0 in /opt/anaconda3/lib/python3.10/site-packages (from sqlalchemy>=0.9.6->dataflows-tabulator>=1.54.1->tableschema->ibmpairs) (4.11.0)\n",
      "Requirement already satisfied: notebook>=4.4.1 in /opt/anaconda3/lib/python3.10/site-packages (from widgetsnbextension~=3.6.6->ipywidgets<9,>=7.6.0->ipyleaflet->ibmpairs) (7.0.8)\n",
      "Requirement already satisfied: parso<0.9.0,>=0.8.0 in /opt/anaconda3/lib/python3.10/site-packages (from jedi>=0.16->ipython>=4.0.0->ipywidgets<9,>=7.6.0->ipyleaflet->ibmpairs) (0.8.3)\n",
      "Requirement already satisfied: jupyter-server<3,>=2.4.0 in /opt/anaconda3/lib/python3.10/site-packages (from notebook>=4.4.1->widgetsnbextension~=3.6.6->ipywidgets<9,>=7.6.0->ipyleaflet->ibmpairs) (2.14.1)\n",
      "Requirement already satisfied: jupyterlab-server<3,>=2.22.1 in /opt/anaconda3/lib/python3.10/site-packages (from notebook>=4.4.1->widgetsnbextension~=3.6.6->ipywidgets<9,>=7.6.0->ipyleaflet->ibmpairs) (2.25.1)\n",
      "Requirement already satisfied: jupyterlab<4.1,>=4.0.2 in /opt/anaconda3/lib/python3.10/site-packages (from notebook>=4.4.1->widgetsnbextension~=3.6.6->ipywidgets<9,>=7.6.0->ipyleaflet->ibmpairs) (4.0.11)\n",
      "Requirement already satisfied: notebook-shim<0.3,>=0.2 in /opt/anaconda3/lib/python3.10/site-packages (from notebook>=4.4.1->widgetsnbextension~=3.6.6->ipywidgets<9,>=7.6.0->ipyleaflet->ibmpairs) (0.2.3)\n",
      "Requirement already satisfied: tornado>=6.2.0 in /opt/anaconda3/lib/python3.10/site-packages (from notebook>=4.4.1->widgetsnbextension~=3.6.6->ipywidgets<9,>=7.6.0->ipyleaflet->ibmpairs) (6.4.1)\n",
      "Requirement already satisfied: ptyprocess>=0.5 in /opt/anaconda3/lib/python3.10/site-packages (from pexpect>4.3->ipython>=4.0.0->ipywidgets<9,>=7.6.0->ipyleaflet->ibmpairs) (0.7.0)\n",
      "Requirement already satisfied: wcwidth in /opt/anaconda3/lib/python3.10/site-packages (from prompt-toolkit!=3.0.0,!=3.0.1,<3.1.0,>=2.0.0->ipython>=4.0.0->ipywidgets<9,>=7.6.0->ipyleaflet->ibmpairs) (0.2.5)\n",
      "Requirement already satisfied: anyio>=3.1.0 in /opt/anaconda3/lib/python3.10/site-packages (from jupyter-server<3,>=2.4.0->notebook>=4.4.1->widgetsnbextension~=3.6.6->ipywidgets<9,>=7.6.0->ipyleaflet->ibmpairs) (4.2.0)\n",
      "Requirement already satisfied: argon2-cffi>=21.1 in /opt/anaconda3/lib/python3.10/site-packages (from jupyter-server<3,>=2.4.0->notebook>=4.4.1->widgetsnbextension~=3.6.6->ipywidgets<9,>=7.6.0->ipyleaflet->ibmpairs) (21.3.0)\n",
      "Requirement already satisfied: jupyter-client>=7.4.4 in /opt/anaconda3/lib/python3.10/site-packages (from jupyter-server<3,>=2.4.0->notebook>=4.4.1->widgetsnbextension~=3.6.6->ipywidgets<9,>=7.6.0->ipyleaflet->ibmpairs) (8.6.0)\n",
      "Requirement already satisfied: jupyter-core!=5.0.*,>=4.12 in /opt/anaconda3/lib/python3.10/site-packages (from jupyter-server<3,>=2.4.0->notebook>=4.4.1->widgetsnbextension~=3.6.6->ipywidgets<9,>=7.6.0->ipyleaflet->ibmpairs) (5.7.2)\n",
      "Requirement already satisfied: jupyter-events>=0.9.0 in /opt/anaconda3/lib/python3.10/site-packages (from jupyter-server<3,>=2.4.0->notebook>=4.4.1->widgetsnbextension~=3.6.6->ipywidgets<9,>=7.6.0->ipyleaflet->ibmpairs) (0.10.0)\n",
      "Requirement already satisfied: jupyter-server-terminals>=0.4.4 in /opt/anaconda3/lib/python3.10/site-packages (from jupyter-server<3,>=2.4.0->notebook>=4.4.1->widgetsnbextension~=3.6.6->ipywidgets<9,>=7.6.0->ipyleaflet->ibmpairs) (0.4.4)\n",
      "Requirement already satisfied: nbconvert>=6.4.4 in /opt/anaconda3/lib/python3.10/site-packages (from jupyter-server<3,>=2.4.0->notebook>=4.4.1->widgetsnbextension~=3.6.6->ipywidgets<9,>=7.6.0->ipyleaflet->ibmpairs) (7.10.0)\n",
      "Requirement already satisfied: nbformat>=5.3.0 in /opt/anaconda3/lib/python3.10/site-packages (from jupyter-server<3,>=2.4.0->notebook>=4.4.1->widgetsnbextension~=3.6.6->ipywidgets<9,>=7.6.0->ipyleaflet->ibmpairs) (5.9.2)\n",
      "Requirement already satisfied: overrides>=5.0 in /opt/anaconda3/lib/python3.10/site-packages (from jupyter-server<3,>=2.4.0->notebook>=4.4.1->widgetsnbextension~=3.6.6->ipywidgets<9,>=7.6.0->ipyleaflet->ibmpairs) (7.4.0)\n",
      "Requirement already satisfied: prometheus-client>=0.9 in /opt/anaconda3/lib/python3.10/site-packages (from jupyter-server<3,>=2.4.0->notebook>=4.4.1->widgetsnbextension~=3.6.6->ipywidgets<9,>=7.6.0->ipyleaflet->ibmpairs) (0.14.1)\n",
      "Requirement already satisfied: pyzmq>=24 in /opt/anaconda3/lib/python3.10/site-packages (from jupyter-server<3,>=2.4.0->notebook>=4.4.1->widgetsnbextension~=3.6.6->ipywidgets<9,>=7.6.0->ipyleaflet->ibmpairs) (25.1.2)\n",
      "Requirement already satisfied: send2trash>=1.8.2 in /opt/anaconda3/lib/python3.10/site-packages (from jupyter-server<3,>=2.4.0->notebook>=4.4.1->widgetsnbextension~=3.6.6->ipywidgets<9,>=7.6.0->ipyleaflet->ibmpairs) (1.8.2)\n",
      "Requirement already satisfied: terminado>=0.8.3 in /opt/anaconda3/lib/python3.10/site-packages (from jupyter-server<3,>=2.4.0->notebook>=4.4.1->widgetsnbextension~=3.6.6->ipywidgets<9,>=7.6.0->ipyleaflet->ibmpairs) (0.17.1)\n",
      "Requirement already satisfied: websocket-client>=1.7 in /opt/anaconda3/lib/python3.10/site-packages (from jupyter-server<3,>=2.4.0->notebook>=4.4.1->widgetsnbextension~=3.6.6->ipywidgets<9,>=7.6.0->ipyleaflet->ibmpairs) (1.8.0)\n",
      "Requirement already satisfied: async-lru>=1.0.0 in /opt/anaconda3/lib/python3.10/site-packages (from jupyterlab<4.1,>=4.0.2->notebook>=4.4.1->widgetsnbextension~=3.6.6->ipywidgets<9,>=7.6.0->ipyleaflet->ibmpairs) (2.0.4)\n",
      "Requirement already satisfied: ipykernel in /opt/anaconda3/lib/python3.10/site-packages (from jupyterlab<4.1,>=4.0.2->notebook>=4.4.1->widgetsnbextension~=3.6.6->ipywidgets<9,>=7.6.0->ipyleaflet->ibmpairs) (6.28.0)\n",
      "Requirement already satisfied: jupyter-lsp>=2.0.0 in /opt/anaconda3/lib/python3.10/site-packages (from jupyterlab<4.1,>=4.0.2->notebook>=4.4.1->widgetsnbextension~=3.6.6->ipywidgets<9,>=7.6.0->ipyleaflet->ibmpairs) (2.2.0)\n",
      "Requirement already satisfied: tomli in /opt/anaconda3/lib/python3.10/site-packages (from jupyterlab<4.1,>=4.0.2->notebook>=4.4.1->widgetsnbextension~=3.6.6->ipywidgets<9,>=7.6.0->ipyleaflet->ibmpairs) (2.0.1)\n",
      "Requirement already satisfied: babel>=2.10 in /opt/anaconda3/lib/python3.10/site-packages (from jupyterlab-server<3,>=2.22.1->notebook>=4.4.1->widgetsnbextension~=3.6.6->ipywidgets<9,>=7.6.0->ipyleaflet->ibmpairs) (2.11.0)\n",
      "Requirement already satisfied: json5>=0.9.0 in /opt/anaconda3/lib/python3.10/site-packages (from jupyterlab-server<3,>=2.22.1->notebook>=4.4.1->widgetsnbextension~=3.6.6->ipywidgets<9,>=7.6.0->ipyleaflet->ibmpairs) (0.9.6)\n",
      "Requirement already satisfied: sniffio>=1.1 in /opt/anaconda3/lib/python3.10/site-packages (from anyio>=3.1.0->jupyter-server<3,>=2.4.0->notebook>=4.4.1->widgetsnbextension~=3.6.6->ipywidgets<9,>=7.6.0->ipyleaflet->ibmpairs) (1.3.0)\n",
      "Requirement already satisfied: exceptiongroup>=1.0.2 in /opt/anaconda3/lib/python3.10/site-packages (from anyio>=3.1.0->jupyter-server<3,>=2.4.0->notebook>=4.4.1->widgetsnbextension~=3.6.6->ipywidgets<9,>=7.6.0->ipyleaflet->ibmpairs) (1.2.0)\n",
      "Requirement already satisfied: argon2-cffi-bindings in /opt/anaconda3/lib/python3.10/site-packages (from argon2-cffi>=21.1->jupyter-server<3,>=2.4.0->notebook>=4.4.1->widgetsnbextension~=3.6.6->ipywidgets<9,>=7.6.0->ipyleaflet->ibmpairs) (21.2.0)\n",
      "Requirement already satisfied: platformdirs>=2.5 in /opt/anaconda3/lib/python3.10/site-packages (from jupyter-core!=5.0.*,>=4.12->jupyter-server<3,>=2.4.0->notebook>=4.4.1->widgetsnbextension~=3.6.6->ipywidgets<9,>=7.6.0->ipyleaflet->ibmpairs) (3.10.0)\n",
      "Requirement already satisfied: python-json-logger>=2.0.4 in /opt/anaconda3/lib/python3.10/site-packages (from jupyter-events>=0.9.0->jupyter-server<3,>=2.4.0->notebook>=4.4.1->widgetsnbextension~=3.6.6->ipywidgets<9,>=7.6.0->ipyleaflet->ibmpairs) (2.0.7)\n",
      "Requirement already satisfied: pyyaml>=5.3 in /opt/anaconda3/lib/python3.10/site-packages (from jupyter-events>=0.9.0->jupyter-server<3,>=2.4.0->notebook>=4.4.1->widgetsnbextension~=3.6.6->ipywidgets<9,>=7.6.0->ipyleaflet->ibmpairs) (6.0.1)\n",
      "Requirement already satisfied: rfc3339-validator in /opt/anaconda3/lib/python3.10/site-packages (from jupyter-events>=0.9.0->jupyter-server<3,>=2.4.0->notebook>=4.4.1->widgetsnbextension~=3.6.6->ipywidgets<9,>=7.6.0->ipyleaflet->ibmpairs) (0.1.4)\n",
      "Requirement already satisfied: rfc3986-validator>=0.1.1 in /opt/anaconda3/lib/python3.10/site-packages (from jupyter-events>=0.9.0->jupyter-server<3,>=2.4.0->notebook>=4.4.1->widgetsnbextension~=3.6.6->ipywidgets<9,>=7.6.0->ipyleaflet->ibmpairs) (0.1.1)\n",
      "Requirement already satisfied: beautifulsoup4 in /opt/anaconda3/lib/python3.10/site-packages (from nbconvert>=6.4.4->jupyter-server<3,>=2.4.0->notebook>=4.4.1->widgetsnbextension~=3.6.6->ipywidgets<9,>=7.6.0->ipyleaflet->ibmpairs) (4.12.3)\n",
      "Requirement already satisfied: bleach!=5.0.0 in /opt/anaconda3/lib/python3.10/site-packages (from nbconvert>=6.4.4->jupyter-server<3,>=2.4.0->notebook>=4.4.1->widgetsnbextension~=3.6.6->ipywidgets<9,>=7.6.0->ipyleaflet->ibmpairs) (4.1.0)\n",
      "Requirement already satisfied: defusedxml in /opt/anaconda3/lib/python3.10/site-packages (from nbconvert>=6.4.4->jupyter-server<3,>=2.4.0->notebook>=4.4.1->widgetsnbextension~=3.6.6->ipywidgets<9,>=7.6.0->ipyleaflet->ibmpairs) (0.7.1)\n",
      "Requirement already satisfied: jupyterlab-pygments in /opt/anaconda3/lib/python3.10/site-packages (from nbconvert>=6.4.4->jupyter-server<3,>=2.4.0->notebook>=4.4.1->widgetsnbextension~=3.6.6->ipywidgets<9,>=7.6.0->ipyleaflet->ibmpairs) (0.1.2)\n",
      "Requirement already satisfied: mistune<4,>=2.0.3 in /opt/anaconda3/lib/python3.10/site-packages (from nbconvert>=6.4.4->jupyter-server<3,>=2.4.0->notebook>=4.4.1->widgetsnbextension~=3.6.6->ipywidgets<9,>=7.6.0->ipyleaflet->ibmpairs) (2.0.4)\n",
      "Requirement already satisfied: nbclient>=0.5.0 in /opt/anaconda3/lib/python3.10/site-packages (from nbconvert>=6.4.4->jupyter-server<3,>=2.4.0->notebook>=4.4.1->widgetsnbextension~=3.6.6->ipywidgets<9,>=7.6.0->ipyleaflet->ibmpairs) (0.8.0)\n",
      "Requirement already satisfied: pandocfilters>=1.4.1 in /opt/anaconda3/lib/python3.10/site-packages (from nbconvert>=6.4.4->jupyter-server<3,>=2.4.0->notebook>=4.4.1->widgetsnbextension~=3.6.6->ipywidgets<9,>=7.6.0->ipyleaflet->ibmpairs) (1.5.0)\n",
      "Requirement already satisfied: tinycss2 in /opt/anaconda3/lib/python3.10/site-packages (from nbconvert>=6.4.4->jupyter-server<3,>=2.4.0->notebook>=4.4.1->widgetsnbextension~=3.6.6->ipywidgets<9,>=7.6.0->ipyleaflet->ibmpairs) (1.2.1)\n",
      "Requirement already satisfied: fastjsonschema in /opt/anaconda3/lib/python3.10/site-packages (from nbformat>=5.3.0->jupyter-server<3,>=2.4.0->notebook>=4.4.1->widgetsnbextension~=3.6.6->ipywidgets<9,>=7.6.0->ipyleaflet->ibmpairs) (2.16.2)\n",
      "Requirement already satisfied: debugpy>=1.6.5 in /opt/anaconda3/lib/python3.10/site-packages (from ipykernel->jupyterlab<4.1,>=4.0.2->notebook>=4.4.1->widgetsnbextension~=3.6.6->ipywidgets<9,>=7.6.0->ipyleaflet->ibmpairs) (1.6.7)\n",
      "Requirement already satisfied: nest-asyncio in /opt/anaconda3/lib/python3.10/site-packages (from ipykernel->jupyterlab<4.1,>=4.0.2->notebook>=4.4.1->widgetsnbextension~=3.6.6->ipywidgets<9,>=7.6.0->ipyleaflet->ibmpairs) (1.6.0)\n",
      "Requirement already satisfied: psutil in /opt/anaconda3/lib/python3.10/site-packages (from ipykernel->jupyterlab<4.1,>=4.0.2->notebook>=4.4.1->widgetsnbextension~=3.6.6->ipywidgets<9,>=7.6.0->ipyleaflet->ibmpairs) (5.9.0)\n",
      "Requirement already satisfied: webencodings in /opt/anaconda3/lib/python3.10/site-packages (from bleach!=5.0.0->nbconvert>=6.4.4->jupyter-server<3,>=2.4.0->notebook>=4.4.1->widgetsnbextension~=3.6.6->ipywidgets<9,>=7.6.0->ipyleaflet->ibmpairs) (0.5.1)\n",
      "Requirement already satisfied: fqdn in /opt/anaconda3/lib/python3.10/site-packages (from jsonschema[format-nongpl]>=4.18.0->jupyter-events>=0.9.0->jupyter-server<3,>=2.4.0->notebook>=4.4.1->widgetsnbextension~=3.6.6->ipywidgets<9,>=7.6.0->ipyleaflet->ibmpairs) (1.5.1)\n",
      "Requirement already satisfied: isoduration in /opt/anaconda3/lib/python3.10/site-packages (from jsonschema[format-nongpl]>=4.18.0->jupyter-events>=0.9.0->jupyter-server<3,>=2.4.0->notebook>=4.4.1->widgetsnbextension~=3.6.6->ipywidgets<9,>=7.6.0->ipyleaflet->ibmpairs) (20.11.0)\n",
      "Requirement already satisfied: jsonpointer>1.13 in /opt/anaconda3/lib/python3.10/site-packages (from jsonschema[format-nongpl]>=4.18.0->jupyter-events>=0.9.0->jupyter-server<3,>=2.4.0->notebook>=4.4.1->widgetsnbextension~=3.6.6->ipywidgets<9,>=7.6.0->ipyleaflet->ibmpairs) (2.1)\n",
      "Requirement already satisfied: uri-template in /opt/anaconda3/lib/python3.10/site-packages (from jsonschema[format-nongpl]>=4.18.0->jupyter-events>=0.9.0->jupyter-server<3,>=2.4.0->notebook>=4.4.1->widgetsnbextension~=3.6.6->ipywidgets<9,>=7.6.0->ipyleaflet->ibmpairs) (1.3.0)\n",
      "Requirement already satisfied: webcolors>=1.11 in /opt/anaconda3/lib/python3.10/site-packages (from jsonschema[format-nongpl]>=4.18.0->jupyter-events>=0.9.0->jupyter-server<3,>=2.4.0->notebook>=4.4.1->widgetsnbextension~=3.6.6->ipywidgets<9,>=7.6.0->ipyleaflet->ibmpairs) (24.6.0)\n",
      "Requirement already satisfied: soupsieve>1.2 in /opt/anaconda3/lib/python3.10/site-packages (from beautifulsoup4->nbconvert>=6.4.4->jupyter-server<3,>=2.4.0->notebook>=4.4.1->widgetsnbextension~=3.6.6->ipywidgets<9,>=7.6.0->ipyleaflet->ibmpairs) (2.5)\n",
      "Requirement already satisfied: arrow>=0.15.0 in /opt/anaconda3/lib/python3.10/site-packages (from isoduration->jsonschema[format-nongpl]>=4.18.0->jupyter-events>=0.9.0->jupyter-server<3,>=2.4.0->notebook>=4.4.1->widgetsnbextension~=3.6.6->ipywidgets<9,>=7.6.0->ipyleaflet->ibmpairs) (1.2.3)\n"
     ]
    }
   ],
   "source": [
    "!pip install ibmpairs"
   ]
  },
  {
   "cell_type": "code",
   "execution_count": 6,
   "metadata": {},
   "outputs": [],
   "source": [
    "import ibmpairs.client as client\n",
    "import ibmpairs.query as query\n",
    "\n",
    "# other imports\n",
    "import pandas as pd\n",
    "import configparser"
   ]
  },
  {
   "cell_type": "markdown",
   "metadata": {},
   "source": [
    "Now, let's create a client object using the API_KEY, TENANT_ID (or CLIENT_ID) and ORG_ID to create an authenticated HTTP client Authentication token using 'ibmpairs.client' module, to use it in the subsequent steps."
   ]
  },
  {
   "cell_type": "code",
   "execution_count": 7,
   "metadata": {},
   "outputs": [
    {
     "name": "stdout",
     "output_type": "stream",
     "text": [
      "2024-06-25 17:17:03 - paw - INFO - The client authentication method is assumed to be OAuth2.\n",
      "2024-06-25 17:17:03 - paw - INFO - Legacy Environment is False\n",
      "2024-06-25 17:17:03 - paw - INFO - The authentication api key type is assumed to be IBM EIS, because the api key prefix 'PHX' is present.\n",
      "2024-06-25 17:17:05 - paw - INFO - Authentication success.\n",
      "2024-06-25 17:17:05 - paw - INFO - HOST: https://api.ibm.com/geospatial/run/na/core/v3\n"
     ]
    }
   ],
   "source": [
    "config = configparser.RawConfigParser()\n",
    "config.read('../../auth/secrets.ini')\n",
    "\n",
    "EI_ORG_ID     = config.get('EI', 'api.org_id') \n",
    "EI_TENANT_ID  = config.get('EI', 'api.tenant_id') \n",
    "EI_API_KEY     = config.get('EI', 'api.api_key')\n",
    "\n",
    "EI_client_v3 = client.get_client(org_id    = EI_ORG_ID,\n",
    "                                  tenant_id = EI_TENANT_ID,\n",
    "                                  api_key     = EI_API_KEY,\n",
    "                                  version   = 3\n",
    "                                )"
   ]
  },
  {
   "cell_type": "markdown",
   "metadata": {},
   "source": [
    "The following code snippet submits the query for the AGB Data Layer <i>above-ground-biomass</i>  for years 2020, 2021 and 2022 using Geospatial APIs V3 query API.\n",
    "\n",
    "Let's go ahead, define and submit a query."
   ]
  },
  {
   "cell_type": "code",
   "execution_count": 8,
   "metadata": {},
   "outputs": [
    {
     "name": "stdout",
     "output_type": "stream",
     "text": [
      "2024-06-25 17:17:05 - paw - INFO - TASK: submit STARTING.\n",
      "2024-06-25 17:17:08 - paw - INFO - TASK: submit COMPLETED.\n"
     ]
    },
    {
     "data": {
      "text/html": [
       "<div>\n",
       "<style scoped>\n",
       "    .dataframe tbody tr th:only-of-type {\n",
       "        vertical-align: middle;\n",
       "    }\n",
       "\n",
       "    .dataframe tbody tr th {\n",
       "        vertical-align: top;\n",
       "    }\n",
       "\n",
       "    .dataframe thead th {\n",
       "        text-align: right;\n",
       "    }\n",
       "</style>\n",
       "<table border=\"1\" class=\"dataframe\">\n",
       "  <thead>\n",
       "    <tr style=\"text-align: right;\">\n",
       "      <th></th>\n",
       "      <th>layer_id</th>\n",
       "      <th>layer_name</th>\n",
       "      <th>dataset</th>\n",
       "      <th>longitude</th>\n",
       "      <th>latitude</th>\n",
       "      <th>value</th>\n",
       "      <th>date</th>\n",
       "    </tr>\n",
       "  </thead>\n",
       "  <tbody>\n",
       "    <tr>\n",
       "      <th>0</th>\n",
       "      <td>38000</td>\n",
       "      <td>above ground biomass</td>\n",
       "      <td>Above Ground Biomass</td>\n",
       "      <td>-9.108189</td>\n",
       "      <td>38.503423</td>\n",
       "      <td>85.0</td>\n",
       "      <td>2020-01-01</td>\n",
       "    </tr>\n",
       "    <tr>\n",
       "      <th>1</th>\n",
       "      <td>38000</td>\n",
       "      <td>above ground biomass</td>\n",
       "      <td>Above Ground Biomass</td>\n",
       "      <td>-9.108189</td>\n",
       "      <td>38.503423</td>\n",
       "      <td>90.0</td>\n",
       "      <td>2021-01-01</td>\n",
       "    </tr>\n",
       "    <tr>\n",
       "      <th>2</th>\n",
       "      <td>38000</td>\n",
       "      <td>above ground biomass</td>\n",
       "      <td>Above Ground Biomass</td>\n",
       "      <td>-9.108189</td>\n",
       "      <td>38.503423</td>\n",
       "      <td>22.0</td>\n",
       "      <td>2022-01-01</td>\n",
       "    </tr>\n",
       "  </tbody>\n",
       "</table>\n",
       "</div>"
      ],
      "text/plain": [
       "   layer_id            layer_name               dataset  longitude   latitude  \\\n",
       "0     38000  above ground biomass  Above Ground Biomass  -9.108189  38.503423   \n",
       "1     38000  above ground biomass  Above Ground Biomass  -9.108189  38.503423   \n",
       "2     38000  above ground biomass  Above Ground Biomass  -9.108189  38.503423   \n",
       "\n",
       "  value       date  \n",
       "0  85.0 2020-01-01  \n",
       "1  90.0 2021-01-01  \n",
       "2  22.0 2022-01-01  "
      ]
     },
     "execution_count": 8,
     "metadata": {},
     "output_type": "execute_result"
    }
   ],
   "source": [
    "query_json = { \"name\": \"Above Ground Biomass - Portugal\",\n",
    "                          \"layers\": [ {  \"id\": \"38000\", \"type\": \"raster\"  } ], # Above Ground Biomass datalayer\n",
    "                          \"spatial\":  {  \"type\": \"point\", \"coordinates\": [ 38.50342316, -9.10818912 ] },\n",
    "                          \"temporal\": {  \"intervals\": [ { \"start\": \"2020-01-01 00:00:00\", \"end\": \"2022-01-02 00:00:00\"  } ] }\n",
    "             }\n",
    "\n",
    "results = query.submit(query_json, client=EI_client_v3, verify=False)\n",
    "AGB_df = results.point_data_as_dataframe()\n",
    "AGB_df['date'] = pd.to_datetime(AGB_df['timestamp'] * 1e6, errors = 'coerce')\n",
    "AGB_df = AGB_df.drop(columns=['timestamp'])\n",
    "AGB_df"
   ]
  },
  {
   "cell_type": "markdown",
   "metadata": {},
   "source": [
    "#### Understanding the sample\n",
    "\n",
    "<b>Code:</b>\n",
    "\n",
    "We start with various import statements as needed:\n",
    "\n",
    "```\n",
    "import ibmpairs.authentication as authentication\n",
    "import ibmpairs.client as client\n",
    "import ibmpairs.query as query\n",
    "\n",
    "# other imports\n",
    "import pandas as pd\n",
    "\n",
    "import configparser\n",
    "```"
   ]
  },
  {
   "cell_type": "markdown",
   "metadata": {
    "vscode": {
     "languageId": "plaintext"
    }
   },
   "source": [
    "After the imports we create a client object and use an API_KEY, TENANT_ID (or CLIENT_ID) and an ORG_ID to create an authenticated HTTP client with version 3 of Geospatial APIs by specifying the version as '3'.\n",
    "\n",
    "```\n",
    "EI_client_v3 = client.get_client(org_id    = EI_ORG_ID,\n",
    "                                  tenant_id = EI_TENANT_ID,\n",
    "                                  api_key     = EI_API_KEY,\n",
    "                                  version   = 3\n",
    "                                )\n",
    "```"
   ]
  },
  {
   "cell_type": "markdown",
   "metadata": {},
   "source": [
    "This is a required step before you start doing queries but you only need to do it once. \n",
    "\n",
    "The most intersting part of the above example is the definition of the actual query JSON that we send to Geospatial APIs.\n",
    "\n",
    "```\n",
    "query_json = { \"name\": \"Above Ground Biomass - Portugal\",\n",
    "                          \"layers\": [ {  \"id\": \"38000\", \"type\": \"raster\"  } ], # Above Ground Biomass datalayer\n",
    "                          \"spatial\":  {  \"type\": \"point\", \"coordinates\": [ 38.50342316, -9.10818912 ] },\n",
    "                          \"temporal\": {  \"intervals\": [ { \"start\": \"2020-01-01 00:00:00\", \"end\": \"2022-01-02 00:00:00\"  } ] }\n",
    "             }\n",
    "```"
   ]
  },
  {
   "cell_type": "markdown",
   "metadata": {},
   "source": [
    "In general, the query_json object answers the following questions: <i>what?, where? and when?</i>. What we are requesting is specified by the value associated to `layers`. Here, we are requesting a single raster layer with Id 38000. Next we define the spatial coverage of the query with the spatial key. In the above code, we only request data for a single point in the format [latitude, longitude]. Note that longitudes in EI range from -180 to +180 degrees. Using values larger than +180 will lead to error messages. Similarly, latitudes range of course from -90 to +90 degrees. Finally we define a single time range via the temporal field.\n",
    "\n",
    "Subsequently we submit the query to Geospatial APIs. As this is a point query, the result is returned directly from the submit method call:\n",
    "\n",
    "```query_result = query.submit(query_json)```"
   ]
  },
  {
   "cell_type": "markdown",
   "metadata": {},
   "source": [
    "Note that we don’t explicitly need to tell the query object to use the authenticated client we created previously as it finds it automatically.\n",
    "\n",
    "Geospatial APIs returns the result of a point query as JSON data. We use a helper method to turn this data into a local data frame:\n",
    "\n",
    "```AGB_df = results.point_data_as_dataframe()```"
   ]
  },
  {
   "cell_type": "markdown",
   "metadata": {},
   "source": [
    "From this point on all the data is in a local data frame and we can operate on it as we would on any other data frame."
   ]
  },
  {
   "cell_type": "markdown",
   "metadata": {},
   "source": [
    "<b>Output:</b>\n",
    "\n",
    "The output above displays us the data that's been queried for the layer with id <i>38000</i> which corresponds to <i>Above Ground Biomass</i> Data Layer for 3 years 2020, 2021 and 2022 respectively in a tabular form. Each row typically consists of layer_id, layer_name, dataset, latitude and longitude that's being requested, value of the Above Ground Biomass (AGB) for over that year with the date on which the value is being presented.\n",
    "\n",
    "<b>Note:</b> Point queries such as the above are unique in that they instantly return a response. This makes them particularly suited to testing as well as exploration and experimentation. If unsure about the data you are interested in- its spatial coverage frequency, or temporal extent- start with a point query. Having said that, note that some advanced features – most notably <b>user defined functions <>`</b> are not available for point queries."
   ]
  }
 ],
 "metadata": {
  "kernelspec": {
   "display_name": "base",
   "language": "python",
   "name": "python3"
  },
  "language_info": {
   "codemirror_mode": {
    "name": "ipython",
    "version": 3
   },
   "file_extension": ".py",
   "mimetype": "text/x-python",
   "name": "python",
   "nbconvert_exporter": "python",
   "pygments_lexer": "ipython3",
   "version": "3.10.-1"
  }
 },
 "nbformat": 4,
 "nbformat_minor": 2
}
