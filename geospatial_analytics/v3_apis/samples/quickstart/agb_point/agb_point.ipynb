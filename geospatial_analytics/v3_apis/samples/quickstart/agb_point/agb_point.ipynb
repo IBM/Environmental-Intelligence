{
 "cells": [
  {
   "cell_type": "markdown",
   "metadata": {},
   "source": [
    "# Quick Start - AGB Point Query\n",
    "\n",
    "## Overview\n",
    "\n",
    "This notebook walks us through the Above Ground Biomass (AGB) point query and gives a brief about how to send a point query to AGB Geospatial APIs.\n",
    "\n",
    "The most basic query in AGB Geospatial APIs is the point query. Now you'll make a point query with the user interface we are going to get you started with the Geospatial APIs API by using it to do a point query:\n",
    "\n",
    "The below query requests <i>Above Ground Biomass</i> values from Geospatial APIs layer 38000, Above Ground Biomass dataset, for a location somewhere in Castelo, Portugal – the coordinates 38.50/-9.10 (latitude/longitude).\n",
    "\n",
    "Geospatial APIs returns about 3 rows of data, which are stored in the AGB_df dataframe.\n",
    "\n",
    "\n",
    "### Setup\n",
    "Before starting, you have to install IBM EI Geospatial python SDK using `pip3 install -U ibmpairs`.\n",
    "\n",
    "<b>Note:</b> To run this notebook seamlessly, you have to first configure your Geospatial APIs' credentials in a file named `secrets.ini` in the below format:\n",
    "\n",
    "```\n",
    "[EI]\n",
    "api.host = https://api.ibm.com/geospatial/run/na/core/v3\n",
    "api.api_key = <Your Geospatial APIs API key>\n",
    "api.tenant_id = <Your Geospatial APIs Tenant ID>\n",
    "api.org_id = <Your Geospatial APIs Org ID>\n",
    "```\n",
    "\n",
    "Keep the secrets.ini file at an appropriate relative location of this notebook. For example, as specified in the below config.\n",
    "\n",
    "```config.read('../../auth/secrets.ini')```"
   ]
  },
  {
   "cell_type": "code",
   "execution_count": null,
   "metadata": {},
   "outputs": [],
   "source": [
    "%pip install ibmpairs\n",
    "%pip install configparser"
   ]
  },
  {
   "cell_type": "code",
   "execution_count": 2,
   "metadata": {},
   "outputs": [],
   "source": [
    "import ibmpairs.client as client\n",
    "import ibmpairs.query as query\n",
    "\n",
    "# other imports\n",
    "import pandas as pd\n",
    "import configparser"
   ]
  },
  {
   "cell_type": "markdown",
   "metadata": {},
   "source": [
    "Now, let's create a client object using the API_KEY, TENANT_ID (or CLIENT_ID) and ORG_ID to create an authenticated HTTP client Authentication token using 'ibmpairs.client' module, to use it in the subsequent steps."
   ]
  },
  {
   "cell_type": "code",
   "execution_count": 3,
   "metadata": {},
   "outputs": [
    {
     "name": "stdout",
     "output_type": "stream",
     "text": [
      "2024-10-10 18:43:07 - paw - INFO - The client authentication method is assumed to be OAuth2.\n",
      "2024-10-10 18:43:07 - paw - INFO - Legacy Environment is False\n",
      "2024-10-10 18:43:07 - paw - INFO - The authentication api key type is assumed to be IBM EIS, because the api key prefix 'PHX' is present.\n",
      "2024-10-10 18:43:09 - paw - INFO - Authentication success.\n",
      "2024-10-10 18:43:09 - paw - INFO - HOST: https://api.ibm.com/geospatial/run/na/core/v3\n"
     ]
    }
   ],
   "source": [
    "config = configparser.RawConfigParser()\n",
    "config.read('../../auth/secrets.ini')\n",
    "\n",
    "EI_ORG_ID     = config.get('EI', 'api.org_id') \n",
    "EI_TENANT_ID  = config.get('EI', 'api.tenant_id') \n",
    "EI_API_KEY     = config.get('EI', 'api.api_key')\n",
    "\n",
    "EI_client_v3 = client.get_client(org_id    = EI_ORG_ID,\n",
    "                                  tenant_id = EI_TENANT_ID,\n",
    "                                  api_key     = EI_API_KEY,\n",
    "                                  version   = 3\n",
    "                                )"
   ]
  },
  {
   "cell_type": "markdown",
   "metadata": {},
   "source": [
    "The following code snippet submits the query for the AGB Data Layer <i>above-ground-biomass</i>  for years 2020, 2021 and 2022 using Geospatial APIs V3 query API.\n",
    "\n",
    "Let's go ahead, define and submit a query."
   ]
  },
  {
   "cell_type": "code",
   "execution_count": 4,
   "metadata": {},
   "outputs": [
    {
     "name": "stdout",
     "output_type": "stream",
     "text": [
      "2024-10-10 18:43:09 - paw - INFO - TASK: submit STARTING.\n",
      "2024-10-10 18:43:11 - paw - INFO - TASK: submit COMPLETED.\n"
     ]
    },
    {
     "data": {
      "text/html": [
       "<div>\n",
       "<style scoped>\n",
       "    .dataframe tbody tr th:only-of-type {\n",
       "        vertical-align: middle;\n",
       "    }\n",
       "\n",
       "    .dataframe tbody tr th {\n",
       "        vertical-align: top;\n",
       "    }\n",
       "\n",
       "    .dataframe thead th {\n",
       "        text-align: right;\n",
       "    }\n",
       "</style>\n",
       "<table border=\"1\" class=\"dataframe\">\n",
       "  <thead>\n",
       "    <tr style=\"text-align: right;\">\n",
       "      <th></th>\n",
       "      <th>layer_id</th>\n",
       "      <th>layer_name</th>\n",
       "      <th>dataset</th>\n",
       "      <th>longitude</th>\n",
       "      <th>latitude</th>\n",
       "      <th>value</th>\n",
       "      <th>date</th>\n",
       "    </tr>\n",
       "  </thead>\n",
       "  <tbody>\n",
       "    <tr>\n",
       "      <th>0</th>\n",
       "      <td>38000</td>\n",
       "      <td>above ground biomass</td>\n",
       "      <td>Above Ground Biomass</td>\n",
       "      <td>-9.108189</td>\n",
       "      <td>38.503423</td>\n",
       "      <td>85.0</td>\n",
       "      <td>2020-01-01</td>\n",
       "    </tr>\n",
       "    <tr>\n",
       "      <th>1</th>\n",
       "      <td>38000</td>\n",
       "      <td>above ground biomass</td>\n",
       "      <td>Above Ground Biomass</td>\n",
       "      <td>-9.108189</td>\n",
       "      <td>38.503423</td>\n",
       "      <td>90.0</td>\n",
       "      <td>2021-01-01</td>\n",
       "    </tr>\n",
       "    <tr>\n",
       "      <th>2</th>\n",
       "      <td>38000</td>\n",
       "      <td>above ground biomass</td>\n",
       "      <td>Above Ground Biomass</td>\n",
       "      <td>-9.108189</td>\n",
       "      <td>38.503423</td>\n",
       "      <td>22.0</td>\n",
       "      <td>2022-01-01</td>\n",
       "    </tr>\n",
       "  </tbody>\n",
       "</table>\n",
       "</div>"
      ],
      "text/plain": [
       "   layer_id            layer_name               dataset  longitude   latitude  \\\n",
       "0     38000  above ground biomass  Above Ground Biomass  -9.108189  38.503423   \n",
       "1     38000  above ground biomass  Above Ground Biomass  -9.108189  38.503423   \n",
       "2     38000  above ground biomass  Above Ground Biomass  -9.108189  38.503423   \n",
       "\n",
       "  value       date  \n",
       "0  85.0 2020-01-01  \n",
       "1  90.0 2021-01-01  \n",
       "2  22.0 2022-01-01  "
      ]
     },
     "execution_count": 4,
     "metadata": {},
     "output_type": "execute_result"
    }
   ],
   "source": [
    "query_json = { \"name\": \"Above Ground Biomass - Portugal\",\n",
    "                          \"layers\": [ {  \"id\": \"38000\", \"type\": \"raster\"  } ], # Above Ground Biomass datalayer\n",
    "                          \"spatial\":  {  \"type\": \"point\", \"coordinates\": [ 38.50342316, -9.10818912 ] },\n",
    "                          \"temporal\": {  \"intervals\": [ { \"start\": \"2020-01-01 00:00:00\", \"end\": \"2022-01-02 00:00:00\"  } ] }\n",
    "             }\n",
    "\n",
    "results = query.submit(query_json, client=EI_client_v3)\n",
    "AGB_df = results.point_data_as_dataframe()\n",
    "AGB_df['date'] = pd.to_datetime(AGB_df['timestamp'] * 1e6, errors = 'coerce')\n",
    "AGB_df = AGB_df.drop(columns=['timestamp'])\n",
    "AGB_df"
   ]
  },
  {
   "cell_type": "markdown",
   "metadata": {},
   "source": [
    "#### Understanding the sample\n",
    "\n",
    "<b>Code:</b>\n",
    "\n",
    "We start with various import statements as needed:\n",
    "\n",
    "```\n",
    "import ibmpairs.authentication as authentication\n",
    "import ibmpairs.client as client\n",
    "import ibmpairs.query as query\n",
    "\n",
    "# other imports\n",
    "import pandas as pd\n",
    "\n",
    "import configparser\n",
    "```"
   ]
  },
  {
   "cell_type": "markdown",
   "metadata": {
    "vscode": {
     "languageId": "plaintext"
    }
   },
   "source": [
    "After the imports we create a client object and use an API_KEY, TENANT_ID (or CLIENT_ID) and an ORG_ID to create an authenticated HTTP client with version 3 of Geospatial APIs by specifying the version as '3'.\n",
    "\n",
    "```\n",
    "EI_client_v3 = client.get_client(org_id    = EI_ORG_ID,\n",
    "                                  tenant_id = EI_TENANT_ID,\n",
    "                                  api_key     = EI_API_KEY,\n",
    "                                  version   = 3\n",
    "                                )\n",
    "```"
   ]
  },
  {
   "cell_type": "markdown",
   "metadata": {},
   "source": [
    "This is a required step before you start doing queries but you only need to do it once. \n",
    "\n",
    "The most intersting part of the above example is the definition of the actual query JSON that we send to Geospatial APIs.\n",
    "\n",
    "```\n",
    "query_json = { \"name\": \"Above Ground Biomass - Portugal\",\n",
    "                          \"layers\": [ {  \"id\": \"38000\", \"type\": \"raster\"  } ], # Above Ground Biomass datalayer\n",
    "                          \"spatial\":  {  \"type\": \"point\", \"coordinates\": [ 38.50342316, -9.10818912 ] },\n",
    "                          \"temporal\": {  \"intervals\": [ { \"start\": \"2020-01-01 00:00:00\", \"end\": \"2022-01-02 00:00:00\"  } ] }\n",
    "             }\n",
    "```"
   ]
  },
  {
   "cell_type": "markdown",
   "metadata": {},
   "source": [
    "In general, the query_json object answers the following questions: <i>what?, where? and when?</i>. What we are requesting is specified by the value associated to `layers`. Here, we are requesting a single raster layer with Id 38000. Next we define the spatial coverage of the query with the spatial key. In the above code, we only request data for a single point in the format [latitude, longitude]. Note that longitudes in EI range from -180 to +180 degrees. Using values larger than +180 will lead to error messages. Similarly, latitudes range of course from -90 to +90 degrees. Finally we define a single time range via the temporal field.\n",
    "\n",
    "Subsequently we submit the query to Geospatial APIs. As this is a point query, the result is returned directly from the submit method call:\n",
    "\n",
    "```query_result = query.submit(query_json)```"
   ]
  },
  {
   "cell_type": "markdown",
   "metadata": {},
   "source": [
    "Note that we don’t explicitly need to tell the query object to use the authenticated client we created previously as it finds it automatically.\n",
    "\n",
    "Geospatial APIs returns the result of a point query as JSON data. We use a helper method to turn this data into a local data frame:\n",
    "\n",
    "```AGB_df = results.point_data_as_dataframe()```"
   ]
  },
  {
   "cell_type": "markdown",
   "metadata": {},
   "source": [
    "From this point on all the data is in a local data frame and we can operate on it as we would on any other data frame."
   ]
  },
  {
   "cell_type": "markdown",
   "metadata": {},
   "source": [
    "<b>Output:</b>\n",
    "\n",
    "The output above displays us the data that's been queried for the layer with id <i>38000</i> which corresponds to <i>Above Ground Biomass</i> Data Layer for 3 years 2020, 2021 and 2022 respectively in a tabular form. Each row typically consists of layer_id, layer_name, dataset, latitude and longitude that's being requested, value of the Above Ground Biomass (AGB) for over that year with the date on which the value is being presented.\n",
    "\n",
    "<b>Note:</b> Point queries such as the above are unique in that they instantly return a response. This makes them particularly suited to testing as well as exploration and experimentation. If unsure about the data you are interested in- its spatial coverage frequency, or temporal extent- start with a point query. Having said that, note that some advanced features – most notably <b>user defined functions <>`</b> are not available for point queries."
   ]
  }
 ],
 "metadata": {
  "kernelspec": {
   "display_name": "Python 3 (ipykernel)",
   "language": "python",
   "name": "python3"
  },
  "language_info": {
   "codemirror_mode": {
    "name": "ipython",
    "version": 3
   },
   "file_extension": ".py",
   "mimetype": "text/x-python",
   "name": "python",
   "nbconvert_exporter": "python",
   "pygments_lexer": "ipython3",
   "version": "3.11.7"
  }
 },
 "nbformat": 4,
 "nbformat_minor": 4
}
