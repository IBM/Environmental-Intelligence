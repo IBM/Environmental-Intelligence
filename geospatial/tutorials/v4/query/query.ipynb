{
 "cells": [
  {
   "cell_type": "markdown",
   "id": "b8a93297",
   "metadata": {},
   "source": [
    "# Query"
   ]
  },
  {
   "cell_type": "markdown",
   "id": "b1ea053a",
   "metadata": {},
   "source": [
    "The core query request for a Geospatial V4 APIs query is a json payload:"
   ]
  },
  {
   "cell_type": "markdown",
   "id": "d9d01da8",
   "metadata": {},
   "source": [
    "```python\n",
    "{\n",
    " \"name\": \"Above Ground Biomass - Species agnostic\",\n",
    " \"spatial\": {\n",
    "  \"geojson\": {\n",
    "   \"type\": \"Feature\",\n",
    "   \"geometry\": {\n",
    "    \"type\": \"MultiPolygon\",\n",
    "    \"coordinates\": [\n",
    "     [\n",
    "      [\n",
    "       [-54.84808518026906 , -4.1487583856502255],\n",
    "       [-55.23365286457399 , -4.172364570403588 ],\n",
    "       [-55.238570819730946, -3.804501524663678 ],\n",
    "       [-54.87660932017937 , -3.792698432286996 ],\n",
    "       [-54.84808518026906 , -4.1487583856502255]\n",
    "      ]\n",
    "     ]\n",
    "    ]\n",
    "   }\n",
    "  }\n",
    " },\n",
    " \"temporal\": {\n",
    "  \"years\": [\n",
    "   2019,\n",
    "   2020,\n",
    "   2021,\n",
    "   2025,\n",
    "  ]\n",
    " },\n",
    " \"layers\": [\n",
    "  {\n",
    "   \"datalayer\": \"above-ground-biomass\"\n",
    "  }\n",
    " ]\n",
    "}\n",
    "```"
   ]
  },
  {
   "cell_type": "markdown",
   "id": "df64db84",
   "metadata": {},
   "source": [
    "# What this JSON means and how is it different from V3?"
   ]
  },
  {
   "cell_type": "markdown",
   "id": "e9d03f5c",
   "metadata": {},
   "source": [
    "As illustrated in the Quickstart [Point Query](../../v3/quickstart/point_query.ipynb) and Quickstart [Raster Query](../../v3/quickstart/raster_query.ipynb) examples, to construct a valid Geospatial APIs query json payload; there must be at the minimum a `layers`, a `spatial` and a `temporal` definition.\n",
    "\n",
    "The `layers` (type) definition is __what__ data (i.e. which satellite instrument or model result layers) is requested.\n",
    "\n",
    "The `spatial` (space) definition is __where__ the data is requsted for.\n",
    "\n",
    "The `temporal` (time) definition is __when__ the data is requested for.\n",
    "\n",
    "The `layers`, `spatial` and `temporal` definitions merit further explanation and are covered in more detail below:"
   ]
  },
  {
   "cell_type": "markdown",
   "id": "5f4ed133",
   "metadata": {},
   "source": [
    "## Layers\n",
    "\n",
    "The `layers` definition in V4 APIs raster query also differs from the [V3 layers](../../v3/query/layers.ipynb) not by the basic definition but by the way it is defined in the query. We can pass the Data Layer using it's name, for instance `above-ground-biomass` in the above query definition instead of using the identifiers for the Data Layers.\n",
    "\n",
    "The List of Data Layers that are suppoerted at this point in time is:\n",
    "\n",
    "- above-ground-biomass\n",
    "- tree-species-above-ground-biomass-natural\n",
    "- canopy-height\n",
    "\n",
    "A Data Layer can be requested by its name, for instance `above-ground-biomass` in the query definition above, instead of using the Data Layer identifiers.\n",
    "\n",
    "## Multiple layers\n",
    "\n",
    "In order to pull multiple layers of data in a single query a layer entry can be added to the `layers` attribute. It is possible to pull multiple layers of data within the same query regardless of which Data Set they reside in.\n",
    "\n",
    "```python\n",
    "{\n",
    "\n",
    "  ...\n",
    "    \n",
    "    \"layers\": [ \n",
    "                              { \"datalayer\": \"above-ground-biomass\" },\n",
    "                              {\n",
    "                                \"datalayer\": \"tree-species-above-ground-biomass-natural\",\n",
    "                                \"properties\": {\n",
    "                                    \"species\": \"para_rubber\"\n",
    "                                    }\n",
    "                              }\n",
    "                            ]\n",
    "}\n",
    "```\n",
    "\n",
    "Notice how the layer specification of `above-ground-biomass` and `tree-species-above-ground-biomass-natural` differ while tree-species-above-ground-biomass-natural Layer contain a property named as `species` which can be specified with various values such as para_rubber, cork_oak etc."
   ]
  },
  {
   "cell_type": "markdown",
   "id": "92d2a16d",
   "metadata": {},
   "source": [
    "## Spatial\n",
    "The spatial part of the v4 APIs raster query, unlike [v3](../../v3/query/spatial.ipynb) deals with `GeoJSON`. Now, ``GeoJSON`` is an open standard format for representing geographic data and their non-spatial attributes. The coordinates describe either a polygon or a multipolygon depending on the area you're querying. GeoJSON usually follows the right-hand rule which means that - exterior rings in the definition will be read counterclockwise and interiror rings, clockwise.\n",
    "\n",
    "There are various geometry types that are supported by GeoJSON. However, we currently support `Polygon` and `MultiPolygon` as our standard geometry types with support for more geometries will be lined up in the future releases. Learn more about GeoJSON [here](https://datatracker.ietf.org/doc/html/rfc7946)."
   ]
  },
  {
   "cell_type": "markdown",
   "id": "fcfb0de1",
   "metadata": {},
   "source": [
    "## Temporal\n",
    "\n",
    "The temporal section of the v4 APIs raster query has been upgraded from the conventional [v3 query](../../v3/query/temporal.ipynb) format to allow a specification by year; an entire year can be queried by passing in the year as a value, as an alternative to a timestamp range.\n",
    "\n",
    "It is possible to query for predictive temporal ranges (in the case of the Above Ground Biomass dataset) as well as current years. In the case of prediction years the data will be received as <correction needed here as I don't think it's metadata only>; using an AI model for the prediction of values for forecasted AGB data.\n",
    "\n",
    "You can even query for future / prediction years and it need not be only the past years that you're gonna query for. Please note that you won't be able to download/see the tiff file(s) for the prediction years and you'll only get the [metadata](../../v3/query/metadata.ipynb) for those years. The way this works is that, we use previous years' data and by using AI models we'll predict the AGB data for the future years. In the above JSON, except the year 2025, every other year is a historical year. And note that current year will be considered as prediction year in every query."
   ]
  }
 ],
 "metadata": {
  "kernelspec": {
   "display_name": "Python 3 (ipykernel)",
   "language": "python",
   "name": "python3"
  },
  "language_info": {
   "codemirror_mode": {
    "name": "ipython",
    "version": 3
   },
   "file_extension": ".py",
   "mimetype": "text/x-python",
   "name": "python",
   "nbconvert_exporter": "python",
   "pygments_lexer": "ipython3",
   "version": "3.11.0"
  }
 },
 "nbformat": 4,
 "nbformat_minor": 5
}
