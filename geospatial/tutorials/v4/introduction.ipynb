{
 "cells": [
  {
   "cell_type": "markdown",
   "metadata": {},
   "source": [
    "# Introducing Environmental Intelligence: Geospatial APIs V4\n",
    "\n",
    "The Geospatial APIs AGB (v4) are an extension to the Geospatial APIs v3 endpoints within [IBM Environmental Intelligence](https://www.ibm.com/products/environmental-intelligence) specifically designed for Above Ground Biomass (AGB) analytics with temporal data ranging from 2015 to 2100 that is explained in [this tutorial](../v4/query/query.ipynb) in detail.\n",
    "\n",
    "AGB refers to the total mass of living plant material above the soil surface in a given area. This includes all plant parts that are typically visible and situated above the ground, such as:\n",
    "\n",
    "- Trunks, branches, and stems of trees and shrubs.\n",
    "- Leaves and flowers.\n",
    "- Fruits, seeds, and any other reproductive organs.\n",
    "\n",
    "AGB is a critical ecological and environmental component because it plays a central role in carbon sequestration, ecosystem functioning, biodiversity, and the energy flow within ecosystems. As such, it is often studied in the context of carbon cycling, climate change, land-use change, and forest management.\n",
    "\n",
    "There are various factors that influence the AGB cover. The important factors to note are:\n",
    "\n",
    "- `Climate`: Temperature, precipitation, and sunlight availability all influence the rate of plant growth and, therefore, the amount of biomass produced.\n",
    "- `Soil Fertility`: Soil properties, such as nutrient content, pH, and texture, affect plant growth. Rich, fertile soils tend to support more robust plant growth and higher AGB.\n",
    "- `Vegetation Type`: The species composition and vegetation structure of an area determine the AGB. For example, Forests tend to have much higher AGB compared to grasslands or shrublands.\n",
    "- `Disturbances`: Natural or human-caused disturbances can affect the AGB in an area. For example, Wildfires may reduce AGB by killing plants and releasing stored carbon into the atmosphere.\n",
    "\n",
    "Please refer to [Above Ground Biomass](../v4/quickstart/above_ground_biomass.ipynb) tutorial to learn more about the Data Layers in that above-ground-biomass Data Set.\n",
    "\n",
    "## Differences between v4 and v3 Geospatial API queries\n",
    "\n",
    "While the V4 and V3 Geospatial API queries share significant similarities, there are various differences between these two that makes V4 a good extended version of V3.\n",
    "\n",
    "The approach to querying data in v3 and v4 shares similarity- it is still necessary to submit a query (JSON), check the status and download,- however there are significant differences in the specification of the `what` (Data Layer), `where` (spatial) and `when` (temporal) sections of the query JSON. Please see the v4 tutorial section [Query](query/query.ipynb) to understand the differences."
   ]
  },
  {
   "cell_type": "markdown",
   "metadata": {},
   "source": [
    "##  Industry use cases\n",
    "\n",
    "There are many ways industries can take advantage of Geospatial APIs AGB:\n",
    "\n",
    "- A government can use AGB data to assess carbon storage and biodiversity in forests, supporting climate change mitigation and reforestation policies.\n",
    "- A forest management company can estimate available biomass for sustainable logging, optimize resource use, and enhance forest regeneration efforts.\n",
    "- A renewable energy provider can calculate biomass resources in forests to determine fuel availability for bioenergy production, improving supply chain planning.\n",
    "- An agriculture firm can assess land productivity and soil health through AGB measurements, optimizing agroforestry practices and crop management.\n",
    "- An ecologist can monitor ecosystem health and biodiversity by tracking changes in AGB over time, aiding conservation and restoration efforts.\n",
    "- A city planner can assess urban forests’ contribution to carbon sequestration and green infrastructure, supporting urban resilience and environmental quality.\n",
    "- A construction company can evaluate the environmental impact of land-use changes (e.g., deforestation) when planning infrastructure projects, helping with EIA (Environmental Impact Assessment) compliance.\n",
    "- A reforestation NGO can track the growth and carbon sequestration of newly planted forests, enhancing the success of afforestation projects.\n",
    "- A disaster management agency can predict wildfire risks and fuel loads in forests using AGB data, optimizing disaster preparedness and response.\n",
    "- A timber industry can estimate available wood resources in forests, optimizing timber production and sustainable harvesting practices.\n",
    "- A natural resource management organization can evaluate forest biomass to assess ecosystem services like water regulation, soil protection, and climate resilience.\n",
    "- A climate insurance company can assess forest carbon stocks and AGB to model risks related to forest fires, floods, or droughts, refining policy offerings and risk management strategies."
   ]
  }
 ],
 "metadata": {
  "language_info": {
   "name": "python"
  }
 },
 "nbformat": 4,
 "nbformat_minor": 2
}
