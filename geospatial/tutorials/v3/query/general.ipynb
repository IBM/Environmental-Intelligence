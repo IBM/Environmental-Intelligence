{
 "cells": [
  {
   "cell_type": "markdown",
   "id": "314cbd0d",
   "metadata": {},
   "source": [
    "# General"
   ]
  },
  {
   "cell_type": "markdown",
   "id": "e6ded362",
   "metadata": {},
   "source": [
    "The flow of a Geospatial APIs query can take one of three paths:-\n",
    "\n",
    "- in the case of an `interactive` query (point) data is returned synchronously as a result of the `submit` request,\n"
   ]
  },
  {
   "cell_type": "markdown",
   "id": "70ff0af5",
   "metadata": {},
   "source": [
    "![interactive](images/interactive.png)\n",
    "\n"
   ]
  },
  {
   "cell_type": "markdown",
   "id": "ade9acbb",
   "metadata": {},
   "source": [
    "- in the case of a `batch` query (raster, batch point); the flow is to `submit`, check the `status` then `download` the result, \n",
    "\n",
    "- when an interactive query is large, the query is converted to batch and returned with the `submit`, check `status` and then `download` flow."
   ]
  },
  {
   "cell_type": "markdown",
   "id": "319bb2df",
   "metadata": {},
   "source": [
    "![batch](images/batch.png)"
   ]
  },
  {
   "cell_type": "markdown",
   "id": "ab97618b",
   "metadata": {},
   "source": [
    "The recommended way to ensure the SDK handles the query regardless of the situation is to use the combined helper function `ibmpairs.query.submit_check_status_and_download()`, however to explain the flows in more detail the following paragraphs will provide a run down of the individual steps."
   ]
  },
  {
   "cell_type": "markdown",
   "id": "57450ffc",
   "metadata": {},
   "source": [
    "## Submit"
   ]
  },
  {
   "cell_type": "markdown",
   "id": "a64f2798",
   "metadata": {},
   "source": [
    "The `submit()` method of the `ibmpairs.query.Query` object executes a __POST__ request to the __/query__ endpoint. \n",
    "\n",
    "The result of the request is retained in the `ibmpairs.query.Query` object's structure in the attribute `submit_response`."
   ]
  },
  {
   "cell_type": "markdown",
   "id": "24a80322",
   "metadata": {},
   "source": [
    "Any function or `ibmpairs.query.Query` method with a submit (e.g. `ibmpairs.query.submit_check_status_and_download()`) takes as an input a dict or string representation of a query, e.g."
   ]
  },
  {
   "cell_type": "markdown",
   "id": "eeae64ff",
   "metadata": {},
   "source": [
    "```python\n",
    "query_dict = {\n",
    "    \"name\": \"ESA Sentinel 2 Band 4 Red\",\n",
    "    \"layers\": [\n",
    "        {\n",
    "            \"id\": 49360,\n",
    "            \"type\": \"raster\"\n",
    "        }\n",
    "    ],\n",
    "    \"spatial\": {\n",
    "        \"type\": \"square\",\n",
    "        \"coordinates\": [\n",
    "            31.01972738,\n",
    "            -104.86979442,\n",
    "            31.05847466,\n",
    "            -104.8188164\n",
    "        ]\n",
    "    },\n",
    "    \"temporal\": {\n",
    "        \"intervals\": [\n",
    "            {\n",
    "                \"start\": \"2023-02-26T00:00:00\",\n",
    "                \"end\": \"2023-02-28T00:00:00\"\n",
    "            }\n",
    "        ]\n",
    "    }\n",
    "}\n",
    "\n",
    "query_result = query.submit_check_status_and_download(query_dict)\n",
    "```"
   ]
  },
  {
   "cell_type": "markdown",
   "id": "505afcfa",
   "metadata": {},
   "source": [
    "## Status"
   ]
  },
  {
   "cell_type": "markdown",
   "id": "cd18ccc8",
   "metadata": {},
   "source": [
    "The `status()` method of the `ibmpairs.query.Query` object executes a set of polling __GET__ requests to the __/queryjobs/{id}__ endpoint on an interval, where the __{id}__ is the id returned by the `submit()` method and stored in the `id` attribute. The method continues to poll until a final status is received, either success (20) or failure (any status number > 20).\n",
    "\n",
    "\n",
    "|ID|Status|\n",
    "|--|------|\n",
    "|0 |Queued|\n",
    "|1 |Initializing|\n",
    "|10|Running|\n",
    "|11|Writing|\n",
    "|12|Packaging|\n",
    "|20|Succeeded|\n",
    "|21|NoDataFound|\n",
    "|30|Killed|\n",
    "|31|Deleted|\n",
    "|40|Failed|\n",
    "|41|FailedConversion|\n",
    "|42|FailedProcessor|\n",
    "|43|MaxAllowedQuerySizeExceeded|\n",
    "\n",
    "\n",
    "The aforementioned interval can be specified by use of the environment variable `QUERY_STATUS_CHECK_INTERVAL` configured as seconds (default 30). There is a lower threshold boundary of 15 seconds."
   ]
  },
  {
   "cell_type": "markdown",
   "id": "fc767d4f",
   "metadata": {},
   "source": [
    "## Download"
   ]
  },
  {
   "cell_type": "markdown",
   "id": "6dd58def",
   "metadata": {},
   "source": [
    "The `download()` method of the `ibmpairs.query.Query` object executes a __GET__ request to the __/queryjobs/{id}/download__ endpoint, where the __{id}__ is the id returned by the `submit()` method and stored in the `id` attribute. \n",
    "\n",
    "The data will be downloaded to the relative path __./download/__ by default, there are options to alter this behaviour by setting the `download_folder` attribute or supplying an equivalently named parameter to the `download()` method.\n",
    "\n",
    "The `download()` method first checks that the user submitted query has completed by calling on the `status()` method, if the query is incomplete the `status()` method will poll for a final status.\n",
    "\n",
    "If the download method is called on an interactive query, the data from the `submit_response` attribute will be saved to a file with the filename (preference order): \n",
    "\n",
    "- the query `name` attribute supplied in the query json (if specified),\n",
    "- the format `point_query_YYYYMMDD-HHmmss.json`"
   ]
  },
  {
   "cell_type": "markdown",
   "id": "e86736e0",
   "metadata": {},
   "source": [
    "## Load\n",
    "\n",
    "To load the query result data into a framework in which it can be manipulated, the following methods, for point queries and raster queries, can be used:"
   ]
  },
  {
   "cell_type": "code",
   "execution_count": null,
   "id": "13178923",
   "metadata": {},
   "outputs": [],
   "source": [
    "%pip install ibmpairs\n",
    "%pip install configparser"
   ]
  },
  {
   "cell_type": "code",
   "execution_count": 1,
   "id": "36d126a7",
   "metadata": {},
   "outputs": [
    {
     "name": "stdout",
     "output_type": "stream",
     "text": [
      "2024-07-31 17:06:54 - paw - INFO - The client authentication method is assumed to be OAuth2.\n",
      "2024-07-31 17:06:54 - paw - INFO - Legacy Environment is False\n",
      "2024-07-31 17:06:54 - paw - INFO - The authentication api key type is assumed to be IBM Cloud IAM, because the api key prefix 'PHX' is not present.\n",
      "2024-07-31 17:06:55 - paw - INFO - Authentication success.\n",
      "2024-07-31 17:06:55 - paw - INFO - HOST: https://api.ibm.com/geospatial/run/na/core/v3\n",
      "2024-07-31 17:06:55 - paw - INFO - TASK: submit_check_status_and_download STARTING.\n",
      "2024-07-31 17:07:56 - paw - INFO - A real time point query is returned at the time of executing the Query.submit() method. The status is therefore complete. Skipping.\n",
      "2024-07-31 17:07:56 - paw - INFO - The query download folder is set to the path /ibmpairs/download/.\n",
      "2024-07-31 17:07:56 - paw - INFO - The online point query output was successfully saved to /ibmpairs/download/IBM Lowell.json.\n",
      "2024-07-31 17:07:56 - paw - INFO - TASK: submit_check_status_and_download COMPLETED.\n",
      "2024-07-31 17:07:56 - paw - INFO - TASK: submit_check_status_and_download STARTING.\n",
      "2024-07-31 17:07:56 - paw - INFO - The query was successfully submitted with the id: 1722427200_14876512.\n",
      "2024-07-31 17:07:57 - paw - INFO - The query 1722427200_14876512 has the status Queued.\n",
      "2024-07-31 17:08:27 - paw - INFO - The query 1722427200_14876512 has the status Succeeded.\n",
      "2024-07-31 17:08:27 - paw - INFO - The query 1722427200_14876512 was successful after checking the status.\n",
      "2024-07-31 17:08:58 - paw - INFO - The query 1722427200_14876512 has the status Succeeded.\n",
      "2024-07-31 17:08:58 - paw - INFO - The query 1722427200_14876512 was successful after checking the status.\n",
      "2024-07-31 17:08:58 - paw - INFO - The query download folder is set to the path /ibmpairs/download/.\n",
      "2024-07-31 17:08:59 - paw - INFO - The query 1722427200_14876512 is a zip.\n",
      "2024-07-31 17:08:59 - paw - INFO - The query file for 1722427200_14876512 will be downloaded to the following path /ibmpairs/download/1722427200_14876512.zip.\n",
      "2024-07-31 17:08:59 - paw - INFO - The query file for 1722427200_14876512 was successfully downloaded to /ibmpairs/download/1722427200_14876512.zip.\n",
      "2024-07-31 17:08:59 - paw - INFO - The query zip /ibmpairs/download/1722427200_14876512.zip will be unzipped to the following path /ibmpairs/download/1722427200_14876512.\n",
      "2024-07-31 17:08:59 - paw - INFO - The query zip /ibmpairs/download/1722427200_14876512.zip was successfully unzipped to /ibmpairs/download/1722427200_14876512.\n",
      "2024-07-31 17:09:30 - paw - INFO - TASK: submit_check_status_and_download COMPLETED.\n"
     ]
    }
   ],
   "source": [
    "import os\n",
    "import ibmpairs.query as query\n",
    "import ibmpairs.client as client\n",
    "\n",
    "import configparser\n",
    "\n",
    "config = configparser.RawConfigParser()\n",
    "config.read('../../../auth/secrets.ini')\n",
    "# Best practice is not to include secrets in source code so we read\n",
    "# an api key, tenant id and org id from a secrets.ini file.\n",
    "# You could set the credentials in-line here but we don't\n",
    "# recommend it for security reasons.\n",
    "\n",
    "EI_API_KEY    = config.get('EI', 'api.api_key')\n",
    "EI_TENANT_ID  = config.get('EI', 'api.tenant_id') \n",
    "EI_ORG_ID     = config.get('EI', 'api.org_id') \n",
    "\n",
    "ei_client = client.get_client(api_key   = EI_API_KEY,\n",
    "                              tenant_id = EI_TENANT_ID,\n",
    "                              org_id    = EI_ORG_ID)\n",
    "\n",
    "point_query_json = {\n",
    "  \"name\": \"IBM Lowell\",\n",
    "  \"layers\": [\n",
    "    {\n",
    "      \"type\": \"raster\",\n",
    "      \"id\": \"49423\"\n",
    "    }\n",
    "  ],\n",
    "  \"spatial\": {\n",
    "    \"type\": \"point\",\n",
    "    \"coordinates\": [\n",
    "      \"42.614760\",\n",
    "      \"-71.325230\"\n",
    "    ]\n",
    "  },\n",
    "  \"temporal\": {\n",
    "    \"intervals\": [\n",
    "      {\n",
    "        \"start\": \"2024-06-01T00:00:00Z\",\n",
    "        \"end\": \"2024-06-30T00:00:00Z\"\n",
    "      }\n",
    "    ]\n",
    "  }\n",
    "}\n",
    "\n",
    "point = query.submit_check_status_and_download(point_query_json)\n",
    "\n",
    "raster_query_json = {\n",
    "  \"name\": \"Massachusetts\",\n",
    "  \"layers\": [\n",
    "    {\n",
    "      \"id\": \"49423\",\n",
    "      \"type\": \"raster\"\n",
    "    }\n",
    "  ],\n",
    "  \"spatial\": {\n",
    "    \"aoi\": 142,\n",
    "    \"type\": \"poly\"\n",
    "  },\n",
    "  \"temporal\": {\n",
    "    \"intervals\": [\n",
    "      {\n",
    "        \"start\": \"2024-06-01T00:00:00Z\",\n",
    "        \"end\": \"2024-06-01T00:00:00Z\"\n",
    "      }\n",
    "    ]\n",
    "  }\n",
    "}\n",
    "\n",
    "raster = query.submit_check_status_and_download(raster_query_json)"
   ]
  },
  {
   "cell_type": "markdown",
   "id": "9eceac2c",
   "metadata": {},
   "source": [
    "### Point query"
   ]
  },
  {
   "cell_type": "markdown",
   "id": "9433c927",
   "metadata": {},
   "source": [
    "If the data is a point query, there is a helper method `point_data_as_dataframe()` in the `ibmpairs.query.Query` object to convert the returned data into a [pandas](https://pandas.pydata.org) dataframe. The data is converted with this method regardless of whether it is an 'interactive', 'converted' or batch point query. \n",
    "\n"
   ]
  },
  {
   "cell_type": "code",
   "execution_count": 2,
   "id": "51585e53",
   "metadata": {},
   "outputs": [
    {
     "data": {
      "text/html": [
       "<div>\n",
       "<style scoped>\n",
       "    .dataframe tbody tr th:only-of-type {\n",
       "        vertical-align: middle;\n",
       "    }\n",
       "\n",
       "    .dataframe tbody tr th {\n",
       "        vertical-align: top;\n",
       "    }\n",
       "\n",
       "    .dataframe thead th {\n",
       "        text-align: right;\n",
       "    }\n",
       "</style>\n",
       "<table border=\"1\" class=\"dataframe\">\n",
       "  <thead>\n",
       "    <tr style=\"text-align: right;\">\n",
       "      <th></th>\n",
       "      <th>layer_id</th>\n",
       "      <th>layer_name</th>\n",
       "      <th>dataset</th>\n",
       "      <th>timestamp</th>\n",
       "      <th>longitude</th>\n",
       "      <th>latitude</th>\n",
       "      <th>value</th>\n",
       "      <th>datetime</th>\n",
       "    </tr>\n",
       "  </thead>\n",
       "  <tbody>\n",
       "    <tr>\n",
       "      <th>0</th>\n",
       "      <td>49423</td>\n",
       "      <td>Temperature</td>\n",
       "      <td>Global weather (ERA5)</td>\n",
       "      <td>1717200000000</td>\n",
       "      <td>-71.32523</td>\n",
       "      <td>42.61476</td>\n",
       "      <td>292.3063659667969</td>\n",
       "      <td>2024-06-01 00:00:00</td>\n",
       "    </tr>\n",
       "    <tr>\n",
       "      <th>1</th>\n",
       "      <td>49423</td>\n",
       "      <td>Temperature</td>\n",
       "      <td>Global weather (ERA5)</td>\n",
       "      <td>1717203600000</td>\n",
       "      <td>-71.32523</td>\n",
       "      <td>42.61476</td>\n",
       "      <td>291.3738098144531</td>\n",
       "      <td>2024-06-01 01:00:00</td>\n",
       "    </tr>\n",
       "    <tr>\n",
       "      <th>2</th>\n",
       "      <td>49423</td>\n",
       "      <td>Temperature</td>\n",
       "      <td>Global weather (ERA5)</td>\n",
       "      <td>1717207200000</td>\n",
       "      <td>-71.32523</td>\n",
       "      <td>42.61476</td>\n",
       "      <td>289.51629638671875</td>\n",
       "      <td>2024-06-01 02:00:00</td>\n",
       "    </tr>\n",
       "    <tr>\n",
       "      <th>3</th>\n",
       "      <td>49423</td>\n",
       "      <td>Temperature</td>\n",
       "      <td>Global weather (ERA5)</td>\n",
       "      <td>1717210800000</td>\n",
       "      <td>-71.32523</td>\n",
       "      <td>42.61476</td>\n",
       "      <td>288.4887390136719</td>\n",
       "      <td>2024-06-01 03:00:00</td>\n",
       "    </tr>\n",
       "    <tr>\n",
       "      <th>4</th>\n",
       "      <td>49423</td>\n",
       "      <td>Temperature</td>\n",
       "      <td>Global weather (ERA5)</td>\n",
       "      <td>1717214400000</td>\n",
       "      <td>-71.32523</td>\n",
       "      <td>42.61476</td>\n",
       "      <td>287.7983093261719</td>\n",
       "      <td>2024-06-01 04:00:00</td>\n",
       "    </tr>\n",
       "    <tr>\n",
       "      <th>...</th>\n",
       "      <td>...</td>\n",
       "      <td>...</td>\n",
       "      <td>...</td>\n",
       "      <td>...</td>\n",
       "      <td>...</td>\n",
       "      <td>...</td>\n",
       "      <td>...</td>\n",
       "      <td>...</td>\n",
       "    </tr>\n",
       "    <tr>\n",
       "      <th>692</th>\n",
       "      <td>49423</td>\n",
       "      <td>Temperature</td>\n",
       "      <td>Global weather (ERA5)</td>\n",
       "      <td>1719691200000</td>\n",
       "      <td>-71.32523</td>\n",
       "      <td>42.61476</td>\n",
       "      <td>295.0754699707031</td>\n",
       "      <td>2024-06-29 20:00:00</td>\n",
       "    </tr>\n",
       "    <tr>\n",
       "      <th>693</th>\n",
       "      <td>49423</td>\n",
       "      <td>Temperature</td>\n",
       "      <td>Global weather (ERA5)</td>\n",
       "      <td>1719694800000</td>\n",
       "      <td>-71.32523</td>\n",
       "      <td>42.61476</td>\n",
       "      <td>295.4399108886719</td>\n",
       "      <td>2024-06-29 21:00:00</td>\n",
       "    </tr>\n",
       "    <tr>\n",
       "      <th>694</th>\n",
       "      <td>49423</td>\n",
       "      <td>Temperature</td>\n",
       "      <td>Global weather (ERA5)</td>\n",
       "      <td>1719698400000</td>\n",
       "      <td>-71.32523</td>\n",
       "      <td>42.61476</td>\n",
       "      <td>295.42864990234375</td>\n",
       "      <td>2024-06-29 22:00:00</td>\n",
       "    </tr>\n",
       "    <tr>\n",
       "      <th>695</th>\n",
       "      <td>49423</td>\n",
       "      <td>Temperature</td>\n",
       "      <td>Global weather (ERA5)</td>\n",
       "      <td>1719702000000</td>\n",
       "      <td>-71.32523</td>\n",
       "      <td>42.61476</td>\n",
       "      <td>294.7191162109375</td>\n",
       "      <td>2024-06-29 23:00:00</td>\n",
       "    </tr>\n",
       "    <tr>\n",
       "      <th>696</th>\n",
       "      <td>49423</td>\n",
       "      <td>Temperature</td>\n",
       "      <td>Global weather (ERA5)</td>\n",
       "      <td>1719705600000</td>\n",
       "      <td>-71.32523</td>\n",
       "      <td>42.61476</td>\n",
       "      <td>293.8346862792969</td>\n",
       "      <td>2024-06-30 00:00:00</td>\n",
       "    </tr>\n",
       "  </tbody>\n",
       "</table>\n",
       "<p>697 rows × 8 columns</p>\n",
       "</div>"
      ],
      "text/plain": [
       "     layer_id   layer_name                dataset      timestamp  longitude  \\\n",
       "0       49423  Temperature  Global weather (ERA5)  1717200000000  -71.32523   \n",
       "1       49423  Temperature  Global weather (ERA5)  1717203600000  -71.32523   \n",
       "2       49423  Temperature  Global weather (ERA5)  1717207200000  -71.32523   \n",
       "3       49423  Temperature  Global weather (ERA5)  1717210800000  -71.32523   \n",
       "4       49423  Temperature  Global weather (ERA5)  1717214400000  -71.32523   \n",
       "..        ...          ...                    ...            ...        ...   \n",
       "692     49423  Temperature  Global weather (ERA5)  1719691200000  -71.32523   \n",
       "693     49423  Temperature  Global weather (ERA5)  1719694800000  -71.32523   \n",
       "694     49423  Temperature  Global weather (ERA5)  1719698400000  -71.32523   \n",
       "695     49423  Temperature  Global weather (ERA5)  1719702000000  -71.32523   \n",
       "696     49423  Temperature  Global weather (ERA5)  1719705600000  -71.32523   \n",
       "\n",
       "     latitude               value            datetime  \n",
       "0    42.61476   292.3063659667969 2024-06-01 00:00:00  \n",
       "1    42.61476   291.3738098144531 2024-06-01 01:00:00  \n",
       "2    42.61476  289.51629638671875 2024-06-01 02:00:00  \n",
       "3    42.61476   288.4887390136719 2024-06-01 03:00:00  \n",
       "4    42.61476   287.7983093261719 2024-06-01 04:00:00  \n",
       "..        ...                 ...                 ...  \n",
       "692  42.61476   295.0754699707031 2024-06-29 20:00:00  \n",
       "693  42.61476   295.4399108886719 2024-06-29 21:00:00  \n",
       "694  42.61476  295.42864990234375 2024-06-29 22:00:00  \n",
       "695  42.61476   294.7191162109375 2024-06-29 23:00:00  \n",
       "696  42.61476   293.8346862792969 2024-06-30 00:00:00  \n",
       "\n",
       "[697 rows x 8 columns]"
      ]
     },
     "execution_count": 2,
     "metadata": {},
     "output_type": "execute_result"
    }
   ],
   "source": [
    "import pandas as pd\n",
    "\n",
    "point_df = point.point_data_as_dataframe()\n",
    "point_df['datetime'] = pd.to_datetime(point_df['timestamp'] * 1e6, errors = 'coerce')\n",
    "point_df"
   ]
  },
  {
   "cell_type": "markdown",
   "id": "a23bdb9b",
   "metadata": {},
   "source": [
    "### Raster query"
   ]
  },
  {
   "cell_type": "markdown",
   "id": "9421d709",
   "metadata": {},
   "source": [
    "If the data is a raster format (.tiff) a number of Python libraries can be used to load the data, e.g. [GDAL](https://gdal.org/index.html) [Python](https://pypi.org/project/GDAL/) bindings, [Rasterio](https://rasterio.readthedocs.io/en/stable/intro.html), [Pillow](https://pillow.readthedocs.io/en/stable/).\n",
    "\n",
    "A method `list_files()` on the `ibmpairs.query.Query` object will list the data files retrived by a raster query.\n",
    "\n",
    "In the example below, [Pillow](https://pillow.readthedocs.io/en/stable/) is used to load the image into a numpy array and visualised using [matplotlib](https://matplotlib.org)."
   ]
  },
  {
   "cell_type": "code",
   "execution_count": 3,
   "id": "667e7503",
   "metadata": {},
   "outputs": [
    {
     "data": {
      "image/png": "[encoded data removed]",
      "text/plain": [
       "<Figure size 1600x720 with 2 Axes>"
      ]
     },
     "metadata": {},
     "output_type": "display_data"
    }
   ],
   "source": [
    "import json\n",
    "import numpy as np\n",
    "import PIL\n",
    "from PIL import Image\n",
    "import matplotlib.pyplot as plt\n",
    "import matplotlib.colors as mcolors\n",
    "\n",
    "raster_result = raster.list_files()\n",
    "for file in raster_result:\n",
    "    if file.endswith('.tiff'):\n",
    "        with open(file+'.json', 'r') as metadata_file:\n",
    "            metadata = json.load(metadata_file)\n",
    "        bbox=metadata[\"boundingBox\"]\n",
    "        extent=[bbox[\"minLongitude\"],\n",
    "                bbox[\"maxLongitude\"],\n",
    "                bbox[\"minLatitude\"],\n",
    "                bbox[\"maxLatitude\" ]]  \n",
    "        array_tiff = np.array(PIL.Image.open(file))\n",
    "        plt.figure(figsize = (20, 9), dpi=80)\n",
    "        vmin = metadata[\"rasterStatistics\"][\"pixelMin\"]\n",
    "        vmax = metadata[\"rasterStatistics\"][\"pixelMax\"]\n",
    "        plt.imshow(array_tiff,\n",
    "                   cmap = 'hot_r', \n",
    "                   vmin=vmin, \n",
    "                   vmax=vmax,\n",
    "                   extent = extent)\n",
    "        plt.colorbar()\n",
    "        plt.title(\" \" + os.path.basename(file))"
   ]
  },
  {
   "cell_type": "markdown",
   "id": "b4eccadc",
   "metadata": {},
   "source": [
    "## Multiple queries"
   ]
  },
  {
   "cell_type": "markdown",
   "id": "f076b754",
   "metadata": {},
   "source": [
    "The SDK contains an asynchronous worker for queries `ibmpairs.query.batch_query()`, see [Asynchronous Worker](asynchronous_worker.ipynb); due to this, the `ibmpairs.query.Query` objects `submit()`, `status()` and `download()` methods simply forward parameters to the `async_submit()`, `async_status()` and `async_download()` methods respectively.\n",
    "\n",
    "The async feature can also be used within a [Jupyter Notebook](https://jupyter.org) where it hooks into the async loop that operates the notebook."
   ]
  },
  {
   "cell_type": "markdown",
   "id": "c8dc9d2e",
   "metadata": {},
   "source": [
    "## Favorite"
   ]
  },
  {
   "cell_type": "markdown",
   "id": "b2634eb4",
   "metadata": {},
   "source": [
    "The `favorite` method on the `ibmpairs.query.Query` object, retains the result of the query beyond the default retention period of 90 days.\n",
    "\n",
    "This means the query can be re-downloaded (using an id) beyond this limit.\n",
    "\n",
    "To download a previously run query by the id number the function `ibmpairs.query.download(id = <id>)` can be used."
   ]
  }
 ],
 "metadata": {
  "kernelspec": {
   "display_name": "base",
   "language": "python",
   "name": "python3"
  },
  "language_info": {
   "codemirror_mode": {
    "name": "ipython",
    "version": 3
   },
   "file_extension": ".py",
   "mimetype": "text/x-python",
   "name": "python",
   "nbconvert_exporter": "python",
   "pygments_lexer": "ipython3",
   "version": "3.10.14"
  }
 },
 "nbformat": 4,
 "nbformat_minor": 5
}
