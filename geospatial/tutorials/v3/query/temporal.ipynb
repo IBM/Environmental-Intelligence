{
 "cells": [
  {
   "cell_type": "markdown",
   "id": "17b65f58",
   "metadata": {},
   "source": [
    "# Temporal"
   ]
  },
  {
   "cell_type": "markdown",
   "id": "d72d4d23",
   "metadata": {},
   "source": [
    "The `temporal` attribute describes a structure that defines the __when__ of the data request."
   ]
  },
  {
   "cell_type": "markdown",
   "id": "2a2244d0",
   "metadata": {},
   "source": [
    "## Intervals"
   ]
  },
  {
   "cell_type": "markdown",
   "id": "a5163869",
   "metadata": {},
   "source": [
    "An `interval` is an array of time definitions for the data request. A time definition can be either a range, i.e. `start` and `end`, or `snapshot`."
   ]
  },
  {
   "cell_type": "markdown",
   "id": "f1254f6c",
   "metadata": {},
   "source": [
    "## Start and end"
   ]
  },
  {
   "cell_type": "markdown",
   "id": "a4e5c0d6",
   "metadata": {},
   "source": [
    "The `start` and `end` date times can be specified in the following formats\n",
    "\n",
    "- `YYYY-MM-DDTHH:mm:ss`, or `2023-02-26T00:00:00.000Z`\n",
    "- Epoch timestamps e.g. `1704067200`.\n",
    "\n",
    "The requested timestamp range is inclusive, inclusive; >= `start` and <= `end`."
   ]
  },
  {
   "cell_type": "markdown",
   "id": "d8a8d19e",
   "metadata": {},
   "source": [
    "<div class=\"alert alert-info\">\n",
    "    Please note: timestamps are specified in UTC.\n",
    "</div>"
   ]
  },
  {
   "cell_type": "markdown",
   "id": "6bf49344",
   "metadata": {},
   "source": [
    "```python\n",
    "{\n",
    "\n",
    "  ...\n",
    "    \n",
    "  \"temporal\": {\n",
    "    \"intervals\": [\n",
    "      {\n",
    "        \"start\": \"2023-02-26T00:00:00.000Z\",\n",
    "        \"end\": \"2023-02-28T00:00:00.000Z\"\n",
    "      }\n",
    "    ]\n",
    "  }\n",
    "}\n",
    "```"
   ]
  },
  {
   "cell_type": "markdown",
   "id": "9cb1c985",
   "metadata": {},
   "source": [
    "## Snapshots"
   ]
  },
  {
   "cell_type": "markdown",
   "id": "0675fca1",
   "metadata": {},
   "source": [
    "A `snapshot` temporal definition is a request for the closest historic date for which data is held; less than or equal to the snapshot date. \n",
    "\n",
    "It can be used instead of a `start` and `end` time range definition and is useful for finding the closest past data value to a specified time."
   ]
  },
  {
   "cell_type": "markdown",
   "id": "dc65a710",
   "metadata": {},
   "source": [
    "```python\n",
    "{\n",
    "\n",
    "  ...\n",
    "    \n",
    "  \"temporal\": {\n",
    "    \"intervals\": [\n",
    "      {\n",
    "        \"snapshot\" : \"2023-02-26T00:00:00.000Z\"\n",
    "      }\n",
    "    ]\n",
    "  }\n",
    "}\n",
    "```"
   ]
  }
 ],
 "metadata": {
  "kernelspec": {
   "display_name": "Python 3 (ipykernel)",
   "language": "python",
   "name": "python3"
  },
  "language_info": {
   "codemirror_mode": {
    "name": "ipython",
    "version": 3
   },
   "file_extension": ".py",
   "mimetype": "text/x-python",
   "name": "python",
   "nbconvert_exporter": "python",
   "pygments_lexer": "ipython3",
   "version": "3.11.0"
  }
 },
 "nbformat": 4,
 "nbformat_minor": 5
}
