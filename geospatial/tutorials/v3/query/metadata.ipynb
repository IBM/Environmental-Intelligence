{
 "cells": [
  {
   "cell_type": "markdown",
   "id": "b016b5d8",
   "metadata": {},
   "source": [
    "# Metadata"
   ]
  },
  {
   "cell_type": "markdown",
   "id": "da50e7f8",
   "metadata": {},
   "source": [
    "If the query listed in the [JSON](json.ipynb) section is executed, it will return the following items in the zip:\n",
    "\n",
    "- Raster data: `High res  imagery (ESA Sentinel 2)-Band 4 (red)-02_27_2023T00_00_00.tiff`\n",
    "- Raster meta data: `High res  imagery (ESA Sentinel 2)-Band 4 (red)-02_27_2023T00_00_00.tiff.json`\n",
    "- Attribution of data sources: `data_acknowledgement.txt`\n",
    "- Information linking GeoTIFF files to the original query: `output.info`\n",
    "\n",
    "The latter three of these files are the Geospatial APIs metadata files."
   ]
  },
  {
   "cell_type": "markdown",
   "id": "8151cb7d",
   "metadata": {},
   "source": [
    "## *.tiff.json"
   ]
  },
  {
   "cell_type": "markdown",
   "id": "d6da22b5",
   "metadata": {},
   "source": [
    "The `*.tiff.json` file(s) contain metadata about the raster data file that shares the same name."
   ]
  },
  {
   "cell_type": "markdown",
   "id": "1bf837e9",
   "metadata": {},
   "source": [
    "```json\n",
    "{\n",
    "  \"pixelType\":          \"fl\",\n",
    "  \"pixelNoDataVal\":     -9999.000000,\n",
    "  \"spatialRef\":         \"EPSG:4326\",\n",
    "  \"boundingBox\":        {\n",
    "    \"minLatitude\":    31.018368,\n",
    "    \"maxLatitude\":    31.059328,\n",
    "    \"minLongitude\":   -104.871168,\n",
    "    \"maxLongitude\":   -104.817920\n",
    "  },\n",
    "  \"pixelDimensions\":    {\n",
    "    \"pixelSizeDegreeLongitude\":   0.000064,\n",
    "    \"pixelSizeDegreeLatitude\":    0.000064,\n",
    "    \"numberPixelsLatitude\":       640,\n",
    "    \"numberPixelsLongitude\":      832\n",
    "  },\n",
    "  \"rasterStatistics\":   {\n",
    "    \"pixelMin\":               0.121900,\n",
    "    \"pixelMax\":               0.478900,\n",
    "    \"pixelCount\":             482949,\n",
    "    \"pixelMean\":              0.262751,\n",
    "    \"pixelStandardDeviation\": 0.038223\n",
    "  }\n",
    "}\n",
    "```"
   ]
  },
  {
   "cell_type": "markdown",
   "id": "ad739329",
   "metadata": {},
   "source": [
    "## output.info"
   ]
  },
  {
   "cell_type": "markdown",
   "id": "c0448517",
   "metadata": {},
   "source": [
    "The `output.info` file contains information about the request that was made to the backend system to return the file(s) returned by the query."
   ]
  },
  {
   "cell_type": "markdown",
   "id": "104570af",
   "metadata": {},
   "source": [
    "```json\n",
    "{\n",
    "  \"files\": [\n",
    "    {\n",
    "      \"name\": \"High res  imagery (ESA Sentinel 2)-Band 4 (red)-02_27_2023T00_00_00\",\n",
    "      \"datalayerId\": \"49360\",\n",
    "      \"datalayerName\": \"Band 4 (red)\",\n",
    "      \"timestamp\": 1677456000000,\n",
    "      \"layerType\": \"raster\"\n",
    "    }\n",
    "  ]\n",
    "}\n",
    "```"
   ]
  },
  {
   "cell_type": "markdown",
   "id": "eef12e7e",
   "metadata": {},
   "source": [
    "## data_acknowledgement.txt"
   ]
  },
  {
   "cell_type": "markdown",
   "id": "ca5997a9",
   "metadata": {},
   "source": [
    "The `data_acknowledgement.txt` contains rows that provide acknowledgement to the original creators of the data returned by the backend system, e.g."
   ]
  },
  {
   "cell_type": "markdown",
   "id": "1f46addf",
   "metadata": {},
   "source": [
    "```json\n",
    "177,\"High res  imagery (ESA Sentinel 2)\",\"Source: European Space Agency - ESA; Contains modified Copernicus Sentinel data [2018 and Ongoing]\"\n",
    "```"
   ]
  }
 ],
 "metadata": {
  "kernelspec": {
   "display_name": "Python 3 (ipykernel)",
   "language": "python",
   "name": "python3"
  },
  "language_info": {
   "codemirror_mode": {
    "name": "ipython",
    "version": 3
   },
   "file_extension": ".py",
   "mimetype": "text/x-python",
   "name": "python",
   "nbconvert_exporter": "python",
   "pygments_lexer": "ipython3",
   "version": "3.11.0"
  }
 },
 "nbformat": 4,
 "nbformat_minor": 5
}
