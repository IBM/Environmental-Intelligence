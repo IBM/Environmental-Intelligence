{
 "cells": [
  {
   "cell_type": "markdown",
   "id": "102d1b25",
   "metadata": {},
   "source": [
    "# Layers"
   ]
  },
  {
   "cell_type": "markdown",
   "id": "d54e4f26",
   "metadata": {},
   "source": [
    "The `layers` attribute describes a structure that defines the __what__ of the data request."
   ]
  },
  {
   "cell_type": "markdown",
   "id": "7501ab4d",
   "metadata": {},
   "source": [
    "A `layers` attribute is a list of [Data Layers](../catalog/data_layer.ipynb) to retrieve in a query, if applicable Data Layer [Dimensions](../catalog/dimensions.ipynb) can also be specified. In addition processing push-down to the query engine can be specified in the form of [Aggregation and Filtering](aggregation_and_filtering.ipynb) as well as User Defined Functions."
   ]
  },
  {
   "cell_type": "markdown",
   "id": "cee7d447",
   "metadata": {},
   "source": [
    "A basic layer definition for a single layer retrival will contain one layer definition entry into the list with the `type` set as `raster` and an `id` of a Data Layer (see Catalog - [General](../catalog/general.ipynb) for how to search for layer ids). These fields are mandatory."
   ]
  },
  {
   "cell_type": "markdown",
   "id": "efc27f31",
   "metadata": {},
   "source": [
    "```python\n",
    "{\n",
    "\n",
    "  ...\n",
    "    \n",
    "    \"layers\" : [\n",
    "        {\"alias\" : \"NDVI\", \"type\" : \"raster\", \"id\" : \"49464\"}\n",
    "    ]\n",
    "}\n",
    "```"
   ]
  },
  {
   "cell_type": "markdown",
   "id": "cd122865",
   "metadata": {},
   "source": [
    "It is possible to (optionally) `alias` the layer name in the file name and metadata returned by the query (as seen above)."
   ]
  },
  {
   "cell_type": "markdown",
   "id": "ca738e61",
   "metadata": {},
   "source": [
    "## Multiple layers"
   ]
  },
  {
   "cell_type": "markdown",
   "id": "69022c8f",
   "metadata": {},
   "source": [
    "In order to pull multiple layers of data in a single query a layer entry can be added to the `layers` attribute. It is possible to pull multiple layers of data within the same query regardless of which Data Set they reside in."
   ]
  },
  {
   "cell_type": "markdown",
   "id": "411e8f09",
   "metadata": {},
   "source": [
    "```python\n",
    "{\n",
    "\n",
    "  ...\n",
    "    \n",
    "    \"layers\" : [\n",
    "        {\"type\" : \"raster\", \"id\" : \"49464\"},\n",
    "        {\"type\" : \"raster\", \"id\" : \"49423\"}\n",
    "    ]\n",
    "}\n",
    "```"
   ]
  },
  {
   "cell_type": "markdown",
   "id": "4ac0c794",
   "metadata": {},
   "source": [
    "## Temporal"
   ]
  },
  {
   "cell_type": "markdown",
   "id": "44ba7d28",
   "metadata": {},
   "source": [
    "A `layer` definition can have a `temporal` entry (with the format specified in [Temporal](temporal.ipynb)), if specified at the layer level the `temporal` entry overrides the global `temporal` entry.\n",
    "\n",
    "This can be used to limit the time interval of the returned layer or choose a different time interval entirely from the rest of the query."
   ]
  },
  {
   "cell_type": "markdown",
   "id": "c2b4b1cd",
   "metadata": {},
   "source": [
    "```python\n",
    "{\n",
    "\n",
    "  ...\n",
    "    \n",
    "    \"layers\" : [\n",
    "        {\"type\" : \"raster\", \"id\" : \"49464\", \"temporal\" : {\"intervals\" : [\n",
    "                {\"start\" : \"2013-01-01T00:00:00Z\", \"end\" : \"2013-01-01T00:00:00Z\"}},\n",
    "        {\"type\" : \"raster\", \"id\" : \"49423\"}\n",
    "    ]\n",
    "}\n",
    "```"
   ]
  }
 ],
 "metadata": {
  "kernelspec": {
   "display_name": "Python 3 (ipykernel)",
   "language": "python",
   "name": "python3"
  },
  "language_info": {
   "codemirror_mode": {
    "name": "ipython",
    "version": 3
   },
   "file_extension": ".py",
   "mimetype": "text/x-python",
   "name": "python",
   "nbconvert_exporter": "python",
   "pygments_lexer": "ipython3",
   "version": "3.11.0"
  }
 },
 "nbformat": 4,
 "nbformat_minor": 5
}
