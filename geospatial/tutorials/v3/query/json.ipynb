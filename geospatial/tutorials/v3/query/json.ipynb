{
 "cells": [
  {
   "cell_type": "markdown",
   "id": "b8a93297",
   "metadata": {},
   "source": [
    "# JSON"
   ]
  },
  {
   "cell_type": "markdown",
   "id": "b1ea053a",
   "metadata": {},
   "source": [
    "The core request for a Geospatial APIs query is a json payload:"
   ]
  },
  {
   "cell_type": "markdown",
   "id": "d9d01da8",
   "metadata": {},
   "source": [
    "```python\n",
    "{\n",
    "  \"name\": \"ESA Sentinel 2 Band 4 Red\",\n",
    "  \"layers\": [\n",
    "    {\n",
    "      \"id\": 49360,\n",
    "      \"type\": \"raster\"\n",
    "    }\n",
    "  ],\n",
    "  \"spatial\": {\n",
    "    \"type\": \"square\",\n",
    "    \"coordinates\": [\n",
    "      31.01972738,\n",
    "      -104.86979442,\n",
    "      31.05847466,\n",
    "      -104.8188164\n",
    "    ]\n",
    "  },\n",
    "  \"temporal\": {\n",
    "    \"intervals\": [\n",
    "      {\n",
    "        \"start\": \"2023-02-26T00:00:00\",\n",
    "        \"end\": \"2023-02-28T00:00:00\"\n",
    "      }\n",
    "    ]\n",
    "  }\n",
    "}\n",
    "```"
   ]
  },
  {
   "cell_type": "markdown",
   "id": "e9d03f5c",
   "metadata": {},
   "source": [
    "As illustrated in the Quickstart [Point Query](../quickstart/point_query.ipynb) and Quickstart [Raster Query](../quickstart/raster_query.ipynb) examples, to construct a valid Geospatial APIs query json payload; there must be at the minimum a `layers`, a `spatial` and a `temporal` definition.\n",
    "\n",
    "The `layers` (type) definition is __what__ data (i.e. which satellite instrument or model result layers) is requested.\n",
    "\n",
    "The `spatial` (space) definition is __where__ the data is requsted for.\n",
    "\n",
    "The `temporal` (time) definition is __when__ the data is requested for."
   ]
  },
  {
   "cell_type": "markdown",
   "id": "92d2a16d",
   "metadata": {},
   "source": [
    "The `layers`, `spatial` and `temporal` definitions merit further explanation and are covered in more detail by the following sections; [Layers](layers.ipynb) - [Spatial](spatial.ipynb) - [Temporal](temporal.ipynb). \n",
    "\n",
    "There are a number of other optional query options (below) that are notable."
   ]
  },
  {
   "cell_type": "markdown",
   "id": "5541f331",
   "metadata": {},
   "source": [
    "## Name"
   ]
  },
  {
   "cell_type": "markdown",
   "id": "69bdf372",
   "metadata": {},
   "source": [
    "The `name` attribute of the json payload allows the query to be named when executing through the engine. The result file of a point query will be named after this value if specified."
   ]
  },
  {
   "cell_type": "markdown",
   "id": "3e4646a7",
   "metadata": {},
   "source": [
    "## Output type"
   ]
  },
  {
   "cell_type": "markdown",
   "id": "77dc5cf8",
   "metadata": {},
   "source": [
    "The `outputType` attribute allows the specification of an output type from the choices:\n",
    "\n",
    "- json\n",
    "- csv"
   ]
  },
  {
   "cell_type": "markdown",
   "id": "948d1ebc",
   "metadata": {},
   "source": [
    "## Batch"
   ]
  },
  {
   "cell_type": "markdown",
   "id": "78c26c29",
   "metadata": {},
   "source": [
    "The `batch` attribute executes a point query as a batch point query as opposed to an `interactive` (synchronous) point query."
   ]
  }
 ],
 "metadata": {
  "kernelspec": {
   "display_name": "Python 3 (ipykernel)",
   "language": "python",
   "name": "python3"
  },
  "language_info": {
   "codemirror_mode": {
    "name": "ipython",
    "version": 3
   },
   "file_extension": ".py",
   "mimetype": "text/x-python",
   "name": "python",
   "nbconvert_exporter": "python",
   "pygments_lexer": "ipython3",
   "version": "3.11.0"
  }
 },
 "nbformat": 4,
 "nbformat_minor": 5
}
