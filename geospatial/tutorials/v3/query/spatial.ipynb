{
 "cells": [
  {
   "cell_type": "markdown",
   "id": "96f56e20",
   "metadata": {},
   "source": [
    "# Spatial"
   ]
  },
  {
   "cell_type": "markdown",
   "id": "020b6398",
   "metadata": {},
   "source": [
    "The `spatial` attribute describes a structure that defines the __where__ of the data request."
   ]
  },
  {
   "cell_type": "markdown",
   "id": "d68a4a26",
   "metadata": {},
   "source": [
    "## Coordinates"
   ]
  },
  {
   "cell_type": "markdown",
   "id": "f3557f8b",
   "metadata": {},
   "source": [
    "Two types of query can be specified by coordinates; a single point (`point`), or a bounding box (`square`). "
   ]
  },
  {
   "cell_type": "markdown",
   "id": "27f99a1f",
   "metadata": {},
   "source": [
    "### Point\n",
    "\n",
    "Point query coordinates are specified in a `Latitude`,`Longitude` format."
   ]
  },
  {
   "cell_type": "markdown",
   "id": "22b18c76",
   "metadata": {},
   "source": [
    "```python\n",
    "{\n",
    "\n",
    "  ...\n",
    "    \n",
    "  \"spatial\" : {\n",
    "    \"type\" : \"point\",\n",
    "    \"coordinates\" : [\"50.92163290389907\", \"-1.4837586747526244\"]\n",
    "  } \n",
    "}\n",
    "```"
   ]
  },
  {
   "cell_type": "markdown",
   "id": "d66c9887",
   "metadata": {},
   "source": [
    "### Bounding Box\n",
    "\n",
    "Bounding box coordinates are specified as a series of values separated by commas.\n",
    "\n",
    "The format requires bottom left (`Latitude`,`Longitude`), top right (`Latitude`,`Longitude`) order."
   ]
  },
  {
   "cell_type": "markdown",
   "id": "b7063b7c",
   "metadata": {},
   "source": [
    "![bltr](images/bltr.png)"
   ]
  },
  {
   "cell_type": "markdown",
   "id": "bd19075f",
   "metadata": {},
   "source": [
    "```python\n",
    "{\n",
    "\n",
    "  ...\n",
    "    \n",
    "  \"spatial\" : {\n",
    "    \"type\" : \"square\",\n",
    "    \"coordinates\" : [\"50.894788495590255\", \"-1.5016114579557494\", \"50.93353474215812\", \"-1.440843330514343\"]\n",
    "  }\n",
    "}\n",
    "```"
   ]
  },
  {
   "cell_type": "markdown",
   "id": "c64a4818",
   "metadata": {},
   "source": [
    "## Area of interest (AOI)"
   ]
  },
  {
   "cell_type": "markdown",
   "id": "c75df1c7",
   "metadata": {},
   "source": [
    "An Area of Interest (AOI) query in Geospatial APIs, is one where a pre-defined polygon definiton is used to specify a spatial defintion. The spatial definition is defined by an ID retrived by searching for the [AOI](../catalog/aoi.ipynb). To see a more complete example of searching for an AOI and using one in a query, see [Quickstart- Area of Interest (AOI)](../quickstart/area_of_interest.ipynb)"
   ]
  },
  {
   "cell_type": "markdown",
   "id": "519b5b38",
   "metadata": {},
   "source": [
    "```python\n",
    "{\n",
    "\n",
    "  ...\n",
    "    \n",
    "  \"spatial\": {\n",
    "    \"aoi\": 36595,\n",
    "    \"type\": \"poly\"\n",
    "  }\n",
    "}\n",
    "```"
   ]
  },
  {
   "cell_type": "markdown",
   "id": "89636a9e",
   "metadata": {},
   "source": [
    "## Well known text (WKT)"
   ]
  },
  {
   "cell_type": "markdown",
   "id": "7bab2b4e",
   "metadata": {},
   "source": [
    "The Well-known Text [WKT](https://en.wikipedia.org/wiki/Well-known_text_representation_of_geometry) [ISO/IEC 13249-3:2016](https://www.iso.org/standard/60343.html) standard can be used to specify a spatial polygon for the query request.\n",
    "\n",
    "The vertex coordinates are always longitude, latitude. As defined by the well-known text specification, the outside edge of a polygon is defined counter-clockwise, inside edges (or holes) are defined in clockwise order. The python library [Shapely](https://shapely.readthedocs.io/en/stable/) is a useful tool when working with polygons."
   ]
  },
  {
   "cell_type": "markdown",
   "id": "03f2ef00",
   "metadata": {},
   "source": [
    "<div class=\"alert alert-info\">\n",
    "    Please note: Geospatial APIs only supports the Polygon and Multipolygon types.\n",
    "</div>"
   ]
  },
  {
   "cell_type": "markdown",
   "id": "39f146dd",
   "metadata": {},
   "source": [
    "```python\n",
    "{  \n",
    "\n",
    "  ...\n",
    "    \n",
    "  \"spatial\": {\n",
    "    \"type\": \"poly\",\n",
    "    \"polygon\": {\n",
    "      \"wkt\": \"POLYGON ((-1.402946 51.024756, -1.402913 51.025498, -1.402849 51.025822, -1.401497 51.026679, -1.401068 51.026935, -1.400789 51.026989, -1.400843 51.027077, -1.400778 51.027468, -1.400145 51.027475, -1.399502 51.02763, -1.39742 51.02757, -1.397291 51.027759, -1.398214 51.028325, -1.398289 51.028521, -1.398096 51.028899, -1.396176 51.028508, -1.396444 51.030599, -1.396251 51.031409, -1.396337 51.031571, -1.395156 51.031625, -1.394384 51.031139, -1.394212 51.031004, -1.393847 51.031004, -1.393912 51.030532, -1.394277 51.030761, -1.394534 51.030667, -1.394942 51.028157, -1.394556 51.027617, -1.394727 51.027495, -1.39462 51.027246, -1.394234 51.027185, -1.393472 51.026429, -1.393332 51.026126, -1.393504 51.025869, -1.393064 51.025606, -1.392775 51.025471, -1.392817 51.025012, -1.392817 51.02315, -1.39271 51.022448, -1.392667 51.021408, -1.392903 51.021098, -1.393847 51.020895, -1.395864 51.02103, -1.396036 51.021233, -1.395564 51.022178, -1.396401 51.022218, -1.397924 51.022097, -1.399126 51.022164, -1.400306 51.02261, -1.401165 51.023069, -1.402516 51.023797, -1.402817 51.024256, -1.402967 51.024607, -1.402946 51.024756))\"\n",
    "    }\n",
    "  }\n",
    "}\n",
    "```"
   ]
  }
 ],
 "metadata": {
  "kernelspec": {
   "display_name": "Python 3 (ipykernel)",
   "language": "python",
   "name": "python3"
  },
  "language_info": {
   "codemirror_mode": {
    "name": "ipython",
    "version": 3
   },
   "file_extension": ".py",
   "mimetype": "text/x-python",
   "name": "python",
   "nbconvert_exporter": "python",
   "pygments_lexer": "ipython3",
   "version": "3.11.0"
  }
 },
 "nbformat": 4,
 "nbformat_minor": 5
}
