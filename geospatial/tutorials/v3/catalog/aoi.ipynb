{
 "cells": [
  {
   "cell_type": "markdown",
   "id": "a3fc4c03",
   "metadata": {},
   "source": [
    "# Area of interest (AOI)"
   ]
  },
  {
   "cell_type": "markdown",
   "id": "f4985671",
   "metadata": {},
   "source": [
    "An Area of Interest (AOI), in Geospatial APIs, is a pre-defined labelled spatial definition; usually a jurisdiction (e.g. country, state etc). To find a Geospatial APIs AOI the `ibmpairs.query.search_aois` function can be used."
   ]
  },
  {
   "cell_type": "code",
   "execution_count": null,
   "id": "32a7ec83",
   "metadata": {},
   "outputs": [],
   "source": [
    "%pip install configparser\n",
    "%pip install ibmpairs\n",
    "%pip install geopandas\n",
    "%pip install geoplot"
   ]
  },
  {
   "cell_type": "code",
   "execution_count": 1,
   "id": "9a76323d",
   "metadata": {},
   "outputs": [
    {
     "name": "stdout",
     "output_type": "stream",
     "text": [
      "2024-08-06 13:59:26 - paw - INFO - The client authentication method is assumed to be OAuth2.\n",
      "2024-08-06 13:59:26 - paw - INFO - Legacy Environment is False\n",
      "2024-08-06 13:59:26 - paw - INFO - The authentication api key type is assumed to be IBM Cloud IAM, because the api key prefix 'PHX' is not present.\n",
      "2024-08-06 13:59:27 - paw - INFO - Authentication success.\n",
      "2024-08-06 13:59:27 - paw - INFO - HOST: https://api.ibm.com/geospatial/run/na/core/v3\n"
     ]
    }
   ],
   "source": [
    "import os\n",
    "import json\n",
    "import ibmpairs.query as query\n",
    "import ibmpairs.client as client\n",
    "import configparser\n",
    "\n",
    "import geopandas\n",
    "import geoplot\n",
    "\n",
    "config = configparser.RawConfigParser()\n",
    "config.read('../../../auth/secrets.ini')\n",
    "# Best practice is not to include secrets in source code so we read\n",
    "# an api key, tenant id and org id from a secrets.ini file.\n",
    "# You could set the credentials in-line here but we don't\n",
    "# recommend it for security reasons.\n",
    "\n",
    "EI_API_KEY    = config.get('EI', 'api.api_key')\n",
    "EI_TENANT_ID  = config.get('EI', 'api.tenant_id') \n",
    "EI_ORG_ID     = config.get('EI', 'api.org_id') \n",
    "\n",
    "# Authenticate and get a client object.\n",
    "ei_client = client.get_client(api_key   = EI_API_KEY,\n",
    "                              tenant_id = EI_TENANT_ID,\n",
    "                              org_id    = EI_ORG_ID)"
   ]
  },
  {
   "cell_type": "code",
   "execution_count": 2,
   "id": "16eb864c",
   "metadata": {},
   "outputs": [
    {
     "data": {
      "text/html": [
       "<div>\n",
       "<style scoped>\n",
       "    .dataframe tbody tr th:only-of-type {\n",
       "        vertical-align: middle;\n",
       "    }\n",
       "\n",
       "    .dataframe tbody tr th {\n",
       "        vertical-align: top;\n",
       "    }\n",
       "\n",
       "    .dataframe thead th {\n",
       "        text-align: right;\n",
       "    }\n",
       "</style>\n",
       "<table border=\"1\" class=\"dataframe\">\n",
       "  <thead>\n",
       "    <tr style=\"text-align: right;\">\n",
       "      <th></th>\n",
       "      <th>id</th>\n",
       "      <th>key</th>\n",
       "      <th>name</th>\n",
       "    </tr>\n",
       "  </thead>\n",
       "  <tbody>\n",
       "    <tr>\n",
       "      <th>0</th>\n",
       "      <td>50313</td>\n",
       "      <td>connecticut.middlesex</td>\n",
       "      <td>Connecticut.Middlesex</td>\n",
       "    </tr>\n",
       "    <tr>\n",
       "      <th>1</th>\n",
       "      <td>51219</td>\n",
       "      <td>massachusetts.middlesex</td>\n",
       "      <td>Massachusetts.Middlesex</td>\n",
       "    </tr>\n",
       "    <tr>\n",
       "      <th>2</th>\n",
       "      <td>51783</td>\n",
       "      <td>new_jersey.middlesex</td>\n",
       "      <td>New_Jersey.Middlesex</td>\n",
       "    </tr>\n",
       "    <tr>\n",
       "      <th>3</th>\n",
       "      <td>52892</td>\n",
       "      <td>virginia.middlesex</td>\n",
       "      <td>Virginia.Middlesex</td>\n",
       "    </tr>\n",
       "  </tbody>\n",
       "</table>\n",
       "</div>"
      ],
      "text/plain": [
       "      id                      key                     name\n",
       "0  50313    connecticut.middlesex    Connecticut.Middlesex\n",
       "1  51219  massachusetts.middlesex  Massachusetts.Middlesex\n",
       "2  51783     new_jersey.middlesex     New_Jersey.Middlesex\n",
       "3  52892       virginia.middlesex       Virginia.Middlesex"
      ]
     },
     "execution_count": 2,
     "metadata": {},
     "output_type": "execute_result"
    }
   ],
   "source": [
    "aois_list = query.search_aois('middlesex')\n",
    "aois_list"
   ]
  },
  {
   "cell_type": "markdown",
   "id": "09005627",
   "metadata": {},
   "source": [
    "The AOI id `51219` can be used in a Geospatial APIs query (see Query - [Spatial](../query/spatial.ipynb) for the specification of AOIs, or a full example in the Quick Start [Area of Interest (AOI)](../quickstart/area_of_interest.ipynb).\n",
    "\n",
    "In order to see more metadata about the AOI `51219` - massachusetts.middlesex, it can be requested with the function `ibmpairs.query.get_aois`."
   ]
  },
  {
   "cell_type": "code",
   "execution_count": 3,
   "id": "67dc10ad",
   "metadata": {},
   "outputs": [
    {
     "name": "stdout",
     "output_type": "stream",
     "text": [
      "2024-08-06 13:59:29 - paw - INFO - The AOI metadata for 51219 was retreived.\n"
     ]
    },
    {
     "data": {
      "text/plain": [
       "{\n",
       "    \"bbox\": [\n",
       "        42.154225367,\n",
       "        -71.900942263,\n",
       "        42.726069367,\n",
       "        -71.026709263\n",
       "    ],\n",
       "    \"geojson\": \"{\\\"type\\\":\\\"Polygon\\\",\\\"coordinates\\\":[[[-71.026709263,42.443307367],[-71.052085263,42.387514367],[-71.073104263,42.389810367],[-71.083702263,42.374139367],[-71.066603263,42.352388367],[-71.116913263,42.352151367],[-71.136224263,42.365762367],[-71.176050263,42.348451367],[-71.152696263,42.327490367],[-71.180811263,42.307650367],[-71.164399263,42.299113367],[-71.189966263,42.280581367],[-71.212916263,42.296076367],[-71.223155263,42.319471367],[-71.238826263,42.331170367],[-71.327231263,42.308022367],[-71.308484263,42.247190367],[-71.332144263,42.244497367],[-71.349737263,42.205774367],[-71.343809263,42.198839367],[-71.393737263,42.188947367],[-71.399681263,42.179071367],[-71.436814263,42.179811367],[-71.476137263,42.154225367],[-71.476900263,42.167416367],[-71.502269263,42.167908367],[-71.554356263,42.183445367],[-71.556989263,42.196674367],[-71.591673263,42.196865367],[-71.605765263,42.219394367],[-71.592634263,42.258681367],[-71.566862263,42.268653367],[-71.516621263,42.269065367],[-71.485439263,42.308455367],[-71.492809263,42.327689367],[-71.558569263,42.328486367],[-71.590193263,42.311350367],[-71.603797263,42.330690367],[-71.627006263,42.341570367],[-71.613685263,42.368139367],[-71.586447263,42.383546367],[-71.593566263,42.393220367],[-71.563070263,42.412652367],[-71.546400263,42.462334367],[-71.565382263,42.470871367],[-71.535788263,42.516228367],[-71.538809263,42.536289367],[-71.571456263,42.545989367],[-71.597938263,42.536479367],[-71.619973263,42.547339367],[-71.632104263,42.538470367],[-71.631417263,42.522090367],[-71.676485263,42.532905367],[-71.667063263,42.609564367],[-71.777479263,42.644681367],[-71.781622263,42.632024367],[-71.858307263,42.631489367],[-71.856987263,42.674198367],[-71.900942263,42.705378367],[-71.287194263,42.698603367],[-71.252411263,42.726069367],[-71.236877263,42.661624367],[-71.260238263,42.654388367],[-71.171475263,42.613843367],[-71.179883263,42.606297367],[-71.162838263,42.596379367],[-71.152394263,42.607972367],[-71.126804263,42.593770367],[-71.055376263,42.603086367],[-71.030847263,42.579340367],[-71.033746263,42.569857367],[-71.056650263,42.573107367],[-71.075281263,42.544879367],[-71.069909263,42.524753367],[-71.042015263,42.521854367],[-71.037429263,42.498104367],[-71.059021263,42.473137367],[-71.026709263,42.443307367]]]}\",\n",
       "    \"id\": 51219,\n",
       "    \"key\": \"massachusetts.middlesex\",\n",
       "    \"name\": \"Massachusetts.Middlesex\"\n",
       "}"
      ]
     },
     "execution_count": 3,
     "metadata": {},
     "output_type": "execute_result"
    }
   ],
   "source": [
    "middlesex_id = int(aois_list.loc[aois_list['key'] == 'massachusetts.middlesex', 'id'].iloc[0])\n",
    "middlesex = query.get_aoi(middlesex_id)\n",
    "middlesex"
   ]
  },
  {
   "cell_type": "markdown",
   "id": "626a34c6",
   "metadata": {},
   "source": [
    "The output includes a `bbox` of the outer perimeter of the AOI, a `geojson` specification of the `MultiPolygon` or `Polygon` area, the `name`, `key` and `id`."
   ]
  },
  {
   "cell_type": "code",
   "execution_count": 4,
   "id": "9f520472",
   "metadata": {},
   "outputs": [
    {
     "data": {
      "image/png": "[encoded data removed]",
      "text/plain": [
       "<Figure size 800x600 with 1 Axes>"
      ]
     },
     "metadata": {},
     "output_type": "display_data"
    }
   ],
   "source": [
    "middlesex_geopandas = geopandas.read_file(middlesex.geojson, driver='GeoJSON')\n",
    "gx = geoplot.polyplot(middlesex_geopandas.geometry)"
   ]
  }
 ],
 "metadata": {
  "kernelspec": {
   "display_name": "base",
   "language": "python",
   "name": "python3"
  },
  "language_info": {
   "codemirror_mode": {
    "name": "ipython",
    "version": 3
   },
   "file_extension": ".py",
   "mimetype": "text/x-python",
   "name": "python",
   "nbconvert_exporter": "python",
   "pygments_lexer": "ipython3",
   "version": "3.10.14"
  }
 },
 "nbformat": 4,
 "nbformat_minor": 5
}
