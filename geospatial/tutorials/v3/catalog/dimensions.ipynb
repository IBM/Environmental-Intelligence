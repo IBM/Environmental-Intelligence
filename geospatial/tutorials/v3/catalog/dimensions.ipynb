{
 "cells": [
  {
   "cell_type": "markdown",
   "id": "db50844c",
   "metadata": {},
   "source": [
    "# Dimensions"
   ]
  },
  {
   "cell_type": "markdown",
   "id": "82982bf2",
   "metadata": {},
   "source": [
    "A Data Layer Dimension gives context to the value recorded for the data layer. For example, weather forecast models typically create a prediction for each day in the future for a number of days. When the weather model is run on a Monday it will generate a predictions for temperature on Tuesday, Wednesday, Thursday, Friday and Saturday. When the forecast is run on the Tuesday the predictions are made for Wednesday, Thursday, Friday etc. The days for which predictions are generated are the data layer dimensions. \n",
    "\n",
    "Imagine a temperature prediction data layer which records the temperature against a spatial and temporal key:\n",
    "\n",
    "```\n",
    "lat/long/timestamp = temperature\n",
    "```\n",
    "\n",
    "This only stores one temperature value per key. Each time we run the weather model we generate 5 temperature predictions. One for each of the 5 future days. How can we store them? The answer is that the key is extended with a dimension:\n",
    "\n",
    "```\n",
    "lat/long/timestamp/dimension = temperature\n",
    "```\n",
    "\n",
    "Now each place and time can also have 5 predictions associated with it. \n",
    "\n",
    "In Geospatial APIs the data is typically arranged:\n",
    "```\n",
    "timestamp = the date/time that the value is valid\n",
    "dimension  = the predicted day number (horizon) from the model run\n",
    "```\n",
    "Using this scheme it is straightforward to compare different model predictions for the same date and time. "
   ]
  },
  {
   "cell_type": "code",
   "execution_count": null,
   "id": "8407e40f",
   "metadata": {},
   "outputs": [],
   "source": [
    "%pip install configparser\n",
    "%pip install ibmpairs"
   ]
  },
  {
   "cell_type": "code",
   "execution_count": 1,
   "id": "6d1bf4bf",
   "metadata": {},
   "outputs": [
    {
     "name": "stdout",
     "output_type": "stream",
     "text": [
      "2024-08-06 14:01:15 - paw - INFO - The client authentication method is assumed to be OAuth2.\n",
      "2024-08-06 14:01:15 - paw - INFO - Legacy Environment is False\n",
      "2024-08-06 14:01:15 - paw - INFO - The authentication api key type is assumed to be IBM Cloud IAM, because the api key prefix 'PHX' is not present.\n",
      "2024-08-06 14:01:16 - paw - INFO - Authentication success.\n",
      "2024-08-06 14:01:16 - paw - INFO - HOST: https://api.ibm.com/geospatial/run/na/core/v3\n"
     ]
    }
   ],
   "source": [
    "import os\n",
    "import ibmpairs.client as client\n",
    "import ibmpairs.catalog as catalog\n",
    "import configparser\n",
    "\n",
    "config = configparser.RawConfigParser()\n",
    "config.read('../../../auth/secrets.ini')\n",
    "# Best practice is not to include secrets in source code so we read\n",
    "# an api key, tenant id and org id from a secrets.ini file.\n",
    "# You could set the credentials in-line here but we don't\n",
    "# recommend it for security reasons.\n",
    "\n",
    "EI_API_KEY    = config.get('EI', 'api.api_key')\n",
    "EI_TENANT_ID  = config.get('EI', 'api.tenant_id') \n",
    "EI_ORG_ID     = config.get('EI', 'api.org_id') \n",
    "\n",
    "# Authenticate and get a client object.\n",
    "ei_client = client.get_client(api_key   = EI_API_KEY,\n",
    "                              tenant_id = EI_TENANT_ID,\n",
    "                              org_id    = EI_ORG_ID)"
   ]
  },
  {
   "cell_type": "markdown",
   "id": "159abac3",
   "metadata": {},
   "source": [
    "## Get a list of Data Layer Dimensions per Data Layer\n",
    "\n",
    "To list all Data Layer Dimensions belonging to a Data Layer, the `ibmpairs.catalog.get_data_layer_dimensions()` function is provided a Data Layer ID."
   ]
  },
  {
   "cell_type": "code",
   "execution_count": 2,
   "id": "80cf26fa",
   "metadata": {},
   "outputs": [
    {
     "name": "stdout",
     "output_type": "stream",
     "text": [
      "2024-08-06 14:01:16 - paw - INFO - https://api.ibm.com/geospatial/run/na/core/v3/datalayers/49166/datalayer_dimensions\n"
     ]
    },
    {
     "data": {
      "text/html": [
       "<div>\n",
       "<style scoped>\n",
       "    .dataframe tbody tr th:only-of-type {\n",
       "        vertical-align: middle;\n",
       "    }\n",
       "\n",
       "    .dataframe tbody tr th {\n",
       "        vertical-align: top;\n",
       "    }\n",
       "\n",
       "    .dataframe thead th {\n",
       "        text-align: right;\n",
       "    }\n",
       "</style>\n",
       "<table border=\"1\" class=\"dataframe\">\n",
       "  <thead>\n",
       "    <tr style=\"text-align: right;\">\n",
       "      <th></th>\n",
       "      <th>id</th>\n",
       "      <th>short_name</th>\n",
       "      <th>identifier</th>\n",
       "      <th>order</th>\n",
       "      <th>full_name</th>\n",
       "      <th>type</th>\n",
       "      <th>unit</th>\n",
       "    </tr>\n",
       "  </thead>\n",
       "  <tbody>\n",
       "    <tr>\n",
       "      <th>0</th>\n",
       "      <td>243</td>\n",
       "      <td>issuetime</td>\n",
       "      <td>A</td>\n",
       "      <td>1</td>\n",
       "      <td>NaN</td>\n",
       "      <td>NaN</td>\n",
       "      <td>NaN</td>\n",
       "    </tr>\n",
       "    <tr>\n",
       "      <th>1</th>\n",
       "      <td>244</td>\n",
       "      <td>horizon</td>\n",
       "      <td>B</td>\n",
       "      <td>2</td>\n",
       "      <td>NaN</td>\n",
       "      <td>NaN</td>\n",
       "      <td>NaN</td>\n",
       "    </tr>\n",
       "  </tbody>\n",
       "</table>\n",
       "</div>"
      ],
      "text/plain": [
       "    id short_name identifier  order  full_name  type  unit\n",
       "0  243  issuetime          A      1        NaN   NaN   NaN\n",
       "1  244    horizon          B      2        NaN   NaN   NaN"
      ]
     },
     "execution_count": 2,
     "metadata": {},
     "output_type": "execute_result"
    }
   ],
   "source": [
    "dlds = catalog.get_data_layer_dimensions(data_layer_id = \"49166\")\n",
    "dlds.display()"
   ]
  },
  {
   "cell_type": "markdown",
   "id": "4f60a756",
   "metadata": {},
   "source": [
    "## Get a Data Layer Dimension\n",
    "\n",
    "To find out more about a Data Layer Dimension, once the Data Layer Dimension ID is known, the `ibmpairs.catalog.get_data_layer_dimension()` function is provided a Data Layer Dimension ID."
   ]
  },
  {
   "cell_type": "code",
   "execution_count": 3,
   "id": "b87a2d5b",
   "metadata": {},
   "outputs": [
    {
     "name": "stdout",
     "output_type": "stream",
     "text": [
      "{\n",
      "    \"data_layer_dimension_response\": {},\n",
      "    \"full_name\": \"Issuetime\",\n",
      "    \"id\": \"243\",\n",
      "    \"identifier\": \"A\",\n",
      "    \"order\": 1,\n",
      "    \"short_name\": \"issuetime\",\n",
      "    \"type\": \"integer\",\n",
      "    \"unit\": \"hour\"\n",
      "}\n"
     ]
    }
   ],
   "source": [
    "dld = catalog.get_data_layer_dimension(id = \"243\")\n",
    "print(dld)"
   ]
  }
 ],
 "metadata": {
  "kernelspec": {
   "display_name": "base",
   "language": "python",
   "name": "python3"
  },
  "language_info": {
   "codemirror_mode": {
    "name": "ipython",
    "version": 3
   },
   "file_extension": ".py",
   "mimetype": "text/x-python",
   "name": "python",
   "nbconvert_exporter": "python",
   "pygments_lexer": "ipython3",
   "version": "3.10.14"
  }
 },
 "nbformat": 4,
 "nbformat_minor": 5
}
