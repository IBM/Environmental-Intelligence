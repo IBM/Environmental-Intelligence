{
 "cells": [
  {
   "cell_type": "markdown",
   "metadata": {},
   "source": [
    "# History on Demand APIs\n",
    "\n",
    "The History on demand (HoD) APIs provide the historical context about the weather that you need to extrapolate relationships and make correlations with your past business and operational results. In this way, the HoD APIs can help you to predict future business needs and outcomes.\n",
    "\n",
    "## Overview\n",
    "\n",
    "The History on Demand (HoD) APIs are a collection of APIs that provide historical (and, in one case, forecast) weather data and they have the ability to provide multiple data sources for historical weather and one data source for forecast weather in customizable payloads.\n",
    "\n",
    "## Gain valuable insights with the Data Sets\n",
    "\n",
    "The HoD APIs consist of three main Data Sets sourced from The Weather Company (TWC) models:\n",
    "- Gridded Currents on Demand (gCoD): A blended-source, hourly global composition of historical observations with global coverage.\n",
    "- Gridded Agriculture and Energy (gAgE) layers: A source for two data layers that are important to many agricultural and land management applications. These layers are reference evapotranspiration and global horizontal irradiance. The data is from a blended-source model and has global coverage.\n",
    "- Forecast on demand (FoD): The TWC 15-day hourly forecast model, which is the basis for the data that is provided by the HoD Forecast Data for Analytical Tools (FDAT) API. The FDAT API is described in the APIs section.\n",
    "\n",
    "## What are the HoD APIs?\n",
    "\n",
    "The majority of the History on Demand (HoD) APIs provide access to global, historical weather data. Historical weather data is prevalent in trend analysis and the training of analytical models pertaining to energy, agriculture, insurance and many other industries. These APIs - in some cases - may serve the same data, but allow you to collect that data the way that works best for you. Each has its own style of interaction, allowable query types, delivery mode, and restrictions. \n",
    "\n",
    "\n",
    "Select the API that suits your usage style, desired data format and delivery mechanism.\n",
    "\n",
    "\n",
    "History on Demand consists of five synchronous APIs:\n",
    "- HoD Direct API: API that gives access to the hourly data in both the gCOD and gAGE data sets.\n",
    "- Historical Data for Analytical Tools (HDAT) API: API that gives access to daily summarizations of the gAgE and a subset of the gCoD data sets.\n",
    "- Forecast Data for Analytical Tools (FDAT) API: API that complements the HDAT API. The FDAT API serves daily summarizations of the forecast for the same gCoD data layers that are included in HDAT.\n",
    "- HoD Utility API: API that has tools to help HoD API users explore the grids, and economize their interactions with the weather data APIs.\n",
    "- HoD Usage API: API that helps HoD API users examine and track the number of calls, and the rows of data consumed from the weather data APIs."
   ]
  },
  {
   "cell_type": "markdown",
   "metadata": {},
   "source": [
    "Let's get into a detailed overview of each API to understand how they work:\n",
    "\n",
    "### [History on Demand - Direct API](https://developer.ibm.com/apis/catalog/envintelsuite--ibm-environmental-intelligence-suite/api/API--envintelsuite--history-on-demand-direct-api)\n",
    "\n",
    "HoD Direct is a synchronous API that allows users to examine hourly gCOD and AGE data. Users specify the geospatial and the temporal facets of the query in the URL, and the data is returned in the response. See the Datasets section in the [HoD Direct API - Additional Information](https://developer.ibm.com/apis/catalog/envintelsuite--ibm-environmental-intelligence-suite/HoD%20Direct%20API%20-%20Additional%20Information) document for details on data layers served by the HoD Direct API. The API implements paging, so that no single request takes excessively long to come back. It also allows for the specification of a geolocation in multiple formats, explained below. The format of the data in a successful response is dictated by the format specified in the request. The format of all other responses (request validation errors, etc.) is <b>json</b>.\n",
    "\n",
    "Please refer to the [HoD Direct API Developer Guide](https://developer.ibm.com/apis/catalog/envintelsuite--ibm-environmental-intelligence-suite/HoD%20Direct%20API) for more details.\n",
    "\n",
    "## APIs that serve summarized data (HDAT and FDAT)\n",
    "\n",
    "### [Historical Data for Analytical Tools (HDAT) API](https://developer.ibm.com/apis/catalog/envintelsuite--ibm-environmental-intelligence-suite/api/API--envintelsuite--historical-data-for-analytical-tools)\n",
    "\n",
    "The \"Historical Data for Analytical Tooling\" API outputs training data for use by Data Science teams to perform Initial Data Exploration and train Machine Learning models. HDAT Serves the gCOD dataset. HDAT Ext additionally serves the AGE dataset.\n",
    "\n",
    "Once models are trained using data provided by this API, Predictive Analytics is often performed using the forecast counterpart of this API, Forecast Data for Analytical Tooling. The data provided by this API consists of the Average, Max and Min values, for each of 7 daily “periods” (expressed in local time relative to the postalKey or geolocation supplied in the call), for each of the specified weather aspects (“products”), for each day in the date range specified in the call.\n",
    "\n",
    "Please refer to the [HDAT API Developer Guide](https://developer.ibm.com/apis/catalog/envintelsuite--ibm-environmental-intelligence-suite/HDAT%20API%20Developer%20Guide) for more details.\n",
    "\n",
    "### [Forecast Data for Analytical Tools (FDAT) API](https://developer.ibm.com/apis/catalog/envintelsuite--ibm-environmental-intelligence-suite/api/API--envintelsuite--forecast-data-for-analytical-tools)\n",
    "The Forecast Data for Analytical Tooling API provides aggregated forecast data (from TWC's Forecast on Demand system) for use by Data Science teams in performing Predictive Analytics.\n",
    "\n",
    "Predictive models are often trained using the historical counterpart of this API, Historical Data for Analytical Tooling. The data provided by this API consists of the Average, Max and Min values, for each of 7 daily “periods” (expressed in local time relative to the postalKey supplied in the call), for each of 11 weather layers, for each day in the hourly forecast data at the time of the call.\n",
    "\n",
    "Please refer to the [FDAT API Developer Guide](https://developer.ibm.com/apis/catalog/envintelsuite--ibm-environmental-intelligence-suite/FDAT%20API%20Developer%20Guide) for more details."
   ]
  },
  {
   "cell_type": "markdown",
   "metadata": {},
   "source": [
    "---\n",
    "\n",
    "**Note**\n",
    "\n",
    "When using HDAT and FDAT, one must consider their consideration of \"local time\" at the point queried, at the time the query is placed. This is one of the most complicated topics to understand regarding these two APis, and understanding it is crucial.\n",
    "\n",
    "When someone queries HDAT, the API first calls a service to get the \"Iana Time Zone\" for the point. It uses this to calculate the timezone offset it needs to consider when retrieving the Zulu-based weather data. It does that so that the \"dayparts\" are in terms of the local clock at the queried point. The important part is that one needs to understand that in order to get the full set of aggregations for a given day, the query must be run at some moment past 8am local time (at the queried point) the next day.\n",
    "\n",
    "Since FDAT's data source is the Forecast on Demand API, it will automatically produce the 360 periods (hours) of data in local time from the next available local forecast period.\n",
    "\n",
    "---"
   ]
  },
  {
   "cell_type": "markdown",
   "metadata": {},
   "source": [
    "## Auxiliary HoD APIs\n",
    "\n",
    "### [History on Demand - Utility API](https://developer.ibm.com/apis/catalog/envintelsuite--ibm-environmental-intelligence-suite/api/API--envintelsuite--history-on-demand-hod-utility-api)\n",
    "An important part of efficiently and effectively working with the HoD APIs is understanding the datasets they serve. The sheer vastness of the data makes it difficult to understand how we might, for example, economize our calling strategy so that only the essential calls are made. Similarly, if we intended to issue a bounding box query, how could we ascertain how many grid points would be included? What degree of waste (extra grid points) exists in the specification of a polygon? The HoD Utility API is the beginning of the answers to questions like these and many more.\n",
    "\n",
    "Please refer to the [HoD Utility API Developer Guide](https://developer.ibm.com/apis/catalog/envintelsuite--ibm-environmental-intelligence-suite/HoD%20Utility%20API%20Developer%20Guide) for more details.\n",
    "\n",
    "### [History on Demand - Usage API](https://developer.ibm.com/apis/catalog/envintelsuite--ibm-environmental-intelligence-suite/api/API--envintelsuite--history-on-demand-usage-api)\n",
    "The HoD Direct API emits data regarding each call that is made to them. This data is collected and summarized by the HoD Usage Service/API. Calls to the HoD Usage API can then reveal the number of calls made to them and the amount of data retrieved. Soon the HDAT and FDAT APIs will also submit usage data for collection.\n",
    "\n",
    "Please refer to the [HoD Usage API Developer Guide](https://developer.ibm.com/apis/catalog/envintelsuite--ibm-environmental-intelligence-suite/HoD%20Usage%20API%20Developer%20Guide) for more details."
   ]
  },
  {
   "cell_type": "markdown",
   "metadata": {},
   "source": [
    "## Industry use cases\n",
    "\n",
    "- A government can derive actionable insights on health, disease, and weather patterns to better advise the public during a natural disaster or pandemic.\n",
    "- An electricity utility can better predict disruption risks to optimize maintenance and crew schedules.\n",
    "- An insurer can better project risk and alert policyholders before issues occur, increasing efficiency.\n",
    "- A business organization can use weather predictions to forecast the business insights for the specified period by analyzing the weather patterns."
   ]
  }
 ],
 "metadata": {
  "language_info": {
   "name": "python"
  }
 },
 "nbformat": 4,
 "nbformat_minor": 2
}
