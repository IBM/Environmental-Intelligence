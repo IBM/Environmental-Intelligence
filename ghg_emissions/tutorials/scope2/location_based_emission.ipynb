{
 "cells": [
  {
   "cell_type": "markdown",
   "metadata": {},
   "source": [
    "# Location Based Emissions"
   ]
  },
  {
   "cell_type": "markdown",
   "metadata": {},
   "source": [
    "**Table of contents**\n",
    "- Overview\n",
    "- Setup\n",
    "  - Get Token\n",
    "- Utility Functions\n",
    "  - Function to call API\n",
    "  - Input format for API\n",
    "- Example of Location Based Emission Query\n",
    "  - Output Explanation\n",
    "- Related Links"
   ]
  },
  {
   "cell_type": "markdown",
   "metadata": {},
   "source": [
    "## Overview"
   ]
  },
  {
   "cell_type": "markdown",
   "metadata": {},
   "source": [
    "Scope 2 emissions are GHG emissions that can be indirectly controlled by an organization, such as the purchase of electricity.\n",
    "\n",
    "Use this notebook to learn how to calculate location-based emissions from electricity grids that are providing an organization with energy."
   ]
  },
  {
   "cell_type": "markdown",
   "metadata": {},
   "source": [
    "## Setup"
   ]
  },
  {
   "cell_type": "markdown",
   "metadata": {},
   "source": [
    "Ensure that Python is installed in your system. Python 3+ is required.\n",
    "\n",
    "\n",
    "<b>Note:</b> To run this notebook seamlessly, you must first configure your credentials for GHG Emission APIs in a file named `secrets.ini` in the following format:\n",
    "\n",
    "```\n",
    "[EI]\n",
    "api.api_key = <Your GHG APIs API key>\n",
    "api.client_id = <Your GHG APIs client Id>\n",
    "\n",
    "```\n",
    "\n",
    "Keep the secrets.ini file at an appropriate relative location of this notebook, for example, as specified in the following config:\n",
    "\n",
    "```config.read('../../auth/secrets.ini')```"
   ]
  },
  {
   "cell_type": "code",
   "execution_count": 1,
   "metadata": {},
   "outputs": [],
   "source": [
    "# Install the packages below using pip/pip3 based on your python version.\n",
    "# pip install pandas,configparser,json,IPython\n",
    "import pandas as pd\n",
    "import configparser\n",
    "import requests\n",
    "import json\n",
    "from IPython.display import display as display_summary"
   ]
  },
  {
   "cell_type": "markdown",
   "metadata": {},
   "source": [
    "### Get Token"
   ]
  },
  {
   "cell_type": "markdown",
   "metadata": {},
   "source": [
    "\n",
    "Run the following code snippet to generate the Auth Bearer Token by using your api_key configured in secrets.ini."
   ]
  },
  {
   "cell_type": "code",
   "execution_count": 2,
   "metadata": {},
   "outputs": [],
   "source": [
    "config = configparser.RawConfigParser()\n",
    "config.read(['../../auth/secrets.ini','../../auth/config.ini'])\n",
    "\n",
    "EI_API_KEY  = config.get('EI', 'api.api_key')\n",
    "EI_CLIENT_ID = config.get('EI', 'api.client_id')\n",
    "EI_AUTH_ENPOINT = config.get('EI', 'api.auth_endpoint')\n",
    "EI_BASE_URL = config.get('EI', 'api.base_url')\n",
    "\n",
    "def get_bearer_token(token):\n",
    "    headers = {\n",
    "        'Content-Type': 'application/json',\n",
    "        'cache-control': 'no-cache',\n",
    "    }\n",
    "    data = {\"apiKey\":token, \"clientId\":EI_CLIENT_ID}\n",
    "    bearer_token_req = requests.post(EI_AUTH_ENPOINT, headers=headers, data= json.dumps(data))\n",
    "    if bearer_token_req.status_code != 200:\n",
    "        print( \"Error in getting Bearer token. Error code : \",bearer_token_req.status_code)\n",
    "    return bearer_token_req.json()['access_token']\n",
    "\n",
    "mybearer_token = get_bearer_token(EI_API_KEY)\n"
   ]
  },
  {
   "cell_type": "markdown",
   "metadata": {},
   "source": [
    "The following code snippet sets the Location Based Emission Parameters.\n"
   ]
  },
  {
   "cell_type": "markdown",
   "metadata": {},
   "source": [
    "## Utility Functions"
   ]
  },
  {
   "cell_type": "markdown",
   "metadata": {},
   "source": [
    "### Function to call API"
   ]
  },
  {
   "cell_type": "code",
   "execution_count": 3,
   "metadata": {},
   "outputs": [],
   "source": [
    "def Call_Carbon_API(CO2API, Co2Data, token):\n",
    "    headers = {\n",
    "        'accept': 'application/json',\n",
    "        'Authorization': 'Bearer '+token,\n",
    "        'Content-Type': 'application/json',\n",
    "    }\n",
    "\n",
    "    CO2response_req = requests.post( CO2API, headers=headers, data=json.dumps(Co2Data))\n",
    "    if CO2response_req.status_code != 200:\n",
    "        print( \"Problem! Error in generating response. Error code : \",CO2response_req.status_code)\n",
    "    return CO2response_req.json()"
   ]
  },
  {
   "cell_type": "markdown",
   "metadata": {},
   "source": [
    "### Input format for API"
   ]
  },
  {
   "cell_type": "code",
   "execution_count": 4,
   "metadata": {},
   "outputs": [],
   "source": [
    "def customer_id(customerid):\n",
    "    Input =  {\n",
    "              \"id\": customerid\n",
    "          }\n",
    "    return Input \n",
    "\n",
    "def customer_onBehalfOfClient(companyId,companyName):\n",
    "    Input =  {\n",
    "              \"companyId\": companyId,\n",
    "              \"companyName\": companyName\n",
    "          }\n",
    "    return Input  \n",
    "\n",
    "\n",
    "def customer_organisation(departmentId,departmentName):\n",
    "    Input =  {\n",
    "              \"departmentId\": departmentId,\n",
    "              \"departmentName\": departmentName\n",
    "          }\n",
    "    return Input  \n",
    "\n",
    "\n",
    "def customer_requestType(requestType):\n",
    "    Input =  {\n",
    "              \"requestType\": requestType,\n",
    "             }\n",
    "    return Input     \n",
    "\n",
    "\n",
    "def customer_location(country,stateProvince,zipPostCode,city):\n",
    "    Input =  {\n",
    "              \"country\": country,\n",
    "              \"stateProvince\": stateProvince,\n",
    "              \"zipPostCode\": zipPostCode,\n",
    "              \"city\": city\n",
    "          }\n",
    "    return Input        \n",
    "\n",
    "\n",
    "def customer_site(siteId,siteName,buildingId,buildingName):\n",
    "    Input = {\n",
    "              \"siteId\": siteId,\n",
    "              \"siteName\": siteName,\n",
    "              \"buildingId\": buildingId,\n",
    "              \"buildingName\": buildingName\n",
    "          }               \n",
    "    return Input\n",
    "\n",
    "def location_input(commodity,energyConsumedMWh):\n",
    "    input = {\"commodity\": commodity,\n",
    "             \"energyConsumedMWh\": energyConsumedMWh\n",
    "             }\n",
    "    return input"
   ]
  },
  {
   "cell_type": "markdown",
   "metadata": {},
   "source": [
    "## Example of Location Based Emission Query"
   ]
  },
  {
   "cell_type": "markdown",
   "metadata": {},
   "source": [
    "You can check the accepted values for the individual fields of the request payload. For more information, see [GHG Emissions API Developer Guide](https://developer.ibm.com/apis/catalog/envintelsuite--ibm-environmental-intelligence/GHG+Emissions+API#location).\n",
    "\n",
    "Run the following snippet to set the request payload for the Location Based Emission Endpoint Query:"
   ]
  },
  {
   "cell_type": "code",
   "execution_count": 5,
   "metadata": {},
   "outputs": [
    {
     "name": "stdout",
     "output_type": "stream",
     "text": [
      "Requests payload is : {\n",
      "  \"customID\": {\n",
      "    \"id\": \"Retailer_A_mobile_31234\"\n",
      "  },\n",
      "  \"onBehalfOfClient\": {\n",
      "    \"companyId\": \"877889877\",\n",
      "    \"companyName\": \"Retailer_A\"\n",
      "  },\n",
      "  \"organisation\": {\n",
      "    \"departmentId\": \"384834\",\n",
      "    \"departmentName\": \"Acme_retail\"\n",
      "  },\n",
      "  \"requestType\": {\n",
      "    \"requestType\": \"ACTUAL\"\n",
      "  },\n",
      "  \"location\": {\n",
      "    \"country\": \"England\",\n",
      "    \"stateProvince\": \"\",\n",
      "    \"zipPostCode\": \"\",\n",
      "    \"city\": \"London\"\n",
      "  },\n",
      "  \"site\": {\n",
      "    \"siteId\": \"T2383823\",\n",
      "    \"siteName\": \"Retailed_A_South_Bank\",\n",
      "    \"buildingId\": \"B38383\",\n",
      "    \"buildingName\": \"Building_6\"\n",
      "  },\n",
      "  \"timePeriod\": {\n",
      "    \"year\": \"2021\",\n",
      "    \"month\": \"1\"\n",
      "  },\n",
      "  \"activityData\": {\n",
      "    \"commodity\": \"Electricity\",\n",
      "    \"energyConsumedMWh\": \"100\"\n",
      "  }\n",
      "}\n"
     ]
    }
   ],
   "source": [
    "request_payload ={'customID'        : customer_id(customerid='Retailer_A_mobile_31234'), \n",
    "                   'onBehalfOfClient': customer_onBehalfOfClient(companyId='877889877',\n",
    "                                                                 companyName='Retailer_A') , \n",
    "                   'organisation'    : customer_organisation(departmentId='384834',\n",
    "                                                             departmentName='Acme_retail'), \n",
    "                   'requestType'     : customer_requestType(requestType='ACTUAL'), \n",
    "                   'location'        : customer_location(country='England',\n",
    "                                                         stateProvince='',\n",
    "                                                         zipPostCode='',\n",
    "                                                         city='London'),\n",
    "                   'site'            : customer_site(siteId='T2383823',\n",
    "                                                     siteName='Retailed_A_South_Bank',\n",
    "                                                     buildingId='B38383',\n",
    "                                                     buildingName='Building_6'), \n",
    "                   'timePeriod'      : {'year' : '2021', \n",
    "                                        'month': '1'},\n",
    "                   'activityData' : location_input(commodity='Electricity',\n",
    "                                                      energyConsumedMWh='100')\n",
    "                   }        \n",
    "       \n",
    "print(\"Requests payload is :\",json.dumps(request_payload, indent=2))  \n"
   ]
  },
  {
   "cell_type": "markdown",
   "metadata": {},
   "source": [
    "Use the following code to run the Location Based Emission API\n",
    "\n"
   ]
  },
  {
   "cell_type": "code",
   "execution_count": 6,
   "metadata": {},
   "outputs": [
    {
     "data": {
      "text/html": [
       "<style type=\"text/css\">\n",
       "#T_81b85 table {\n",
       "  display: block;\n",
       "  overflow-x: auto;\n",
       "  white-space: nowrap;\n",
       "}\n",
       "</style>\n",
       "<table id=\"T_81b85\">\n",
       "  <thead>\n",
       "    <tr>\n",
       "      <th class=\"blank level0\" >&nbsp;</th>\n",
       "      <th id=\"T_81b85_level0_col0\" class=\"col_heading level0 col0\" >CO2e (metric tonne)</th>\n",
       "      <th id=\"T_81b85_level0_col1\" class=\"col_heading level0 col1\" >description</th>\n",
       "    </tr>\n",
       "  </thead>\n",
       "  <tbody>\n",
       "    <tr>\n",
       "      <th id=\"T_81b85_level0_row0\" class=\"row_heading level0 row0\" >0</th>\n",
       "      <td id=\"T_81b85_row0_col0\" class=\"data row0 col0\" >92.000000</td>\n",
       "      <td id=\"T_81b85_row0_col1\" class=\"data row0 col1\" >global emission factor derived from Institute for Gobal Environmental Strategies (IGES) is used</td>\n",
       "    </tr>\n",
       "  </tbody>\n",
       "</table>\n"
      ],
      "text/plain": [
       "<pandas.io.formats.style.Styler at 0x10f95dac0>"
      ]
     },
     "metadata": {},
     "output_type": "display_data"
    }
   ],
   "source": [
    "EI_API_ENDPOINT = f\"{EI_BASE_URL}/v2/carbon/location\"\n",
    "CO2Response = Call_Carbon_API(EI_API_ENDPOINT , request_payload, mybearer_token)\n",
    "df_res = pd.json_normalize(CO2Response)\n",
    "df_styled = df_res.style.set_table_styles([{\n",
    "    'selector': 'table',\n",
    "    'props' : [\n",
    "        ('display', 'block'),\n",
    "        ('overflow-x', 'auto'),\n",
    "        ('white-space', 'nowrap')\n",
    "    ]\n",
    "}])\n",
    "display_summary(df_styled)"
   ]
  },
  {
   "cell_type": "markdown",
   "metadata": {},
   "source": [
    "### Output Explanation"
   ]
  },
  {
   "cell_type": "markdown",
   "metadata": {},
   "source": [
    "<b>CO2e</b> -             Total greenhouse gases emitted in metric tonnes"
   ]
  },
  {
   "cell_type": "markdown",
   "metadata": {},
   "source": [
    "## Related Links"
   ]
  },
  {
   "cell_type": "markdown",
   "metadata": {},
   "source": [
    "[GHG Emissions API Developer Guide](https://developer.ibm.com/apis/catalog/envintelsuite--ibm-environmental-intelligence/GHG+Emissions+API)\n"
   ]
  }
 ],
 "metadata": {
  "kernelspec": {
   "display_name": "Python 3",
   "language": "python",
   "name": "python3"
  },
  "language_info": {
   "codemirror_mode": {
    "name": "ipython",
    "version": 3
   },
   "file_extension": ".py",
   "mimetype": "text/x-python",
   "name": "python",
   "nbconvert_exporter": "python",
   "pygments_lexer": "ipython3",
   "version": "3.9.6"
  }
 },
 "nbformat": 4,
 "nbformat_minor": 2
}
