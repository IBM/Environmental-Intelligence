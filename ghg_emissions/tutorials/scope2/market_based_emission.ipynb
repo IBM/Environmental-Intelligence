{
 "cells": [
  {
   "cell_type": "markdown",
   "metadata": {},
   "source": [
    "# Market Based Emission \n",
    "\n",
    "## Overview\n",
    "\n",
    "\n",
    "This notebook walks us through to Calculate emission(Market Based Emission) hotspots in the supply chain from resources and entry risks in the chain.\n",
    "\n",
    "Scope 2 Emissions are Indirect GHG emissions that can be indirectly controlled by an organization, such as the purchase of electricity\n",
    "\n",
    "Market Based Emisssion is part of Scope 2 Emissions.\n",
    "\n",
    "\n",
    "### Setup\n",
    "\n",
    "Make sure you have Python installed in your system (python 3+ is required).\n",
    "\n",
    "\n",
    "<b>Note:</b> To run this notebook seamlessly, you have to first configure your GHG Emission APIs' credentials in a file named `secrets.ini` in the format below:\n",
    "\n",
    "```\n",
    "[EI]\n",
    "api.api_key = <Your GHG APIs API key>\n",
    "api.client_id = <Your GHG APIs client Id>\n",
    "\n",
    "\n",
    "\n",
    "```\n",
    "\n",
    "Keep the secrets.ini file at an appropriate relative location of this notebook. For example, as specified in the config below.\n",
    "\n",
    "```config.read('../../auth/secrets.ini')```"
   ]
  },
  {
   "cell_type": "code",
   "execution_count": 2,
   "metadata": {},
   "outputs": [],
   "source": [
    "# Install the packages below using pip/pip3 based on your python version.\n",
    "# pip install pandas,configparser,json,IPython\n",
    "import pandas as pd\n",
    "import configparser\n",
    "import requests\n",
    "import json\n",
    "from IPython.display import display as display_summary"
   ]
  },
  {
   "cell_type": "markdown",
   "metadata": {},
   "source": [
    "#### Get Token\n",
    "\n",
    "Run the below code snippet to generate the Auth Bearer Token using your api_key configured in secrets.ini."
   ]
  },
  {
   "cell_type": "code",
   "execution_count": 3,
   "metadata": {},
   "outputs": [],
   "source": [
    "config = configparser.RawConfigParser()\n",
    "config.read(['../../auth/secrets.ini','../../auth/config.ini'])\n",
    "\n",
    "EI_API_KEY  = config.get('EI', 'api.api_key')\n",
    "EI_CLIENT_ID = config.get('EI', 'api.client_id')\n",
    "EI_AUTH_ENPOINT = config.get('EI', 'api.auth_endpoint')\n",
    "EI_BASE_URL = config.get('EI', 'api.base_url')\n",
    "\n",
    "def get_bearer_token(token):\n",
    "    headers = {\n",
    "        'Content-Type': 'application/json',\n",
    "        'cache-control': 'no-cache',\n",
    "    }\n",
    "    data = {\"apiKey\":token, \"clientId\":EI_CLIENT_ID}\n",
    "    bearer_token_req = requests.post(EI_AUTH_ENPOINT, headers=headers, data= json.dumps(data))\n",
    "    if bearer_token_req.status_code != 200:\n",
    "        print( \"Error in getting Bearer token. Error code : \",bearer_token_req.status_code)\n",
    "    return bearer_token_req.json()['access_token']\n",
    "\n",
    "mybearer_token = get_bearer_token(EI_API_KEY)\n"
   ]
  },
  {
   "cell_type": "markdown",
   "metadata": {},
   "source": [
    "The following code snippet set the Market Based Emission Parmeters\n"
   ]
  },
  {
   "cell_type": "markdown",
   "metadata": {},
   "source": [
    "### Utility Functions"
   ]
  },
  {
   "cell_type": "markdown",
   "metadata": {},
   "source": [
    "#### Function to call API"
   ]
  },
  {
   "cell_type": "code",
   "execution_count": 4,
   "metadata": {},
   "outputs": [],
   "source": [
    "def Call_Carbon_API(CO2API, Co2Data, token):\n",
    "    headers = {\n",
    "        'accept': 'application/json',\n",
    "        'Authorization': 'Bearer '+token,\n",
    "        'Content-Type': 'application/json',\n",
    "    }\n",
    "\n",
    "    CO2response_req = requests.post( CO2API, headers=headers, data=json.dumps(Co2Data))\n",
    "    if CO2response_req.status_code != 200:\n",
    "        print( \"Problem! Error in generating response. Error code : \",CO2response_req.status_code)\n",
    "    return CO2response_req.json()"
   ]
  },
  {
   "cell_type": "markdown",
   "metadata": {},
   "source": [
    "#### Input format for API"
   ]
  },
  {
   "cell_type": "code",
   "execution_count": 5,
   "metadata": {},
   "outputs": [],
   "source": [
    "def customer_id(customerid):\n",
    "    Input =  {\n",
    "              \"id\": customerid\n",
    "          }\n",
    "    return Input \n",
    "\n",
    "def customer_onBehalfOfClient(companyId,companyName):\n",
    "    Input =  {\n",
    "              \"companyId\": companyId,\n",
    "              \"companyName\": companyName\n",
    "          }\n",
    "    return Input  \n",
    "\n",
    "\n",
    "def customer_organisation(departmentId,departmentName):\n",
    "    Input =  {\n",
    "              \"departmentId\": departmentId,\n",
    "              \"departmentName\": departmentName\n",
    "          }\n",
    "    return Input  \n",
    "\n",
    "\n",
    "def customer_requestType(requestType):\n",
    "    Input =  {\n",
    "              \"requestType\": requestType,\n",
    "             }\n",
    "    return Input     \n",
    "\n",
    "\n",
    "def customer_location(country,stateProvince,zipPostCode,city):\n",
    "    Input =  {\n",
    "              \"country\": country,\n",
    "              \"stateProvince\": stateProvince,\n",
    "              \"zipPostCode\": zipPostCode,\n",
    "              \"city\": city\n",
    "          }\n",
    "    return Input        \n",
    "\n",
    "\n",
    "def customer_site(siteId,siteName,buildingId,buildingName):\n",
    "    Input = {\n",
    "              \"siteId\": siteId,\n",
    "              \"siteName\": siteName,\n",
    "              \"buildingId\": buildingId,\n",
    "              \"buildingName\": buildingName\n",
    "          }               \n",
    "    return Input\n",
    "\n",
    "def market_input(commodity,energyConsumedMWh,energySupplierResidualEF,supplierNameREC,energyPurchasedMWhREC,emissionFactorREC,\n",
    "                sourceREC,expiryDateREC,instrumentTypeREC,trackingSystemREC,certificateNumberREC,supplierNameREDI,\n",
    "                energyPurchasedMWhREDI,emissionFactorREDI,sourceREDI,expiryDateREDI,certificateNumberREDI,\n",
    "                supplierNameDEPC,energyPurchasedMWhDEPC, suppliedEmissionFactorDEPC,expiryDateDEPC,certificateNumberDEPC):\n",
    "    input = {\"commodity\": commodity,\n",
    "             \"energyConsumedMWh\": energyConsumedMWh,\n",
    "             \"energySupplierResidualEF\": energySupplierResidualEF,\n",
    "             \"supplierNameREC\": supplierNameREC,\n",
    "             \"energyPurchasedMWhREC\":energyPurchasedMWhREC,\n",
    "             \"emissionFactorREC\":emissionFactorREC,\n",
    "             \"sourceREC\": sourceREC,\n",
    "             \"expiryDateREC\": expiryDateREC,\n",
    "             \"instrumentTypeREC\": instrumentTypeREC,\n",
    "             \"trackingSystemREC\": trackingSystemREC,\n",
    "             \"certificateNumberREC\": certificateNumberREC,\n",
    "             \"supplierNameREDI\": supplierNameREDI,\n",
    "             \"energyPurchasedMWhREDI\": energyPurchasedMWhREDI,\n",
    "             \"emissionFactorREDI\": emissionFactorREDI,\n",
    "             \"sourceREDI\": sourceREDI,\n",
    "             \"expiryDateREDI\": expiryDateREDI,\n",
    "             \"certificateNumberREDI\": certificateNumberREDI,\n",
    "             \"supplierNameDEPC\": supplierNameDEPC,\n",
    "             \"energyPurchasedMWhDEPC\": energyPurchasedMWhDEPC,\n",
    "             \"suppliedEmissionFactorDEPC\": suppliedEmissionFactorDEPC,\n",
    "             \"expiryDateDEPC\": expiryDateDEPC,\n",
    "             \"certificateNumberDEPC\": certificateNumberDEPC\n",
    "  }\n",
    "    return input"
   ]
  },
  {
   "cell_type": "markdown",
   "metadata": {},
   "source": [
    "### Market Based Emission Query - Example\n",
    "\n",
    "Run the below snippet to set the request payload for Market Based Emission Endpoint Query\n",
    "\n",
    "To check the accepted values for the individual fields of the request payload please visit:\n",
    "https://developer.ibm.com/apis/catalog/envintelsuite--ibm-environmental-intelligence/GHG+Emissions+API#market"
   ]
  },
  {
   "cell_type": "code",
   "execution_count": 6,
   "metadata": {},
   "outputs": [
    {
     "name": "stdout",
     "output_type": "stream",
     "text": [
      "Requests payload is : {\n",
      "  \"customID\": {\n",
      "    \"id\": \"tesco_stationary_3838\"\n",
      "  },\n",
      "  \"onBehalfOfClient\": {\n",
      "    \"companyId\": \"877889877\",\n",
      "    \"companyName\": \"Tesco\"\n",
      "  },\n",
      "  \"organisation\": {\n",
      "    \"departmentId\": \"384834\",\n",
      "    \"departmentName\": \"lloyds_retail\"\n",
      "  },\n",
      "  \"requestType\": {\n",
      "    \"requestType\": \"ACTUAL\"\n",
      "  },\n",
      "  \"location\": {\n",
      "    \"country\": \"USA\",\n",
      "    \"stateProvince\": \"Alabama\",\n",
      "    \"zipPostCode\": \"\",\n",
      "    \"city\": \"\"\n",
      "  },\n",
      "  \"site\": {\n",
      "    \"siteId\": \"T2383823\",\n",
      "    \"siteName\": \"TescoCanaryWharf\",\n",
      "    \"buildingId\": \"B38434\",\n",
      "    \"buildingName\": \"Building6\"\n",
      "  },\n",
      "  \"timePeriod\": {\n",
      "    \"year\": \"2021\",\n",
      "    \"month\": \"1\"\n",
      "  },\n",
      "  \"activityData\": {\n",
      "    \"commodity\": \"electricity\",\n",
      "    \"energyConsumedMWh\": \"1000\",\n",
      "    \"energySupplierResidualEF\": \"na\",\n",
      "    \"supplierNameREC\": \"XXX\",\n",
      "    \"energyPurchasedMWhREC\": \"20\",\n",
      "    \"emissionFactorREC\": \"0.03\",\n",
      "    \"sourceREC\": \"solar\",\n",
      "    \"expiryDateREC\": \"12-31-2020\",\n",
      "    \"instrumentTypeREC\": \"bundled\",\n",
      "    \"trackingSystemREC\": \"ERCOT\",\n",
      "    \"certificateNumberREC\": \"1168\",\n",
      "    \"supplierNameREDI\": \"Apex Clean Energy\",\n",
      "    \"energyPurchasedMWhREDI\": \"10\",\n",
      "    \"emissionFactorREDI\": \"na\",\n",
      "    \"sourceREDI\": \"wind\",\n",
      "    \"expiryDateREDI\": \"12-31-2020\",\n",
      "    \"certificateNumberREDI\": \"1078\",\n",
      "    \"supplierNameDEPC\": \"Invenergy\",\n",
      "    \"energyPurchasedMWhDEPC\": \"10\",\n",
      "    \"suppliedEmissionFactorDEPC\": \"0.25\",\n",
      "    \"expiryDateDEPC\": \"12-31-2020\",\n",
      "    \"certificateNumberDEPC\": \"2089\"\n",
      "  }\n",
      "}\n"
     ]
    }
   ],
   "source": [
    "request_payload ={'customID'        : customer_id(customerid='tesco_stationary_3838'), \n",
    "                   'onBehalfOfClient': customer_onBehalfOfClient(companyId='877889877',\n",
    "                                                                 companyName='Tesco') , \n",
    "                   'organisation'    : customer_organisation(departmentId='384834',\n",
    "                                                             departmentName='lloyds_retail'), \n",
    "                   'requestType'     : customer_requestType(requestType='ACTUAL'), \n",
    "                   'location'        : customer_location(country='USA',\n",
    "                                                         stateProvince='Alabama',\n",
    "                                                         zipPostCode='',\n",
    "                                                         city=''),\n",
    "                   'site'            : customer_site(siteId='T2383823',\n",
    "                                                     siteName='TescoCanaryWharf',\n",
    "                                                     buildingId='B38434',\n",
    "                                                     buildingName='Building6'), \n",
    "                   'timePeriod'      : {'year' : '2021', \n",
    "                                        'month': '1'},\n",
    "                   'activityData' : market_input(commodity='electricity',\n",
    "                                                 energyConsumedMWh='1000',\n",
    "                                                 energySupplierResidualEF='na',\n",
    "                                                 supplierNameREC='XXX',\n",
    "                                                 energyPurchasedMWhREC='20',\n",
    "                                                 emissionFactorREC='0.03',\n",
    "                                                 sourceREC='solar',\n",
    "                                                 expiryDateREC='12-31-2020',\n",
    "                                                 instrumentTypeREC='bundled',\n",
    "                                                 trackingSystemREC='ERCOT',\n",
    "                                                 certificateNumberREC='1168',\n",
    "                                                 supplierNameREDI='Apex Clean Energy',\n",
    "                                                 energyPurchasedMWhREDI='10',\n",
    "                                                 emissionFactorREDI='na',\n",
    "                                                 sourceREDI='wind',\n",
    "                                                 expiryDateREDI='12-31-2020',\n",
    "                                                 certificateNumberREDI='1078',\n",
    "                                                 supplierNameDEPC='Invenergy',\n",
    "                                                 energyPurchasedMWhDEPC='10', \n",
    "                                                 suppliedEmissionFactorDEPC='0.25',\n",
    "                                                 expiryDateDEPC='12-31-2020',\n",
    "                                                 certificateNumberDEPC='2089')\n",
    "                   }        \n",
    "       \n",
    "print(\"Requests payload is :\",json.dumps(request_payload, indent=2))  \n"
   ]
  },
  {
   "cell_type": "markdown",
   "metadata": {},
   "source": [
    "Execute the below code to Run the Market Based Emission API\n",
    "\n"
   ]
  },
  {
   "cell_type": "code",
   "execution_count": 7,
   "metadata": {},
   "outputs": [
    {
     "data": {
      "text/html": [
       "<style type=\"text/css\">\n",
       "#T_45f75 table {\n",
       "  display: block;\n",
       "  overflow-x: auto;\n",
       "  white-space: nowrap;\n",
       "}\n",
       "</style>\n",
       "<table id=\"T_45f75\">\n",
       "  <thead>\n",
       "    <tr>\n",
       "      <th class=\"blank level0\" >&nbsp;</th>\n",
       "      <th id=\"T_45f75_level0_col0\" class=\"col_heading level0 col0\" >CO2e (metric tonne)</th>\n",
       "      <th id=\"T_45f75_level0_col1\" class=\"col_heading level0 col1\" >description</th>\n",
       "    </tr>\n",
       "  </thead>\n",
       "  <tbody>\n",
       "    <tr>\n",
       "      <th id=\"T_45f75_level0_row0\" class=\"row_heading level0 row0\" >0</th>\n",
       "      <td id=\"T_45f75_row0_col0\" class=\"data row0 col0\" >468.780000</td>\n",
       "      <td id=\"T_45f75_row0_col1\" class=\"data row0 col1\" >Total CO2e (metric tonne) avoided is 0.00 ... Invalid Renewable Energy Certificate (REC) - Expired. Invalid Renewable Energy Direct Instruments (REDI) - Expired. Invalid Direct Energy Purchase Contract (DEPC) - Expired. Location based is used due to lack of market specific residual emission factor. Latest grid average available emission factor for Alabama is from the year 2018 and it is published by US - EPA of USA, aggregated by UNFCC. </td>\n",
       "    </tr>\n",
       "  </tbody>\n",
       "</table>\n"
      ],
      "text/plain": [
       "<pandas.io.formats.style.Styler at 0x125ef33d0>"
      ]
     },
     "metadata": {},
     "output_type": "display_data"
    }
   ],
   "source": [
    "EI_API_ENDPOINT = f\"{EI_BASE_URL}/v2/carbon/market\"\n",
    "CO2Response = Call_Carbon_API(EI_API_ENDPOINT , request_payload, mybearer_token)\n",
    "\n",
    "df_res = pd.json_normalize(CO2Response)\n",
    "df_styled = df_res.style.set_table_styles([{\n",
    "    'selector': 'table',\n",
    "    'props' : [\n",
    "        ('display', 'block'),\n",
    "        ('overflow-x', 'auto'),\n",
    "        ('white-space', 'nowrap')\n",
    "    ]\n",
    "}])\n",
    "display_summary(df_styled)"
   ]
  },
  {
   "cell_type": "markdown",
   "metadata": {},
   "source": [
    "#### Output Explanation\n",
    "\n",
    "<b>CO2e</b> -            Release of amounts of total greenhouse gases emitted (metric tonne)"
   ]
  }
 ],
 "metadata": {
  "kernelspec": {
   "display_name": "Python 3",
   "language": "python",
   "name": "python3"
  },
  "language_info": {
   "codemirror_mode": {
    "name": "ipython",
    "version": 3
   },
   "file_extension": ".py",
   "mimetype": "text/x-python",
   "name": "python",
   "nbconvert_exporter": "python",
   "pygments_lexer": "ipython3",
   "version": "3.9.6"
  }
 },
 "nbformat": 4,
 "nbformat_minor": 2
}
