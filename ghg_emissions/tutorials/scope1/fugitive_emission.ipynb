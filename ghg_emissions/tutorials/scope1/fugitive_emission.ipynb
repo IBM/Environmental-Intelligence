{
 "cells": [
  {
   "cell_type": "markdown",
   "metadata": {},
   "source": [
    "# Fugitive Emissions"
   ]
  },
  {
   "cell_type": "markdown",
   "metadata": {},
   "source": [
    "**Table of contents**\n",
    "- Overview\n",
    "- Setup\n",
    "  - Get Token\n",
    "- Utility Functions\n",
    "    - Function to call API\n",
    "    - Input format for API\n",
    "- Example of Fugitive Emission Query\n",
    "  - Output Explanation\n",
    "- Related Links"
   ]
  },
  {
   "cell_type": "markdown",
   "metadata": {},
   "source": [
    "## Overview"
   ]
  },
  {
   "cell_type": "markdown",
   "metadata": {},
   "source": [
    "\n",
    "Scope 1 emissions are calculations of direct greenhouse gas (GHG) emissions that can be directly controlled by an organization. The source of the emissions is owned by the organization, for example, fossil fuels.\n",
    "\n",
    "Use this notebook to learn how to calculate fugitive emissions from leaks of greenhouse gasses (GHG) from refrigeration or air conditioning units.\n"
   ]
  },
  {
   "cell_type": "markdown",
   "metadata": {},
   "source": [
    "## Setup"
   ]
  },
  {
   "cell_type": "markdown",
   "metadata": {},
   "source": [
    "\n",
    "Ensure that you have Python installed in your system. Python 3+ is required.\n",
    "\n",
    "<b>Note:</b>  To run this notebook seamlessly, you must first configure your credentials for GHG Emission APIs in a file named `secrets.ini` in the following format:\n",
    "\n",
    "```\n",
    "[EI]\n",
    "api.api_key = <Your GHG APIs API key>\n",
    "api.client_id = <Your GHG APIs client Id>\n",
    "\n",
    "```\n",
    "\n",
    "Keep the secrets.ini file at an appropriate relative location of this notebook, for example, as specified in the following config.\n",
    "\n",
    "```config.read('../../auth/secrets.ini')```"
   ]
  },
  {
   "cell_type": "code",
   "execution_count": 1,
   "metadata": {},
   "outputs": [],
   "source": [
    "# Install the packages below using pip/pip3 based on your python version.\n",
    "# pip install pandas,configparser,json,IPython\n",
    "import pandas as pd\n",
    "import configparser\n",
    "import requests\n",
    "import json\n",
    "from IPython.display import display as display_summary"
   ]
  },
  {
   "cell_type": "markdown",
   "metadata": {},
   "source": [
    "### Get Token\n"
   ]
  },
  {
   "cell_type": "markdown",
   "metadata": {},
   "source": [
    "\n",
    "Run the following code snippet to generate the Auth Bearer Token by using your api_key configured in secrets.ini."
   ]
  },
  {
   "cell_type": "code",
   "execution_count": 13,
   "metadata": {},
   "outputs": [],
   "source": [
    "config = configparser.RawConfigParser()\n",
    "config.read(['../../auth/secrets.ini','../../auth/config.ini'])\n",
    "\n",
    "EI_API_KEY  = config.get('EI', 'api.api_key')\n",
    "EI_CLIENT_ID = config.get('EI', 'api.client_id')\n",
    "EI_AUTH_ENPOINT = config.get('EI', 'api.auth_endpoint')\n",
    "EI_BASE_URL = config.get('EI', 'api.base_url')\n",
    "\n",
    "def get_bearer_token(token):\n",
    "    headers = {\n",
    "        'Content-Type': 'application/json',\n",
    "        'cache-control': 'no-cache',\n",
    "    }\n",
    "    data = {\"apiKey\":token, \"clientId\":EI_CLIENT_ID}\n",
    "    bearer_token_req = requests.post(EI_AUTH_ENPOINT, headers=headers, data= json.dumps(data))\n",
    "    if bearer_token_req.status_code != 200:\n",
    "        print( \"Error in getting Bearer token. Error code : \",bearer_token_req.status_code)\n",
    "    return bearer_token_req.json()['access_token']\n",
    "\n",
    "mybearer_token = get_bearer_token(EI_API_KEY)\n"
   ]
  },
  {
   "cell_type": "markdown",
   "metadata": {},
   "source": [
    "The following code snippet sets the fugitive emission parameters.\n"
   ]
  },
  {
   "cell_type": "markdown",
   "metadata": {},
   "source": [
    "## Utility Functions"
   ]
  },
  {
   "cell_type": "markdown",
   "metadata": {},
   "source": [
    "### Function to call API"
   ]
  },
  {
   "cell_type": "code",
   "execution_count": 14,
   "metadata": {},
   "outputs": [],
   "source": [
    "def Call_Carbon_API(CO2API, Co2Data, token):\n",
    "    headers = {\n",
    "        'accept': 'application/json',\n",
    "        'Authorization': 'Bearer '+token,\n",
    "        'Content-Type': 'application/json',\n",
    "    }\n",
    "\n",
    "    CO2response_req = requests.post( CO2API, headers=headers, data=json.dumps(Co2Data))\n",
    "    if CO2response_req.status_code != 200:\n",
    "        print( \"Problem! Error in generating response. Error code : \",CO2response_req.status_code)\n",
    "    return CO2response_req.json()"
   ]
  },
  {
   "cell_type": "markdown",
   "metadata": {},
   "source": [
    "### Input format for API"
   ]
  },
  {
   "cell_type": "code",
   "execution_count": 18,
   "metadata": {},
   "outputs": [],
   "source": [
    "def customer_id(customerid):\n",
    "    Input =  {\n",
    "              \"id\": customerid\n",
    "          }\n",
    "    return Input \n",
    "\n",
    "def customer_onBehalfOfClient(companyId,companyName):\n",
    "    Input =  {\n",
    "              \"companyId\": companyId,\n",
    "              \"companyName\": companyName\n",
    "          }\n",
    "    return Input  \n",
    "\n",
    "\n",
    "def customer_organisation(departmentId,departmentName):\n",
    "    Input =  {\n",
    "              \"departmentId\": departmentId,\n",
    "              \"departmentName\": departmentName\n",
    "          }\n",
    "    return Input  \n",
    "\n",
    "\n",
    "def customer_requestType(requestType):\n",
    "    Input =  {\n",
    "              \"requestType\": requestType,\n",
    "             }\n",
    "    return Input     \n",
    "\n",
    "\n",
    "def customer_location(country,stateProvince,zipPostCode,city):\n",
    "    Input =  {\n",
    "              \"country\": country,\n",
    "              \"stateProvince\": stateProvince,\n",
    "              \"zipPostCode\": zipPostCode,\n",
    "              \"city\": city\n",
    "          }\n",
    "    return Input        \n",
    "\n",
    "\n",
    "def customer_site(siteId,siteName,buildingId,buildingName):\n",
    "    Input = {\n",
    "              \"siteId\": siteId,\n",
    "              \"siteName\": siteName,\n",
    "              \"buildingId\": buildingId,\n",
    "              \"buildingName\": buildingName\n",
    "          }               \n",
    "    return Input\n",
    "\n",
    "def fugitive_input(refrigerantName,refrigerantInventoryBeginning,refrigerantInventoryEnd,refrigerantsPurchasedFromProducers,\n",
    "                   refrigerantsProvidedByManufacturers,refrigerantsAddedToEquipment,\n",
    "                   refrigerantReturnedAfterRecycling,refrigerantSales,refrigerantLeftInEquipment,refrigerantReturnedToSuppliers,\n",
    "                   refrigerantForRecycling,refrigerantForDestruction,totalChargeNewEquipment,totalChargeRetrofitted,originalChargeEquipment,\n",
    "                   totalChargeEquipmentRetroAway,unitOfMeasurement):\n",
    "    input = {\"refrigerantName\": refrigerantName,\n",
    "             \"refrigerantInventoryBeginning\": refrigerantInventoryBeginning,\n",
    "             \"refrigerantInventoryEnd\": refrigerantInventoryEnd,\n",
    "             \"refrigerantsPurchasedFromProducers\": refrigerantsPurchasedFromProducers,\n",
    "             \"refrigerantsProvidedByManufacturers\": refrigerantsProvidedByManufacturers,\n",
    "             \"refrigerantsAddedToEquipment\": refrigerantsAddedToEquipment,\n",
    "             \"refrigerantReturnedAfterRecycling\": refrigerantReturnedAfterRecycling,\n",
    "             \"refrigerantSales\": refrigerantSales,\n",
    "             \"refrigerantLeftInEquipment\": refrigerantLeftInEquipment,\n",
    "             \"refrigerantReturnedToSuppliers\": refrigerantReturnedToSuppliers,\n",
    "             \"refrigerantForRecycling\": refrigerantForRecycling,\n",
    "             \"refrigerantForDestruction\": refrigerantForDestruction,\n",
    "             \"totalChargeNewEquipment\": totalChargeNewEquipment,\n",
    "             \"totalChargeRetrofitted\": totalChargeRetrofitted,\n",
    "             \"originalChargeEquipment\": originalChargeEquipment,\n",
    "             \"totalChargeEquipmentRetroAway\": totalChargeEquipmentRetroAway,\n",
    "             \"unitOfMeasurement\": unitOfMeasurement\n",
    "            }\n",
    "    return input"
   ]
  },
  {
   "cell_type": "markdown",
   "metadata": {},
   "source": [
    "## Example of Fugitive Emission Query\n"
   ]
  },
  {
   "cell_type": "markdown",
   "metadata": {},
   "source": [
    "\n",
    "You can check the accepted values for the individual fields of the request payload. For more information, see [GHG Emissions API Developer Guide](https://developer.ibm.com/apis/catalog/envintelsuite--ibm-environmental-intelligence/GHG+Emissions+API#fugitive).\n",
    "\n",
    "Run the following snippet to set the request payload for the Fugitive Emission Endpoint Query:"
   ]
  },
  {
   "cell_type": "code",
   "execution_count": 16,
   "metadata": {},
   "outputs": [
    {
     "name": "stdout",
     "output_type": "stream",
     "text": [
      "Requests payload is : {\n",
      "  \"customID\": {\n",
      "    \"id\": \"Retailer_A_fugitive_31234\"\n",
      "  },\n",
      "  \"onBehalfOfClient\": {\n",
      "    \"companyId\": \"877889877\",\n",
      "    \"companyName\": \"Retailer_A\"\n",
      "  },\n",
      "  \"organisation\": {\n",
      "    \"departmentId\": \"384834\",\n",
      "    \"departmentName\": \"Acme_retail\"\n",
      "  },\n",
      "  \"requestType\": {\n",
      "    \"requestType\": \"ACTUAL\"\n",
      "  },\n",
      "  \"location\": {\n",
      "    \"country\": \"England\",\n",
      "    \"stateProvince\": \"\",\n",
      "    \"zipPostCode\": \"\",\n",
      "    \"city\": \"London\"\n",
      "  },\n",
      "  \"site\": {\n",
      "    \"siteId\": \"T2383823\",\n",
      "    \"siteName\": \"Retailed_A_South_Bank\",\n",
      "    \"buildingId\": \"B38383\",\n",
      "    \"buildingName\": \"Building_6\"\n",
      "  },\n",
      "  \"timePeriod\": {\n",
      "    \"year\": \"2021\",\n",
      "    \"month\": \"1\"\n",
      "  },\n",
      "  \"activityData\": {\n",
      "    \"refrigerantName\": \"R-404A\",\n",
      "    \"refrigerantInventoryBeginning\": \"10\",\n",
      "    \"refrigerantInventoryEnd\": \"2\",\n",
      "    \"refrigerantsPurchasedFromProducers\": \"6\",\n",
      "    \"refrigerantsProvidedByManufacturers\": \"2\",\n",
      "    \"refrigerantsAddedToEquipment\": \"3\",\n",
      "    \"refrigerantReturnedAfterRecycling\": \"0\",\n",
      "    \"refrigerantSales\": \"3\",\n",
      "    \"refrigerantLeftInEquipment\": \"4\",\n",
      "    \"refrigerantReturnedToSuppliers\": \"1\",\n",
      "    \"refrigerantForRecycling\": \"0\",\n",
      "    \"refrigerantForDestruction\": \"0\",\n",
      "    \"totalChargeNewEquipment\": \"0\",\n",
      "    \"totalChargeRetrofitted\": \"0\",\n",
      "    \"originalChargeEquipment\": \"0\",\n",
      "    \"totalChargeEquipmentRetroAway\": \"0\",\n",
      "    \"unitOfMeasurement\": \"kilogram\"\n",
      "  }\n",
      "}\n"
     ]
    }
   ],
   "source": [
    "request_payload ={'customID'        : customer_id(customerid='Retailer_A_fugitive_31234'), \n",
    "                   'onBehalfOfClient': customer_onBehalfOfClient(companyId='877889877',\n",
    "                                                                 companyName='Retailer_A') , \n",
    "                   'organisation'    : customer_organisation(departmentId='384834',\n",
    "                                                             departmentName='Acme_retail'), \n",
    "                   'requestType'     : customer_requestType(requestType='ACTUAL'), \n",
    "                   'location'        : customer_location(country='England',\n",
    "                                                         stateProvince='',\n",
    "                                                         zipPostCode='',\n",
    "                                                         city='London'),\n",
    "                   'site'            : customer_site(siteId='T2383823',\n",
    "                                                     siteName='Retailed_A_South_Bank',\n",
    "                                                     buildingId='B38383',\n",
    "                                                     buildingName='Building_6'), \n",
    "                   'timePeriod'      : {'year' : '2021', \n",
    "                                        'month': '1'},\n",
    "                   'activityData' : fugitive_input(\n",
    "                          refrigerantName = 'R-404A',\n",
    "                          refrigerantInventoryBeginning ='10',\n",
    "                          refrigerantInventoryEnd ='2',\n",
    "                          refrigerantsPurchasedFromProducers='6',\n",
    "                          refrigerantsProvidedByManufacturers ='2',\n",
    "                          refrigerantsAddedToEquipment ='3',\n",
    "                          refrigerantReturnedAfterRecycling ='0',\n",
    "                          refrigerantSales ='3',\n",
    "                          refrigerantLeftInEquipment ='4',\n",
    "                          refrigerantReturnedToSuppliers ='1',\n",
    "                          refrigerantForRecycling ='0',\n",
    "                          refrigerantForDestruction ='0',\n",
    "                          totalChargeNewEquipment ='0',\n",
    "                          totalChargeRetrofitted ='0',\n",
    "                          originalChargeEquipment ='0',\n",
    "                          totalChargeEquipmentRetroAway='0',\n",
    "                          unitOfMeasurement='kilogram')\n",
    "                   }        \n",
    "       \n",
    "print(\"Requests payload is :\",json.dumps(request_payload, indent=2))   \n"
   ]
  },
  {
   "cell_type": "markdown",
   "metadata": {},
   "source": [
    "Use the following code to run the Fugitive API:\n",
    "\n"
   ]
  },
  {
   "cell_type": "code",
   "execution_count": 17,
   "metadata": {},
   "outputs": [
    {
     "data": {
      "text/html": [
       "<style type=\"text/css\">\n",
       "#T_f47f2 table {\n",
       "  display: block;\n",
       "  overflow-x: auto;\n",
       "  white-space: nowrap;\n",
       "}\n",
       "</style>\n",
       "<table id=\"T_f47f2\">\n",
       "  <thead>\n",
       "    <tr>\n",
       "      <th class=\"blank level0\" >&nbsp;</th>\n",
       "      <th id=\"T_f47f2_level0_col0\" class=\"col_heading level0 col0\" >CO2</th>\n",
       "      <th id=\"T_f47f2_level0_col1\" class=\"col_heading level0 col1\" >N2O</th>\n",
       "      <th id=\"T_f47f2_level0_col2\" class=\"col_heading level0 col2\" >CH4</th>\n",
       "      <th id=\"T_f47f2_level0_col3\" class=\"col_heading level0 col3\" >HFC</th>\n",
       "      <th id=\"T_f47f2_level0_col4\" class=\"col_heading level0 col4\" >PFC</th>\n",
       "      <th id=\"T_f47f2_level0_col5\" class=\"col_heading level0 col5\" >SF6</th>\n",
       "      <th id=\"T_f47f2_level0_col6\" class=\"col_heading level0 col6\" >NF3</th>\n",
       "      <th id=\"T_f47f2_level0_col7\" class=\"col_heading level0 col7\" >CO2e</th>\n",
       "      <th id=\"T_f47f2_level0_col8\" class=\"col_heading level0 col8\" >unitOfMeasurement</th>\n",
       "      <th id=\"T_f47f2_level0_col9\" class=\"col_heading level0 col9\" >description</th>\n",
       "    </tr>\n",
       "  </thead>\n",
       "  <tbody>\n",
       "    <tr>\n",
       "      <th id=\"T_f47f2_level0_row0\" class=\"row_heading level0 row0\" >0</th>\n",
       "      <td id=\"T_f47f2_row0_col0\" class=\"data row0 col0\" >0.000000</td>\n",
       "      <td id=\"T_f47f2_row0_col1\" class=\"data row0 col1\" >0.000000</td>\n",
       "      <td id=\"T_f47f2_row0_col2\" class=\"data row0 col2\" >0.000000</td>\n",
       "      <td id=\"T_f47f2_row0_col3\" class=\"data row0 col3\" >43.370800</td>\n",
       "      <td id=\"T_f47f2_row0_col4\" class=\"data row0 col4\" >0.000000</td>\n",
       "      <td id=\"T_f47f2_row0_col5\" class=\"data row0 col5\" >0.000000</td>\n",
       "      <td id=\"T_f47f2_row0_col6\" class=\"data row0 col6\" >0.000000</td>\n",
       "      <td id=\"T_f47f2_row0_col7\" class=\"data row0 col7\" >43.373000</td>\n",
       "      <td id=\"T_f47f2_row0_col8\" class=\"data row0 col8\" >metric tonne</td>\n",
       "      <td id=\"T_f47f2_row0_col9\" class=\"data row0 col9\" >Sales-Based Method is used. GWP of the blend is calculated using a weighted average from the blend composition and the 100-year GWPs from IPCC  Fifth Assessment Report, 2014 (AR5). The blend compositions are from EPA.</td>\n",
       "    </tr>\n",
       "  </tbody>\n",
       "</table>\n"
      ],
      "text/plain": [
       "<pandas.io.formats.style.Styler at 0x121515fa0>"
      ]
     },
     "metadata": {},
     "output_type": "display_data"
    }
   ],
   "source": [
    "EI_API_ENDPOINT = f\"{EI_BASE_URL}/v2/carbon/fugitive\"\n",
    "CO2Response = Call_Carbon_API(EI_API_ENDPOINT , request_payload, mybearer_token)\n",
    "\n",
    "df_res = pd.json_normalize(CO2Response)\n",
    "df_styled = df_res.style.set_table_styles([{\n",
    "    'selector': 'table',\n",
    "    'props' : [\n",
    "        ('display', 'block'),\n",
    "        ('overflow-x', 'auto'),\n",
    "        ('white-space', 'nowrap')\n",
    "    ]\n",
    "}])\n",
    "display_summary(df_styled)"
   ]
  },
  {
   "cell_type": "markdown",
   "metadata": {},
   "source": [
    "### Output Explanation"
   ]
  },
  {
   "cell_type": "markdown",
   "metadata": {},
   "source": [
    "\n",
    "<b>CO2</b> -              Release of carbon dioxide in metric tonnes\n",
    "\n",
    "<b>N2O </b>-              Release of nitrous oxide in metric tonnes\n",
    "\n",
    "<b>CH4 </b>-               Release of methane in metric tonnes\n",
    "\n",
    "<b>HFC </b>-               Release of hydrofluorocarbon in metric tonnes\n",
    "\n",
    "<b>PFC </b>-               Release of perfluorocarbon in metric tonnes\n",
    "\n",
    "<b>SF6 </b>-               Release of sulphur hexafluoride in metric tonnes\n",
    "\n",
    "<b>NF3 </b>-               Release of nitrogen trifluoride in metric tonnes\n",
    "\n",
    "<b>CO2e </b> -             Total greenhouse gases emitted in metric tonnes\n",
    "\n",
    "<b>unitOfMeasurement</b>-  Unit used to measure"
   ]
  },
  {
   "cell_type": "markdown",
   "metadata": {},
   "source": [
    "## Related Links"
   ]
  },
  {
   "cell_type": "markdown",
   "metadata": {},
   "source": [
    "[GHG Emissions API Developer Guide](https://developer.ibm.com/apis/catalog/envintelsuite--ibm-environmental-intelligence/GHG+Emissions+API)"
   ]
  }
 ],
 "metadata": {
  "kernelspec": {
   "display_name": "Python 3",
   "language": "python",
   "name": "python3"
  },
  "language_info": {
   "codemirror_mode": {
    "name": "ipython",
    "version": 3
   },
   "file_extension": ".py",
   "mimetype": "text/x-python",
   "name": "python",
   "nbconvert_exporter": "python",
   "pygments_lexer": "ipython3",
   "version": "3.9.6"
  }
 },
 "nbformat": 4,
 "nbformat_minor": 2
}
