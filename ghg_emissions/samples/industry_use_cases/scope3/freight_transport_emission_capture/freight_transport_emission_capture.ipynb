{
 "cells": [
  {
   "cell_type": "markdown",
   "metadata": {},
   "source": [
    "# Freight Transport Emission"
   ]
  },
  {
   "cell_type": "markdown",
   "metadata": {},
   "source": [
    "## Overview\n",
    "\n"
   ]
  },
  {
   "cell_type": "markdown",
   "metadata": {},
   "source": [
    "This notebook demonstrates how to compute GHG emissions associated with various transportation activities using the **Transportation and Distribution API**. The API offers several methods to calculate emissions, depending on the type and availability of data. These methods include:\n",
    "\n",
    "- **Fuel Use and Vehicle Distance**: Calculates emissions based on the amount of fuel consumed and the distance traveled by the vehicle.\n",
    "- **Vehicle Distance**: Estimates emissions using the type of vehicle and the distance it covers.\n",
    "- **Passenger Distance**: Computes emissions based on the number of passengers and the distance they travel.\n",
    "- **Weight Distance**: Determines emissions by considering the weight of the goods transported and the distance covered.\n",
    "\n",
    "In this notebook, we will focus on a practical example: **calculating the GHG emissions for freight transport from New York to Boston**. We will utilize the **Fuel Use and Vehicle Distance**, **Vehicle Distance**, and **Weight Distance** methods to showcase how the API can be used effectively for different data availablity scenarios."
   ]
  },
  {
   "cell_type": "markdown",
   "metadata": {},
   "source": [
    "![freight_transport_emission_capture.png](freight_transport_emission_capture.png)\n",
    "<p>&copy OpenStreetMap</p>"
   ]
  },
  {
   "cell_type": "markdown",
   "metadata": {},
   "source": [
    "### Setup\n",
    "\n",
    "Make sure you have Python installed in your system.(python 3+ is required)\n",
    "\n",
    "\n",
    "<b>Note:</b> To run this notebook seamlessly, you have to first configure your GHG Emission APIs' credentials in a file named `secrets.ini` in the format below:\n",
    "\n",
    "```\n",
    "[EI]\n",
    "api.api_key = <Your GHG APIs API key>\n",
    "api.client_id = <Your GHG APIs client Id>\n",
    "\n",
    "```\n",
    "\n",
    "Keep the secrets.ini file at an appropriate relative location of this notebook. For example, as specified in the below config.\n",
    "\n",
    "```config.read('../../auth/secrets.ini')```"
   ]
  },
  {
   "cell_type": "code",
   "execution_count": 10,
   "metadata": {},
   "outputs": [],
   "source": [
    "# Install the packages below using pip/pip3 based on your python version.\n",
    "#!pip install pandas configparser IPython plotly\n",
    "import pandas as pd\n",
    "import configparser\n",
    "import requests\n",
    "import json\n",
    "from IPython.display import display as display_summary"
   ]
  },
  {
   "cell_type": "markdown",
   "metadata": {},
   "source": [
    "### Get token\n",
    "\n",
    "\n",
    "Run the below code snippet to generate the Auth Bearer Token using your api_key configured in secrets.ini."
   ]
  },
  {
   "cell_type": "code",
   "execution_count": 11,
   "metadata": {},
   "outputs": [],
   "source": [
    "config = configparser.RawConfigParser()\n",
    "config.read(['../../../auth/secrets.ini','../../../auth/config.ini'])\n",
    "\n",
    "EI_API_KEY  = config.get('EI', 'api.api_key')\n",
    "EI_CLIENT_ID = config.get('EI', 'api.client_id')\n",
    "EI_AUTH_ENPOINT = config.get('EI', 'api.auth_endpoint')\n",
    "EI_BASE_URL = config.get('EI', 'api.base_url')\n",
    "\n",
    "def get_bearer_token(token):\n",
    "    headers = {\n",
    "        'Content-Type': 'application/json',\n",
    "        'cache-control': 'no-cache',\n",
    "    }\n",
    "    data = {\"apiKey\":token, \"clientId\":EI_CLIENT_ID}\n",
    "    bearer_token_req = requests.post(EI_AUTH_ENPOINT, headers=headers, data= json.dumps(data))\n",
    "    if bearer_token_req.status_code != 200:\n",
    "        print( \"Error in getting Bearer token. Error code : \",bearer_token_req.status_code)\n",
    "    return bearer_token_req.json()['access_token']\n",
    "\n",
    "mybearer_token = get_bearer_token(EI_API_KEY)"
   ]
  },
  {
   "cell_type": "markdown",
   "metadata": {},
   "source": [
    "### Utility Functions"
   ]
  },
  {
   "cell_type": "markdown",
   "metadata": {},
   "source": [
    "#### Function to call API"
   ]
  },
  {
   "cell_type": "code",
   "execution_count": 12,
   "metadata": {},
   "outputs": [],
   "source": [
    "def Call_Carbon_API(CO2API, Co2Data, token):\n",
    "    headers = {\n",
    "        'accept': 'application/json',\n",
    "        'Authorization': 'Bearer '+token,\n",
    "        'Content-Type': 'application/json',\n",
    "    }\n",
    "\n",
    "    CO2response_req = requests.post( CO2API, headers=headers, data=json.dumps(Co2Data))\n",
    "    if CO2response_req.status_code != 200:\n",
    "        print( \"Problem! Error in generating response. Error code : \",CO2response_req.status_code)\n",
    "    return CO2response_req.json()"
   ]
  },
  {
   "cell_type": "markdown",
   "metadata": {},
   "source": [
    "#### Input format for API"
   ]
  },
  {
   "cell_type": "code",
   "execution_count": 13,
   "metadata": {},
   "outputs": [],
   "source": [
    "def customer_id(customerid):\n",
    "    Input =  {\n",
    "              \"id\": customerid\n",
    "          }\n",
    "    return Input \n",
    "\n",
    "def customer_onBehalfOfClient(companyId,companyName):\n",
    "    Input =  {\n",
    "              \"companyId\": companyId,\n",
    "              \"companyName\": companyName\n",
    "          }\n",
    "    return Input  \n",
    "\n",
    "\n",
    "def customer_organisation(departmentId,departmentName):\n",
    "    Input =  {\n",
    "              \"departmentId\": departmentId,\n",
    "              \"departmentName\": departmentName\n",
    "          }\n",
    "    return Input  \n",
    "\n",
    "\n",
    "def customer_requestType(requestType):\n",
    "    Input =  {\n",
    "              \"requestType\": requestType,\n",
    "             }\n",
    "    return Input     \n",
    "\n",
    "\n",
    "def customer_location(country,stateProvince,zipPostCode,city):\n",
    "    Input =  {\n",
    "              \"country\": country,\n",
    "              \"stateProvince\": stateProvince,\n",
    "              \"zipPostCode\": zipPostCode,\n",
    "              \"city\": city\n",
    "          }\n",
    "    return Input        \n",
    "\n",
    "\n",
    "def customer_site(siteId,siteName,buildingId,buildingName):\n",
    "    Input = {\n",
    "              \"siteId\": siteId,\n",
    "              \"siteName\": siteName,\n",
    "              \"buildingId\": buildingId,\n",
    "              \"buildingName\": buildingName\n",
    "          }               \n",
    "    return Input\n",
    "\n",
    "def transportation_and_distribution_input(typeOfActivityData,vehicleType,distanceTravelled,\n",
    "                                          totalWeightOfFreight,numberOfPassengers,unitOfMeasurement,\n",
    "                                          fuelUsed,fuelAmount,unitOfFuelAmount):\n",
    "    input = {\"typeOfActivityData\": typeOfActivityData,\n",
    "             \"vehicleType\": vehicleType,\n",
    "             \"distanceTravelled\": distanceTravelled,\n",
    "             \"totalWeightOfFreight\": totalWeightOfFreight,\n",
    "             \"numberOfPassengers\": numberOfPassengers,\n",
    "             \"unitOfMeasurement\": unitOfMeasurement,\n",
    "             \"fuelUsed\": fuelUsed,\n",
    "             \"fuelAmount\": fuelAmount,\n",
    "             \"unitOfFuelAmount\": unitOfFuelAmount\n",
    "  }\n",
    "    return input"
   ]
  },
  {
   "cell_type": "markdown",
   "metadata": {},
   "source": [
    "#### Accepeted input values\n",
    "\n",
    "To check the accepted values for the individual fields of the request payload please visit:\n",
    "https://developer.ibm.com/apis/catalog/envintelsuite--ibm-environmental-intelligence/GHG+Emissions+API#transportation_and_distribution"
   ]
  },
  {
   "cell_type": "markdown",
   "metadata": {},
   "source": [
    "## Calculating Frieght Transport by Fuel and Distance "
   ]
  },
  {
   "cell_type": "markdown",
   "metadata": {},
   "source": [
    "Calculates Frieght Transport Emission based on the amount of fuel consumed and the distance traveled by the vehicle."
   ]
  },
  {
   "cell_type": "markdown",
   "metadata": {},
   "source": [
    "### Available infomation\n",
    "\n",
    "Vehicle type :  Heavy Goods Vehicle - Articulated \\\n",
    "Distance : 250 miles \\\n",
    "Fuel type : Gasoline\n",
    "Fuel used : 150 litre\n"
   ]
  },
  {
   "cell_type": "code",
   "execution_count": 14,
   "metadata": {},
   "outputs": [
    {
     "name": "stdout",
     "output_type": "stream",
     "text": [
      "Requests payload is : {\n",
      "  \"customID\": {\n",
      "    \"id\": \"123\"\n",
      "  },\n",
      "  \"onBehalfOfClient\": {\n",
      "    \"companyId\": \"111\",\n",
      "    \"companyName\": \"XYZ\"\n",
      "  },\n",
      "  \"organisation\": {\n",
      "    \"departmentId\": \"345\",\n",
      "    \"departmentName\": \"HR\"\n",
      "  },\n",
      "  \"requestType\": {\n",
      "    \"requestType\": \"ACTUAL\"\n",
      "  },\n",
      "  \"location\": {\n",
      "    \"country\": \"US\",\n",
      "    \"stateProvince\": \"New York\",\n",
      "    \"zipPostCode\": \"11430\",\n",
      "    \"city\": \"NYC\"\n",
      "  },\n",
      "  \"site\": {\n",
      "    \"siteId\": \"321\",\n",
      "    \"siteName\": \"PQR\",\n",
      "    \"buildingId\": \"123\",\n",
      "    \"buildingName\": \"ABC\"\n",
      "  },\n",
      "  \"timePeriod\": {\n",
      "    \"year\": \"2021\",\n",
      "    \"month\": \"10\"\n",
      "  },\n",
      "  \"activityData\": {\n",
      "    \"typeOfActivityData\": \"Fuel use and vehicle distance\",\n",
      "    \"vehicleType\": \"heavy duty vehicle - articulated - gasoline - year 2005-present\",\n",
      "    \"distanceTravelled\": \"250\",\n",
      "    \"totalWeightOfFreight\": \"\",\n",
      "    \"numberOfPassengers\": \"0\",\n",
      "    \"unitOfMeasurement\": \"Mile\",\n",
      "    \"fuelUsed\": \"gasoline/petrol\",\n",
      "    \"fuelAmount\": \"150\",\n",
      "    \"unitOfFuelAmount\": \"litre\"\n",
      "  }\n",
      "}\n"
     ]
    }
   ],
   "source": [
    "payload1 = {'customID'        : customer_id(customerid='123'), \n",
    "                   'onBehalfOfClient': customer_onBehalfOfClient(companyId='111',\n",
    "                                                                 companyName='XYZ') , \n",
    "                   'organisation'    : customer_organisation(departmentId='345',\n",
    "                                                             departmentName='HR'), \n",
    "                   'requestType'     : customer_requestType(requestType='ACTUAL'), \n",
    "                   'location'        : customer_location(country='US',\n",
    "                                                         stateProvince='New York',\n",
    "                                                         zipPostCode='11430',\n",
    "                                                         city='NYC'),\n",
    "                   'site'            : customer_site(siteId='321',\n",
    "                                                     siteName='PQR',\n",
    "                                                     buildingId='123',\n",
    "                                                     buildingName='ABC'), \n",
    "                   'timePeriod'      : {'year' : '2021', \n",
    "                                        'month': '10'},\n",
    "                   'activityData' : transportation_and_distribution_input(\n",
    "                                                                            typeOfActivityData =  \"Fuel use and vehicle distance\",\n",
    "                                                                            vehicleType =  \"heavy duty vehicle - articulated - gasoline - year 2005-present\",\n",
    "                                                                            distanceTravelled = \"250\",\n",
    "                                                                            totalWeightOfFreight = \"\",\n",
    "                                                                            numberOfPassengers = \"0\",\n",
    "                                                                            unitOfMeasurement = \"Mile\",\n",
    "                                                                            fuelUsed = \"gasoline/petrol\",\n",
    "                                                                            fuelAmount = \"150\",\n",
    "                                                                            unitOfFuelAmount = \"litre\" \n",
    "                                                                             )\n",
    "                   }        \n",
    "       \n",
    "print(\"Requests payload is :\",json.dumps(payload1, indent=2))\n"
   ]
  },
  {
   "cell_type": "code",
   "execution_count": 15,
   "metadata": {},
   "outputs": [
    {
     "data": {
      "text/html": [
       "<style type=\"text/css\">\n",
       "#T_a2f4c table {\n",
       "  display: block;\n",
       "  overflow-x: auto;\n",
       "  white-space: nowrap;\n",
       "}\n",
       "</style>\n",
       "<table id=\"T_a2f4c\">\n",
       "  <thead>\n",
       "    <tr>\n",
       "      <th class=\"blank level0\" >&nbsp;</th>\n",
       "      <th id=\"T_a2f4c_level0_col0\" class=\"col_heading level0 col0\" >fossilFuelCO2</th>\n",
       "      <th id=\"T_a2f4c_level0_col1\" class=\"col_heading level0 col1\" >biogenicCO2</th>\n",
       "      <th id=\"T_a2f4c_level0_col2\" class=\"col_heading level0 col2\" >CH4</th>\n",
       "      <th id=\"T_a2f4c_level0_col3\" class=\"col_heading level0 col3\" >N2O</th>\n",
       "      <th id=\"T_a2f4c_level0_col4\" class=\"col_heading level0 col4\" >CO2e</th>\n",
       "      <th id=\"T_a2f4c_level0_col5\" class=\"col_heading level0 col5\" >unitOfMeasurement</th>\n",
       "      <th id=\"T_a2f4c_level0_col6\" class=\"col_heading level0 col6\" >description</th>\n",
       "    </tr>\n",
       "  </thead>\n",
       "  <tbody>\n",
       "    <tr>\n",
       "      <th id=\"T_a2f4c_level0_row0\" class=\"row_heading level0 row0\" >0</th>\n",
       "      <td id=\"T_a2f4c_row0_col0\" class=\"data row0 col0\" >0.349103</td>\n",
       "      <td id=\"T_a2f4c_row0_col1\" class=\"data row0 col1\" >0.000000</td>\n",
       "      <td id=\"T_a2f4c_row0_col2\" class=\"data row0 col2\" >0.000008</td>\n",
       "      <td id=\"T_a2f4c_row0_col3\" class=\"data row0 col3\" >0.000004</td>\n",
       "      <td id=\"T_a2f4c_row0_col4\" class=\"data row0 col4\" >0.350504</td>\n",
       "      <td id=\"T_a2f4c_row0_col5\" class=\"data row0 col5\" >metric tonne</td>\n",
       "      <td id=\"T_a2f4c_row0_col6\" class=\"data row0 col6\" >Emission factors are from Cross-Sector Tools, GHG Protocol. GWP values are obtained from IPCC Fifth Assessment Report, 2014 (AR5)</td>\n",
       "    </tr>\n",
       "  </tbody>\n",
       "</table>\n"
      ],
      "text/plain": [
       "<pandas.io.formats.style.Styler at 0x11c2d2c70>"
      ]
     },
     "metadata": {},
     "output_type": "display_data"
    }
   ],
   "source": [
    "EI_API_ENDPOINT = f\"{EI_BASE_URL}/v2/carbon/transportation_and_distribution\"\n",
    "CO2Response_fuel_use_method = Call_Carbon_API(EI_API_ENDPOINT , payload1, mybearer_token)\n",
    "\n",
    "df_res = pd.json_normalize(CO2Response_fuel_use_method)\n",
    "df_styled = df_res.style.set_table_styles([{\n",
    "    'selector': 'table',\n",
    "    'props' : [\n",
    "        ('display', 'block'),\n",
    "        ('overflow-x', 'auto'),\n",
    "        ('white-space', 'nowrap')\n",
    "    ]\n",
    "}])\n",
    "display_summary(df_styled)"
   ]
  },
  {
   "cell_type": "markdown",
   "metadata": {},
   "source": [
    "## Calculating Frieght Transport by Weight and Distance "
   ]
  },
  {
   "cell_type": "markdown",
   "metadata": {},
   "source": [
    "Calculates Frieght Transport Emission by considering the weight of the goods transported and the distance covered."
   ]
  },
  {
   "cell_type": "markdown",
   "metadata": {},
   "source": [
    "### Available infomation\n",
    "\n",
    "Vehicle type :  Heavy Goods Vehicle - Articulated \\\n",
    "Distance : 250 miles \\\n",
    "Freight weight : 5 tonnes "
   ]
  },
  {
   "cell_type": "code",
   "execution_count": 17,
   "metadata": {},
   "outputs": [
    {
     "name": "stdout",
     "output_type": "stream",
     "text": [
      "Requests payload is : {\n",
      "  \"customID\": {\n",
      "    \"id\": \"123\"\n",
      "  },\n",
      "  \"onBehalfOfClient\": {\n",
      "    \"companyId\": \"111\",\n",
      "    \"companyName\": \"XYZ\"\n",
      "  },\n",
      "  \"organisation\": {\n",
      "    \"departmentId\": \"345\",\n",
      "    \"departmentName\": \"HR\"\n",
      "  },\n",
      "  \"requestType\": {\n",
      "    \"requestType\": \"ACTUAL\"\n",
      "  },\n",
      "  \"location\": {\n",
      "    \"country\": \"US\",\n",
      "    \"stateProvince\": \"New York\",\n",
      "    \"zipPostCode\": \"11430\",\n",
      "    \"city\": \"NYC\"\n",
      "  },\n",
      "  \"site\": {\n",
      "    \"siteId\": \"321\",\n",
      "    \"siteName\": \"PQR\",\n",
      "    \"buildingId\": \"123\",\n",
      "    \"buildingName\": \"ABC\"\n",
      "  },\n",
      "  \"timePeriod\": {\n",
      "    \"year\": \"2021\",\n",
      "    \"month\": \"10\"\n",
      "  },\n",
      "  \"activityData\": {\n",
      "    \"typeOfActivityData\": \"Weight Distance\",\n",
      "    \"vehicleType\": \"road vehicle - hgv - articulated - engine size 3.5 - 33 tonnes\",\n",
      "    \"distanceTravelled\": \"250\",\n",
      "    \"totalWeightOfFreight\": \"5\",\n",
      "    \"numberOfPassengers\": \"0\",\n",
      "    \"unitOfMeasurement\": \"Tonne Mile\",\n",
      "    \"fuelUsed\": \"\",\n",
      "    \"fuelAmount\": \"\",\n",
      "    \"unitOfFuelAmount\": \"\"\n",
      "  }\n",
      "}\n"
     ]
    }
   ],
   "source": [
    "payload2 = payload1.copy() #Same metadata as previous case\n",
    "payload2['activityData'] =  transportation_and_distribution_input(\n",
    "                                                typeOfActivityData =  \"Weight Distance\",\n",
    "                                                vehicleType =  \"road vehicle - hgv - articulated - engine size 3.5 - 33 tonnes\",\n",
    "                                                distanceTravelled = \"250\",\n",
    "                                                totalWeightOfFreight = \"5\",\n",
    "                                                numberOfPassengers = \"0\",\n",
    "                                                unitOfMeasurement = \"Tonne Mile\",\n",
    "                                                fuelUsed = \"\",\n",
    "                                                fuelAmount = \"\",\n",
    "                                                unitOfFuelAmount = \"\" \n",
    "                                                    )\n",
    "print(\"Requests payload is :\",json.dumps(payload2,  indent=2))"
   ]
  },
  {
   "cell_type": "code",
   "execution_count": 18,
   "metadata": {},
   "outputs": [
    {
     "data": {
      "text/html": [
       "<style type=\"text/css\">\n",
       "#T_f23c7 table {\n",
       "  display: block;\n",
       "  overflow-x: auto;\n",
       "  white-space: nowrap;\n",
       "}\n",
       "</style>\n",
       "<table id=\"T_f23c7\">\n",
       "  <thead>\n",
       "    <tr>\n",
       "      <th class=\"blank level0\" >&nbsp;</th>\n",
       "      <th id=\"T_f23c7_level0_col0\" class=\"col_heading level0 col0\" >fossilFuelCO2</th>\n",
       "      <th id=\"T_f23c7_level0_col1\" class=\"col_heading level0 col1\" >biogenicCO2</th>\n",
       "      <th id=\"T_f23c7_level0_col2\" class=\"col_heading level0 col2\" >CH4</th>\n",
       "      <th id=\"T_f23c7_level0_col3\" class=\"col_heading level0 col3\" >N2O</th>\n",
       "      <th id=\"T_f23c7_level0_col4\" class=\"col_heading level0 col4\" >CO2e</th>\n",
       "      <th id=\"T_f23c7_level0_col5\" class=\"col_heading level0 col5\" >description</th>\n",
       "      <th id=\"T_f23c7_level0_col6\" class=\"col_heading level0 col6\" >unitOfMeasurement</th>\n",
       "    </tr>\n",
       "  </thead>\n",
       "  <tbody>\n",
       "    <tr>\n",
       "      <th id=\"T_f23c7_level0_row0\" class=\"row_heading level0 row0\" >0</th>\n",
       "      <td id=\"T_f23c7_row0_col0\" class=\"data row0 col0\" >0.409233</td>\n",
       "      <td id=\"T_f23c7_row0_col1\" class=\"data row0 col1\" >0.000000</td>\n",
       "      <td id=\"T_f23c7_row0_col2\" class=\"data row0 col2\" >0.000005</td>\n",
       "      <td id=\"T_f23c7_row0_col3\" class=\"data row0 col3\" >0.000004</td>\n",
       "      <td id=\"T_f23c7_row0_col4\" class=\"data row0 col4\" >0.410354</td>\n",
       "      <td id=\"T_f23c7_row0_col5\" class=\"data row0 col5\" >Emission factors are from Cross-Sector Tools, GHG Protocol. GWP values are obtained from IPCC Fifth Assessment Report, 2014 (AR5)</td>\n",
       "      <td id=\"T_f23c7_row0_col6\" class=\"data row0 col6\" >metric tonne</td>\n",
       "    </tr>\n",
       "  </tbody>\n",
       "</table>\n"
      ],
      "text/plain": [
       "<pandas.io.formats.style.Styler at 0x11c3153d0>"
      ]
     },
     "metadata": {},
     "output_type": "display_data"
    }
   ],
   "source": [
    "EI_API_ENDPOINT = f\"{EI_BASE_URL}/v2/carbon/transportation_and_distribution\"\n",
    "CO2Response_weight_distance_method = Call_Carbon_API(EI_API_ENDPOINT , payload2, mybearer_token)\n",
    "\n",
    "df_res = pd.json_normalize(CO2Response_weight_distance_method)\n",
    "df_styled = df_res.style.set_table_styles([{\n",
    "    'selector': 'table',\n",
    "    'props' : [\n",
    "        ('display', 'block'),\n",
    "        ('overflow-x', 'auto'),\n",
    "        ('white-space', 'nowrap')\n",
    "    ]\n",
    "}])\n",
    "display_summary(df_styled)"
   ]
  },
  {
   "cell_type": "markdown",
   "metadata": {},
   "source": [
    "## Calculating Frieght Transport by Distance "
   ]
  },
  {
   "cell_type": "markdown",
   "metadata": {},
   "source": [
    "Calculates Frieght Transport Emission using the type of vehicle and the distance it covers."
   ]
  },
  {
   "cell_type": "markdown",
   "metadata": {},
   "source": [
    "### Available infomation\n",
    "\n",
    "Vehicle type :  Heavy Goods Vehicle - Articulated \\\n",
    "Distance : 250 miles \n"
   ]
  },
  {
   "cell_type": "code",
   "execution_count": 19,
   "metadata": {},
   "outputs": [
    {
     "name": "stdout",
     "output_type": "stream",
     "text": [
      "Requests payload is : {\n",
      "  \"customID\": {\n",
      "    \"id\": \"123\"\n",
      "  },\n",
      "  \"onBehalfOfClient\": {\n",
      "    \"companyId\": \"111\",\n",
      "    \"companyName\": \"XYZ\"\n",
      "  },\n",
      "  \"organisation\": {\n",
      "    \"departmentId\": \"345\",\n",
      "    \"departmentName\": \"HR\"\n",
      "  },\n",
      "  \"requestType\": {\n",
      "    \"requestType\": \"ACTUAL\"\n",
      "  },\n",
      "  \"location\": {\n",
      "    \"country\": \"US\",\n",
      "    \"stateProvince\": \"New York\",\n",
      "    \"zipPostCode\": \"11430\",\n",
      "    \"city\": \"NYC\"\n",
      "  },\n",
      "  \"site\": {\n",
      "    \"siteId\": \"321\",\n",
      "    \"siteName\": \"PQR\",\n",
      "    \"buildingId\": \"123\",\n",
      "    \"buildingName\": \"ABC\"\n",
      "  },\n",
      "  \"timePeriod\": {\n",
      "    \"year\": \"2021\",\n",
      "    \"month\": \"10\"\n",
      "  },\n",
      "  \"activityData\": {\n",
      "    \"typeOfActivityData\": \"Vehicle distance\",\n",
      "    \"vehicleType\": \"heavy duty vehicle - articulated - gasoline - year 2005-present\",\n",
      "    \"distanceTravelled\": \"250\",\n",
      "    \"totalWeightOfFreight\": \"\",\n",
      "    \"numberOfPassengers\": \"\",\n",
      "    \"unitOfMeasurement\": \"Mile\",\n",
      "    \"fuelUsed\": \"\",\n",
      "    \"fuelAmount\": \"\",\n",
      "    \"unitOfFuelAmount\": \"\"\n",
      "  }\n",
      "}\n"
     ]
    }
   ],
   "source": [
    "payload3 = payload1.copy() #Same metadata as previous case\n",
    "payload3['activityData'] =  transportation_and_distribution_input(\n",
    "                                                typeOfActivityData =  \"Vehicle distance\",\n",
    "                                                vehicleType =  \"heavy duty vehicle - articulated - gasoline - year 2005-present\",\n",
    "                                                distanceTravelled = \"250\",\n",
    "                                                totalWeightOfFreight = \"\",\n",
    "                                                numberOfPassengers = \"\",\n",
    "                                                unitOfMeasurement = \"Mile\",\n",
    "                                                fuelUsed = \"\",\n",
    "                                                fuelAmount = \"\",\n",
    "                                                unitOfFuelAmount = \"\" \n",
    "                                                    )\n",
    "print(\"Requests payload is :\",json.dumps(payload3,  indent=2))\n"
   ]
  },
  {
   "cell_type": "code",
   "execution_count": 20,
   "metadata": {},
   "outputs": [
    {
     "data": {
      "text/html": [
       "<style type=\"text/css\">\n",
       "#T_05592 table {\n",
       "  display: block;\n",
       "  overflow-x: auto;\n",
       "  white-space: nowrap;\n",
       "}\n",
       "</style>\n",
       "<table id=\"T_05592\">\n",
       "  <thead>\n",
       "    <tr>\n",
       "      <th class=\"blank level0\" >&nbsp;</th>\n",
       "      <th id=\"T_05592_level0_col0\" class=\"col_heading level0 col0\" >fossilFuelCO2</th>\n",
       "      <th id=\"T_05592_level0_col1\" class=\"col_heading level0 col1\" >biogenicCO2</th>\n",
       "      <th id=\"T_05592_level0_col2\" class=\"col_heading level0 col2\" >CH4</th>\n",
       "      <th id=\"T_05592_level0_col3\" class=\"col_heading level0 col3\" >N2O</th>\n",
       "      <th id=\"T_05592_level0_col4\" class=\"col_heading level0 col4\" >CO2e</th>\n",
       "      <th id=\"T_05592_level0_col5\" class=\"col_heading level0 col5\" >description</th>\n",
       "      <th id=\"T_05592_level0_col6\" class=\"col_heading level0 col6\" >unitOfMeasurement</th>\n",
       "    </tr>\n",
       "  </thead>\n",
       "  <tbody>\n",
       "    <tr>\n",
       "      <th id=\"T_05592_level0_row0\" class=\"row_heading level0 row0\" >0</th>\n",
       "      <td id=\"T_05592_row0_col0\" class=\"data row0 col0\" >0.373305</td>\n",
       "      <td id=\"T_05592_row0_col1\" class=\"data row0 col1\" >0.000000</td>\n",
       "      <td id=\"T_05592_row0_col2\" class=\"data row0 col2\" >0.000008</td>\n",
       "      <td id=\"T_05592_row0_col3\" class=\"data row0 col3\" >0.000004</td>\n",
       "      <td id=\"T_05592_row0_col4\" class=\"data row0 col4\" >0.374706</td>\n",
       "      <td id=\"T_05592_row0_col5\" class=\"data row0 col5\" >Emission factors are from Cross-Sector Tools, GHG Protocol. GWP values are obtained from IPCC Fifth Assessment Report, 2014 (AR5)</td>\n",
       "      <td id=\"T_05592_row0_col6\" class=\"data row0 col6\" >metric tonne</td>\n",
       "    </tr>\n",
       "  </tbody>\n",
       "</table>\n"
      ],
      "text/plain": [
       "<pandas.io.formats.style.Styler at 0x11c44ae20>"
      ]
     },
     "metadata": {},
     "output_type": "display_data"
    }
   ],
   "source": [
    "EI_API_ENDPOINT = f\"{EI_BASE_URL}/v2/carbon/transportation_and_distribution\"\n",
    "CO2Response_vehicle_distance_heavy = Call_Carbon_API(EI_API_ENDPOINT , payload3, mybearer_token)\n",
    "\n",
    "df_res = pd.json_normalize(CO2Response_vehicle_distance_heavy)\n",
    "df_styled = df_res.style.set_table_styles([{\n",
    "    'selector': 'table',\n",
    "    'props' : [\n",
    "        ('display', 'block'),\n",
    "        ('overflow-x', 'auto'),\n",
    "        ('white-space', 'nowrap')\n",
    "    ]\n",
    "}])\n",
    "display_summary(df_styled)"
   ]
  },
  {
   "cell_type": "markdown",
   "metadata": {},
   "source": [
    "## Output Explanation"
   ]
  },
  {
   "cell_type": "markdown",
   "metadata": {},
   "source": [
    "\n",
    "\n",
    "<b>fossilFuelCO2 </b> -     Release of amounts of Carbon Dioxide due to burning of fossil fuels (metric tonne)\n",
    "\n",
    "<b>biogenicCO2</b> -       Release of amounts of Carbon Dioxide due to combustion or decomposition of biomass and its derivatives (metric tonne)\n",
    "\n",
    "<b>CH4 </b>-               Release of amounts of Methane (metric tonne)\n",
    "\n",
    "<b>N2O </b>-               Release of amounts of Nitrous Oxide (metric tonne)\n",
    "\n",
    "<b>CO2e</b> -              Release of amounts of total greenhouse gases emitted (metric tonne)\n",
    "\n",
    "<b>unitOfMeasurement</b>-  Unit used to measure"
   ]
  },
  {
   "cell_type": "markdown",
   "metadata": {},
   "source": [
    "## Choosing correct Method type"
   ]
  },
  {
   "cell_type": "code",
   "execution_count": 21,
   "metadata": {},
   "outputs": [
    {
     "data": {
      "image/png": "[encoded data removed]",
      "text/plain": [
       "<Figure size 1000x600 with 1 Axes>"
      ]
     },
     "metadata": {},
     "output_type": "display_data"
    }
   ],
   "source": [
    "\n",
    "import matplotlib.pyplot as plt\n",
    "\n",
    "method_type = ['Fuel use & vehicle distance method', 'Weight distance method', 'Vehicle distance method']\n",
    "N = len(method_type)\n",
    "\n",
    "co2e_values = [round(CO2Response_fuel_use_method['CO2e'] ,3),round(CO2Response_weight_distance_method['CO2e'] ,3),round(CO2Response_vehicle_distance_heavy['CO2e'] ,3)]\n",
    "plt.figure(figsize=(10,6))\n",
    "plt.bar(method_type,co2e_values, color=['blue', 'green', 'red'])\n",
    "\n",
    "plt.xlabel('Calculation Method')\n",
    "plt.ylabel('CO2e Emissions (Metric Tons)')\n",
    "plt.title('Comparison of CO2e Emissions by Method Type')\n",
    "\n",
    "for i,v in enumerate(co2e_values):\n",
    "    plt.text(i, v+ 0.005, str(v), ha='center', fontsize=12)\n",
    "\n",
    "plt.show()\n"
   ]
  },
  {
   "cell_type": "markdown",
   "metadata": {},
   "source": [
    "![freight_transport_decision_tree.png](freight_transport_decision_tree.png)"
   ]
  },
  {
   "cell_type": "markdown",
   "metadata": {},
   "source": [
    "Using the decision tree above, the correct calculation method for the freight transport can be chosen."
   ]
  }
 ],
 "metadata": {
  "kernelspec": {
   "display_name": "Python 3 (ipykernel)",
   "language": "python",
   "name": "python3"
  },
  "language_info": {
   "codemirror_mode": {
    "name": "ipython",
    "version": 3
   },
   "file_extension": ".py",
   "mimetype": "text/x-python",
   "name": "python",
   "nbconvert_exporter": "python",
   "pygments_lexer": "ipython3",
   "version": "3.9.6"
  }
 },
 "nbformat": 4,
 "nbformat_minor": 4
}
