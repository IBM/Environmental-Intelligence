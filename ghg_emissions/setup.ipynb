{
 "cells": [
  {
   "cell_type": "markdown",
   "metadata": {},
   "source": [
    "## Setup"
   ]
  },
  {
   "cell_type": "markdown",
   "metadata": {},
   "source": [
    "### Setting up API key"
   ]
  },
  {
   "cell_type": "markdown",
   "metadata": {},
   "source": [
    "\n",
    "<b>Note:</b>  To run this notebook seamlessly, you must first configure your credentials for GHG Emission APIs in a file named `secrets.ini` in the following format:\n",
    "\n",
    "```\n",
    "[EI]\n",
    "api.api_key = <Your GHG APIs API key>\n",
    "api.client_id = <Your GHG APIs client Id>\n",
    "\n",
    "```\n",
    "\n",
    "Keep the secrets.ini file at an appropriate relative location of this notebook, for example, as specified in the following config.\n",
    "\n",
    "```config.read('../../auth/secrets.ini')```"
   ]
  },
  {
   "cell_type": "markdown",
   "metadata": {},
   "source": [
    "### Python and required libraries"
   ]
  },
  {
   "cell_type": "markdown",
   "metadata": {},
   "source": [
    "- Ensure that you have Python installed in your system. Python 3+ is required.\n",
    "\n",
    "- Install the follwoing to run our tutorials and samples more smoothly"
   ]
  },
  {
   "cell_type": "code",
   "execution_count": null,
   "metadata": {},
   "outputs": [],
   "source": [
    "! pip install pandas configparser IPython requests geopy tqdm openpyxl matplotlib plotly datetime kaleido"
   ]
  },
  {
   "cell_type": "markdown",
   "metadata": {},
   "source": [
    "### Running via VS code "
   ]
  },
  {
   "cell_type": "markdown",
   "metadata": {},
   "source": [
    "- Install VS Code from [here](https://code.visualstudio.com/).\n",
    "\n",
    "- Open our GIT project in VS Code.\n",
    "\n",
    "- Ensure that you have the Python extension installed in VS Code.\n",
    "\n",
    "- Install following libraries if not already installed using pip command (pandas configparser IPython requests geopy tqdm openpyxl matplotlib plotly datetime kaleido)"
   ]
  },
  {
   "cell_type": "markdown",
   "metadata": {},
   "source": [
    "### Running via Jupyter notebook"
   ]
  },
  {
   "cell_type": "markdown",
   "metadata": {},
   "source": [
    "- Install jupyter notebook using following command -  **pip install notebook**\n",
    "\n",
    "- Navigate to the ghg_emission folder using terminal/command prompt\n",
    "\n",
    "- Install following libraries if not already installed using pip command (pandas configparser IPython requests geopy tqdm openpyxl matplotlib plotly datetime kaleido)\n",
    "\n",
    "- Launch jupyter noteboook in terminal by typing - **jupyter notebook**\n"
   ]
  }
 ],
 "metadata": {
  "kernelspec": {
   "display_name": "Python 3",
   "language": "python",
   "name": "python3"
  },
  "language_info": {
   "codemirror_mode": {
    "name": "ipython",
    "version": 3
   },
   "file_extension": ".py",
   "mimetype": "text/x-python",
   "name": "python",
   "nbconvert_exporter": "python",
   "pygments_lexer": "ipython3",
   "version": "3.9.6"
  }
 },
 "nbformat": 4,
 "nbformat_minor": 2
}
